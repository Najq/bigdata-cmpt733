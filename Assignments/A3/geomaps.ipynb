{
 "cells": [
  {
   "cell_type": "code",
   "execution_count": 1,
   "metadata": {},
   "outputs": [],
   "source": [
    "import pandas as pd\n",
    "import os\n",
    "import datetime\n",
    "import plotly\n",
    "import plotly.express as px\n"
   ]
  },
  {
   "cell_type": "code",
   "execution_count": 2,
   "metadata": {},
   "outputs": [],
   "source": [
    "master_df = pd.read_csv('FinalFile.csv', sep=',', quotechar='\"', error_bad_lines=False)"
   ]
  },
  {
   "cell_type": "code",
   "execution_count": 3,
   "metadata": {},
   "outputs": [
    {
     "data": {
      "text/html": [
       "<div>\n",
       "<style scoped>\n",
       "    .dataframe tbody tr th:only-of-type {\n",
       "        vertical-align: middle;\n",
       "    }\n",
       "\n",
       "    .dataframe tbody tr th {\n",
       "        vertical-align: top;\n",
       "    }\n",
       "\n",
       "    .dataframe thead th {\n",
       "        text-align: right;\n",
       "    }\n",
       "</style>\n",
       "<table border=\"1\" class=\"dataframe\">\n",
       "  <thead>\n",
       "    <tr style=\"text-align: right;\">\n",
       "      <th></th>\n",
       "      <th>latitude</th>\n",
       "      <th>longitude</th>\n",
       "      <th>elevation</th>\n",
       "      <th>tmax</th>\n",
       "      <th>date</th>\n",
       "      <th>prediction</th>\n",
       "    </tr>\n",
       "  </thead>\n",
       "  <tbody>\n",
       "    <tr>\n",
       "      <th>0</th>\n",
       "      <td>-90.0</td>\n",
       "      <td>-180.0</td>\n",
       "      <td>0.0</td>\n",
       "      <td>0.0</td>\n",
       "      <td>25</td>\n",
       "      <td>26.767055</td>\n",
       "    </tr>\n",
       "    <tr>\n",
       "      <th>1</th>\n",
       "      <td>-89.5</td>\n",
       "      <td>-180.0</td>\n",
       "      <td>0.0</td>\n",
       "      <td>0.0</td>\n",
       "      <td>25</td>\n",
       "      <td>26.767055</td>\n",
       "    </tr>\n",
       "    <tr>\n",
       "      <th>2</th>\n",
       "      <td>-89.0</td>\n",
       "      <td>-180.0</td>\n",
       "      <td>0.0</td>\n",
       "      <td>0.0</td>\n",
       "      <td>25</td>\n",
       "      <td>26.767055</td>\n",
       "    </tr>\n",
       "    <tr>\n",
       "      <th>3</th>\n",
       "      <td>-88.5</td>\n",
       "      <td>-180.0</td>\n",
       "      <td>0.0</td>\n",
       "      <td>0.0</td>\n",
       "      <td>25</td>\n",
       "      <td>26.767055</td>\n",
       "    </tr>\n",
       "    <tr>\n",
       "      <th>4</th>\n",
       "      <td>-88.0</td>\n",
       "      <td>-180.0</td>\n",
       "      <td>0.0</td>\n",
       "      <td>0.0</td>\n",
       "      <td>25</td>\n",
       "      <td>26.767055</td>\n",
       "    </tr>\n",
       "    <tr>\n",
       "      <th>...</th>\n",
       "      <td>...</td>\n",
       "      <td>...</td>\n",
       "      <td>...</td>\n",
       "      <td>...</td>\n",
       "      <td>...</td>\n",
       "      <td>...</td>\n",
       "    </tr>\n",
       "    <tr>\n",
       "      <th>259195</th>\n",
       "      <td>87.5</td>\n",
       "      <td>179.5</td>\n",
       "      <td>0.0</td>\n",
       "      <td>0.0</td>\n",
       "      <td>25</td>\n",
       "      <td>-22.433163</td>\n",
       "    </tr>\n",
       "    <tr>\n",
       "      <th>259196</th>\n",
       "      <td>88.0</td>\n",
       "      <td>179.5</td>\n",
       "      <td>0.0</td>\n",
       "      <td>0.0</td>\n",
       "      <td>25</td>\n",
       "      <td>-22.433163</td>\n",
       "    </tr>\n",
       "    <tr>\n",
       "      <th>259197</th>\n",
       "      <td>88.5</td>\n",
       "      <td>179.5</td>\n",
       "      <td>0.0</td>\n",
       "      <td>0.0</td>\n",
       "      <td>25</td>\n",
       "      <td>-22.433163</td>\n",
       "    </tr>\n",
       "    <tr>\n",
       "      <th>259198</th>\n",
       "      <td>89.0</td>\n",
       "      <td>179.5</td>\n",
       "      <td>0.0</td>\n",
       "      <td>0.0</td>\n",
       "      <td>25</td>\n",
       "      <td>-22.433163</td>\n",
       "    </tr>\n",
       "    <tr>\n",
       "      <th>259199</th>\n",
       "      <td>89.5</td>\n",
       "      <td>179.5</td>\n",
       "      <td>0.0</td>\n",
       "      <td>0.0</td>\n",
       "      <td>25</td>\n",
       "      <td>-22.433163</td>\n",
       "    </tr>\n",
       "  </tbody>\n",
       "</table>\n",
       "<p>259200 rows × 6 columns</p>\n",
       "</div>"
      ],
      "text/plain": [
       "        latitude  longitude  elevation  tmax  date  prediction\n",
       "0          -90.0     -180.0        0.0   0.0    25   26.767055\n",
       "1          -89.5     -180.0        0.0   0.0    25   26.767055\n",
       "2          -89.0     -180.0        0.0   0.0    25   26.767055\n",
       "3          -88.5     -180.0        0.0   0.0    25   26.767055\n",
       "4          -88.0     -180.0        0.0   0.0    25   26.767055\n",
       "...          ...        ...        ...   ...   ...         ...\n",
       "259195      87.5      179.5        0.0   0.0    25  -22.433163\n",
       "259196      88.0      179.5        0.0   0.0    25  -22.433163\n",
       "259197      88.5      179.5        0.0   0.0    25  -22.433163\n",
       "259198      89.0      179.5        0.0   0.0    25  -22.433163\n",
       "259199      89.5      179.5        0.0   0.0    25  -22.433163\n",
       "\n",
       "[259200 rows x 6 columns]"
      ]
     },
     "execution_count": 3,
     "metadata": {},
     "output_type": "execute_result"
    }
   ],
   "source": [
    "master_df"
   ]
  },
  {
   "cell_type": "code",
   "execution_count": 4,
   "metadata": {},
   "outputs": [],
   "source": [
    "data = [dict(\n",
    "    type='scattergeo',\n",
    "    lon=master_df['longitude'],\n",
    "    lat=master_df['latitude'],\n",
    "    text=master_df['prediction'],\n",
    "    mode=\"markers\",\n",
    "    marker=dict(\n",
    "    color=master_df['prediction'],\n",
    "    colorscale=\"temps\",\n",
    "    opacity=0.4,\n",
    "    size=2,\n",
    "        colorbar=dict(\n",
    "        titleside=\"right\",outlinecolor=\"rgba(68,68,68,0)\")\n",
    "    )\n",
    "    )\n",
    "]\n",
    "\n",
    "layout = dict(\n",
    "    title=\"Density heatmap showing the temperature at each latitude and longitude\",\n",
    "    geo = dict(\n",
    "        scope=\"world\",\n",
    "        projection=dict(type=\"natural earth\"),\n",
    "        showland=True,\n",
    "        landcolor=\"rgb(250,250,250)\",\n",
    "        subunitcolor=\"rgb(217,217,217)\",\n",
    "        countrycolor=\"rgb(217,217,217)\",\n",
    "        countrywidth=0.5,\n",
    "        subunitwidth=0.5\n",
    "    ),\n",
    ")\n"
   ]
  },
  {
   "cell_type": "code",
   "execution_count": 5,
   "metadata": {
    "scrolled": false
   },
   "outputs": [],
   "source": [
    "fig = dict(data=data,layout=layout)\n",
    "\n"
   ]
  },
  {
   "cell_type": "code",
   "execution_count": 6,
   "metadata": {},
   "outputs": [
    {
     "data": {
      "text/plain": [
       "'fig.html'"
      ]
     },
     "execution_count": 6,
     "metadata": {},
     "output_type": "execute_result"
    }
   ],
   "source": [
    "from plotly.offline import plot\n",
    "#the maps take time load and may cause jupyter to crash, hence saving it as an html to open in a different browser window\n",
    "plot(fig, filename='fig.html') "
   ]
  },
  {
   "cell_type": "code",
   "execution_count": 3,
   "metadata": {},
   "outputs": [],
   "source": [
    "# showing the regression error\n",
    "\n",
    "\n",
    "testError_df = pd.read_csv('Test_error.csv', sep=',', quotechar='\"', error_bad_lines=False)\n",
    "\n",
    "\n"
   ]
  },
  {
   "cell_type": "code",
   "execution_count": 12,
   "metadata": {},
   "outputs": [
    {
     "data": {
      "text/plain": [
       "'Reg_Error.html'"
      ]
     },
     "execution_count": 12,
     "metadata": {},
     "output_type": "execute_result"
    }
   ],
   "source": [
    "data = [dict(\n",
    "    type='scattergeo',\n",
    "    lon=testError_df['longitude'],\n",
    "    lat=testError_df['latitude'],\n",
    "    text=testError_df['reg_error'],\n",
    "    mode=\"markers\",\n",
    "    marker=dict(\n",
    "    color=testError_df['prediction'],\n",
    "    colorscale=\"temps\",\n",
    "    size=2,\n",
    "        colorbar=dict(\n",
    "        titleside=\"right\",outlinecolor=\"rgba(68,68,68,0)\")\n",
    "    )\n",
    ")]\n",
    "\n",
    "layout=dict(\n",
    "    title=\"Error between predicted tmax values and test tmax values\",\n",
    "     geo = dict(\n",
    "        scope=\"world\",\n",
    "        projection=dict(type=\"equirectangular\"),\n",
    "         showland=True,\n",
    "     ),\n",
    ")\n",
    "\n",
    "fig = dict(data=data,layout=layout)\n",
    "\n",
    "from plotly.offline import plot\n",
    "#the maps take time load and may cause jupyter to crash, hence saving it as an html to open in a different browser window\n",
    "plot(fig, filename='Reg_Error.html') "
   ]
  },
  {
   "cell_type": "code",
   "execution_count": null,
   "metadata": {},
   "outputs": [],
   "source": []
  }
 ],
 "metadata": {
  "kernelspec": {
   "display_name": "Python 3",
   "language": "python",
   "name": "python3"
  },
  "language_info": {
   "codemirror_mode": {
    "name": "ipython",
    "version": 3
   },
   "file_extension": ".py",
   "mimetype": "text/x-python",
   "name": "python",
   "nbconvert_exporter": "python",
   "pygments_lexer": "ipython3",
   "version": "3.7.3"
  }
 },
 "nbformat": 4,
 "nbformat_minor": 2
}
