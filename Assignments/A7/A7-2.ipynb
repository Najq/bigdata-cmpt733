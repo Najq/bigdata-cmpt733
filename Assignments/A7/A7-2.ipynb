{
 "cells": [
  {
   "cell_type": "markdown",
   "metadata": {},
   "source": [
    "# Assignment 7: Automated Machine Learning (Part 2)\n",
    "## Objective:\n",
    "\n",
    "As we learned from the class, the high demand for machine learning has produced a large amount of data scientists who have developed expertise in tools and algorithms. The features in the data will directly influence the results. However, it is tedious and unscalable to manually design and select features without domain knowledge. Thus, using some AutoML techniques will significantly help data scientists save labour and time. \n",
    "After completing this assignment, you should be able to answer the following questions:\n",
    "\n",
    "1. Why do we need AutoML?\n",
    "2. How does auto feature generation work?\n",
    "3. How to use featuretools library to automatically generate features?\n",
    "4. How to get useful features in a large feature space?\n",
    "\n",
    "Imagine you are a data scientist in an online retailer company, for example, Amazon. Your task is to provide some recommendations to customers based on their historical purchase records.\n",
    "\n",
    "In this assignment, we predict whether the customer will buy **Banana** in the next 4 weeks. It is a classification problem. To simplify the problem, we have already generated some features and provide the accuracy of the model (Random Forest model). The task for you is to generate **10** useful features and beat our model performance (AUC = 0.61, see below). \n",
    "\n",
    "For example, <br>\n",
    "`MODE(orders.MODE(order_products.product_name)) = Bag of Organic Bananas` means whether the most frequent purchase of the customer is Bag of Organic Bananas. \n",
    "\n",
    "```\n",
    "1: Feature: MODE(orders.MODE(order_products.product_name)) = Bag of Organic Bananas\n",
    "2: Feature: MODE(order_products.aisle_id) is unknown\n",
    "3: Feature: SUM(orders.NUM_UNIQUE(order_products.product_name))\n",
    "4: Feature: MODE(orders.MODE(order_products.product_name)) = Boneless Skinless Chicken Breasts\n",
    "5: Feature: MODE(order_products.product_name) = Boneless Skinless Chicken Breasts\n",
    "6: Feature: STD(orders.NUM_UNIQUE(order_products.aisle_id))\n",
    "7: Feature: MODE(order_products.aisle_id) = 83\n",
    "8: Feature: MEDIAN(orders.MINUTE(order_time))\n",
    "9: Feature: MODE(orders.DAY(order_time)) = 23\n",
    "10: Feature: MODE(orders.MODE(order_products.department)) = produce\n",
    "\n",
    "AUC 0.61\n",
    "```\n",
    "\n",
    "\n",
    "## Preliminary\n",
    "If you never use featuretools before, you need to learn some basic knowledge of this topic. \n",
    "I found that these are some good resources: \n",
    "* [featuretools documentation](https://docs.featuretools.com/en/stable/)\n",
    "* [Tutorial: Automated Feature Engineering in Python](https://towardsdatascience.com/automated-feature-engineering-in-python-99baf11cc219)\n",
    "\n",
    "The data can be downloaded from [A7-2-data.zip](A7-2-data.zip). "
   ]
  },
  {
   "cell_type": "markdown",
   "metadata": {},
   "source": [
    "## 0. Preparation\n",
    "Import relevant libraries and load the dataset: <br>\n",
    "users: <br>\n",
    "* user_id: customer identifier\n",
    "* label:  1 if the customer will buy banana in next 4 weeks, 0 otherwise\n",
    "\n",
    "orders: <br>\n",
    "* order_id: order identifier\n",
    "* user_id: customer identifier\n",
    "* order_time: date of the order was placed on \n",
    "\n",
    "order_products: <br>\n",
    "* order_id: order identifier\n",
    "* order_product_id: foreign key\n",
    "* reordered:  1 if this product has been ordered by this user in the past, 0 otherwise\n",
    "* product_name: name of the product\n",
    "* aisle_id: aisle identifier\n",
    "* department: the name of the department\n",
    "* order_time: date of the order was placed on"
   ]
  },
  {
   "cell_type": "code",
   "execution_count": 1,
   "metadata": {},
   "outputs": [
    {
     "data": {
      "text/plain": [
       "'0.13.3'"
      ]
     },
     "execution_count": 1,
     "metadata": {},
     "output_type": "execute_result"
    }
   ],
   "source": [
    "import pandas as pd\n",
    "\n",
    "import featuretools as ft\n",
    "from sklearn.ensemble import RandomForestClassifier\n",
    "from sklearn.model_selection import cross_val_score\n",
    "import os\n",
    "ft.__version__"
   ]
  },
  {
   "cell_type": "code",
   "execution_count": 2,
   "metadata": {},
   "outputs": [
    {
     "name": "stdout",
     "output_type": "stream",
     "text": [
      "False    628\n",
      "True     139\n",
      "Name: label, dtype: int64\n"
     ]
    },
    {
     "data": {
      "text/plain": [
       "(5997, 4)"
      ]
     },
     "execution_count": 2,
     "metadata": {},
     "output_type": "execute_result"
    }
   ],
   "source": [
    "orders = pd.read_csv(\"orders.csv\")\n",
    "order_products = pd.read_csv(\"order_products.csv\")\n",
    "users = pd.read_csv(\"users.csv\")\n",
    "\n",
    "print(users[\"label\"].value_counts())\n",
    "orders.shape"
   ]
  },
  {
   "cell_type": "markdown",
   "metadata": {},
   "source": [
    "## Task 1. Feature Generation\n",
    "In this task, you need to use featuretools to generate candidate features by using the above three tables.\n",
    "\n",
    "### 1.1 Representing Data with EntitySet"
   ]
  },
  {
   "cell_type": "markdown",
   "metadata": {},
   "source": [
    "Define entities and their relationships (see [https://docs.featuretools.com/en/stable/generated/featuretools.EntitySet.html](https://docs.featuretools.com/en/stable/generated/featuretools.EntitySet.html))"
   ]
  },
  {
   "cell_type": "code",
   "execution_count": 49,
   "metadata": {},
   "outputs": [],
   "source": [
    "# Get the relationship between entities\n",
    "def load_entityset(orders, order_products, users):\n",
    "    \n",
    "    entities = {\n",
    "        \"orders\" : (orders, \"order_id\"),\n",
    "        \"order_products\" : (order_products, \"order_product_id\"),\n",
    "        \"users\" : (users, \"user_id\")\n",
    "    }\n",
    "    relationships = [(\"orders\", \"order_id\", \"order_products\", \"order_id\"),\n",
    "                     (\"users\", \"user_id\", \"orders\", \"user_id\")]\n",
    "    \n",
    "    obj = ft.EntitySet(\"orders_entityset\", entities, relationships)\n",
    "    # return the EntitySet object\n",
    "    return obj\n",
    "    \n",
    "    "
   ]
  },
  {
   "cell_type": "markdown",
   "metadata": {},
   "source": [
    "### 1.2 Deep Feature Synthesis"
   ]
  },
  {
   "cell_type": "code",
   "execution_count": 50,
   "metadata": {},
   "outputs": [],
   "source": [
    "# Automatically generate features\n",
    "es = load_entityset(orders, order_products, users)\n",
    "\n",
    "# use ft.dfs to perform feature engineering agg_primitives = ['mean', 'max', 'percent_true']\n",
    "\n",
    "feature_matrix, feature_defs = ft.dfs(entityset=es, target_entity='users', max_depth = 2)"
   ]
  },
  {
   "cell_type": "code",
   "execution_count": 70,
   "metadata": {},
   "outputs": [
    {
     "data": {
      "text/plain": [
       "[<Feature: Unnamed: 0>,\n",
       " <Feature: label>,\n",
       " <Feature: SUM(orders.Unnamed: 0)>,\n",
       " <Feature: STD(orders.Unnamed: 0)>,\n",
       " <Feature: MAX(orders.Unnamed: 0)>,\n",
       " <Feature: SKEW(orders.Unnamed: 0)>,\n",
       " <Feature: MIN(orders.Unnamed: 0)>,\n",
       " <Feature: MEAN(orders.Unnamed: 0)>,\n",
       " <Feature: COUNT(orders)>,\n",
       " <Feature: SUM(order_products.Unnamed: 0)>,\n",
       " <Feature: SUM(order_products.aisle_id)>,\n",
       " <Feature: SUM(order_products.reordered)>,\n",
       " <Feature: STD(order_products.Unnamed: 0)>,\n",
       " <Feature: STD(order_products.aisle_id)>,\n",
       " <Feature: STD(order_products.reordered)>,\n",
       " <Feature: MAX(order_products.Unnamed: 0)>,\n",
       " <Feature: MAX(order_products.aisle_id)>,\n",
       " <Feature: MAX(order_products.reordered)>,\n",
       " <Feature: SKEW(order_products.Unnamed: 0)>,\n",
       " <Feature: SKEW(order_products.aisle_id)>,\n",
       " <Feature: SKEW(order_products.reordered)>,\n",
       " <Feature: MIN(order_products.Unnamed: 0)>,\n",
       " <Feature: MIN(order_products.aisle_id)>,\n",
       " <Feature: MIN(order_products.reordered)>,\n",
       " <Feature: MEAN(order_products.Unnamed: 0)>,\n",
       " <Feature: MEAN(order_products.aisle_id)>,\n",
       " <Feature: MEAN(order_products.reordered)>,\n",
       " <Feature: COUNT(order_products)>,\n",
       " <Feature: NUM_UNIQUE(order_products.product_name)>,\n",
       " <Feature: NUM_UNIQUE(order_products.department)>,\n",
       " <Feature: MODE(order_products.product_name)>,\n",
       " <Feature: MODE(order_products.department)>,\n",
       " <Feature: SUM(orders.SKEW(order_products.Unnamed: 0))>,\n",
       " <Feature: SUM(orders.MEAN(order_products.reordered))>,\n",
       " <Feature: SUM(orders.MAX(order_products.aisle_id))>,\n",
       " <Feature: SUM(orders.NUM_UNIQUE(order_products.product_name))>,\n",
       " <Feature: SUM(orders.MAX(order_products.Unnamed: 0))>,\n",
       " <Feature: SUM(orders.STD(order_products.Unnamed: 0))>,\n",
       " <Feature: SUM(orders.MAX(order_products.reordered))>,\n",
       " <Feature: SUM(orders.MIN(order_products.reordered))>,\n",
       " <Feature: SUM(orders.MEAN(order_products.aisle_id))>,\n",
       " <Feature: SUM(orders.MEAN(order_products.Unnamed: 0))>,\n",
       " <Feature: SUM(orders.STD(order_products.reordered))>,\n",
       " <Feature: SUM(orders.MIN(order_products.Unnamed: 0))>,\n",
       " <Feature: SUM(orders.SKEW(order_products.aisle_id))>,\n",
       " <Feature: SUM(orders.STD(order_products.aisle_id))>,\n",
       " <Feature: SUM(orders.MIN(order_products.aisle_id))>,\n",
       " <Feature: SUM(orders.NUM_UNIQUE(order_products.department))>,\n",
       " <Feature: SUM(orders.SKEW(order_products.reordered))>,\n",
       " <Feature: STD(orders.SKEW(order_products.Unnamed: 0))>,\n",
       " <Feature: STD(orders.MEAN(order_products.reordered))>,\n",
       " <Feature: STD(orders.MAX(order_products.aisle_id))>,\n",
       " <Feature: STD(orders.NUM_UNIQUE(order_products.product_name))>,\n",
       " <Feature: STD(orders.SUM(order_products.reordered))>,\n",
       " <Feature: STD(orders.SUM(order_products.Unnamed: 0))>,\n",
       " <Feature: STD(orders.MAX(order_products.Unnamed: 0))>,\n",
       " <Feature: STD(orders.MAX(order_products.reordered))>,\n",
       " <Feature: STD(orders.MIN(order_products.reordered))>,\n",
       " <Feature: STD(orders.SUM(order_products.aisle_id))>,\n",
       " <Feature: STD(orders.MEAN(order_products.aisle_id))>,\n",
       " <Feature: STD(orders.MEAN(order_products.Unnamed: 0))>,\n",
       " <Feature: STD(orders.MIN(order_products.Unnamed: 0))>,\n",
       " <Feature: STD(orders.SKEW(order_products.aisle_id))>,\n",
       " <Feature: STD(orders.COUNT(order_products))>,\n",
       " <Feature: STD(orders.MIN(order_products.aisle_id))>,\n",
       " <Feature: STD(orders.NUM_UNIQUE(order_products.department))>,\n",
       " <Feature: STD(orders.SKEW(order_products.reordered))>,\n",
       " <Feature: MAX(orders.SKEW(order_products.Unnamed: 0))>,\n",
       " <Feature: MAX(orders.MEAN(order_products.reordered))>,\n",
       " <Feature: MAX(orders.NUM_UNIQUE(order_products.product_name))>,\n",
       " <Feature: MAX(orders.SUM(order_products.reordered))>,\n",
       " <Feature: MAX(orders.SUM(order_products.Unnamed: 0))>,\n",
       " <Feature: MAX(orders.STD(order_products.Unnamed: 0))>,\n",
       " <Feature: MAX(orders.MIN(order_products.reordered))>,\n",
       " <Feature: MAX(orders.SUM(order_products.aisle_id))>,\n",
       " <Feature: MAX(orders.MEAN(order_products.aisle_id))>,\n",
       " <Feature: MAX(orders.MEAN(order_products.Unnamed: 0))>,\n",
       " <Feature: MAX(orders.STD(order_products.reordered))>,\n",
       " <Feature: MAX(orders.MIN(order_products.Unnamed: 0))>,\n",
       " <Feature: MAX(orders.SKEW(order_products.aisle_id))>,\n",
       " <Feature: MAX(orders.STD(order_products.aisle_id))>,\n",
       " <Feature: MAX(orders.COUNT(order_products))>,\n",
       " <Feature: MAX(orders.MIN(order_products.aisle_id))>,\n",
       " <Feature: MAX(orders.NUM_UNIQUE(order_products.department))>,\n",
       " <Feature: MAX(orders.SKEW(order_products.reordered))>,\n",
       " <Feature: SKEW(orders.MEAN(order_products.reordered))>,\n",
       " <Feature: SKEW(orders.MAX(order_products.aisle_id))>,\n",
       " <Feature: SKEW(orders.NUM_UNIQUE(order_products.product_name))>,\n",
       " <Feature: SKEW(orders.SUM(order_products.reordered))>,\n",
       " <Feature: SKEW(orders.SUM(order_products.Unnamed: 0))>,\n",
       " <Feature: SKEW(orders.MAX(order_products.Unnamed: 0))>,\n",
       " <Feature: SKEW(orders.STD(order_products.Unnamed: 0))>,\n",
       " <Feature: SKEW(orders.MAX(order_products.reordered))>,\n",
       " <Feature: SKEW(orders.MIN(order_products.reordered))>,\n",
       " <Feature: SKEW(orders.SUM(order_products.aisle_id))>,\n",
       " <Feature: SKEW(orders.MEAN(order_products.aisle_id))>,\n",
       " <Feature: SKEW(orders.MEAN(order_products.Unnamed: 0))>,\n",
       " <Feature: SKEW(orders.STD(order_products.reordered))>,\n",
       " <Feature: SKEW(orders.MIN(order_products.Unnamed: 0))>,\n",
       " <Feature: SKEW(orders.STD(order_products.aisle_id))>,\n",
       " <Feature: SKEW(orders.COUNT(order_products))>,\n",
       " <Feature: SKEW(orders.MIN(order_products.aisle_id))>,\n",
       " <Feature: SKEW(orders.NUM_UNIQUE(order_products.department))>,\n",
       " <Feature: MIN(orders.SKEW(order_products.Unnamed: 0))>,\n",
       " <Feature: MIN(orders.MEAN(order_products.reordered))>,\n",
       " <Feature: MIN(orders.MAX(order_products.aisle_id))>,\n",
       " <Feature: MIN(orders.NUM_UNIQUE(order_products.product_name))>,\n",
       " <Feature: MIN(orders.SUM(order_products.reordered))>,\n",
       " <Feature: MIN(orders.SUM(order_products.Unnamed: 0))>,\n",
       " <Feature: MIN(orders.MAX(order_products.Unnamed: 0))>,\n",
       " <Feature: MIN(orders.STD(order_products.Unnamed: 0))>,\n",
       " <Feature: MIN(orders.MAX(order_products.reordered))>,\n",
       " <Feature: MIN(orders.SUM(order_products.aisle_id))>,\n",
       " <Feature: MIN(orders.MEAN(order_products.aisle_id))>,\n",
       " <Feature: MIN(orders.MEAN(order_products.Unnamed: 0))>,\n",
       " <Feature: MIN(orders.STD(order_products.reordered))>,\n",
       " <Feature: MIN(orders.SKEW(order_products.aisle_id))>,\n",
       " <Feature: MIN(orders.STD(order_products.aisle_id))>,\n",
       " <Feature: MIN(orders.COUNT(order_products))>,\n",
       " <Feature: MIN(orders.NUM_UNIQUE(order_products.department))>,\n",
       " <Feature: MIN(orders.SKEW(order_products.reordered))>,\n",
       " <Feature: MEAN(orders.SKEW(order_products.Unnamed: 0))>,\n",
       " <Feature: MEAN(orders.MEAN(order_products.reordered))>,\n",
       " <Feature: MEAN(orders.MAX(order_products.aisle_id))>,\n",
       " <Feature: MEAN(orders.NUM_UNIQUE(order_products.product_name))>,\n",
       " <Feature: MEAN(orders.SUM(order_products.reordered))>,\n",
       " <Feature: MEAN(orders.SUM(order_products.Unnamed: 0))>,\n",
       " <Feature: MEAN(orders.MAX(order_products.Unnamed: 0))>,\n",
       " <Feature: MEAN(orders.STD(order_products.Unnamed: 0))>,\n",
       " <Feature: MEAN(orders.MAX(order_products.reordered))>,\n",
       " <Feature: MEAN(orders.MIN(order_products.reordered))>,\n",
       " <Feature: MEAN(orders.SUM(order_products.aisle_id))>,\n",
       " <Feature: MEAN(orders.MEAN(order_products.aisle_id))>,\n",
       " <Feature: MEAN(orders.MEAN(order_products.Unnamed: 0))>,\n",
       " <Feature: MEAN(orders.STD(order_products.reordered))>,\n",
       " <Feature: MEAN(orders.MIN(order_products.Unnamed: 0))>,\n",
       " <Feature: MEAN(orders.SKEW(order_products.aisle_id))>,\n",
       " <Feature: MEAN(orders.STD(order_products.aisle_id))>,\n",
       " <Feature: MEAN(orders.COUNT(order_products))>,\n",
       " <Feature: MEAN(orders.MIN(order_products.aisle_id))>,\n",
       " <Feature: MEAN(orders.NUM_UNIQUE(order_products.department))>,\n",
       " <Feature: MEAN(orders.SKEW(order_products.reordered))>,\n",
       " <Feature: NUM_UNIQUE(orders.YEAR(order_time))>,\n",
       " <Feature: NUM_UNIQUE(orders.WEEKDAY(order_time))>,\n",
       " <Feature: NUM_UNIQUE(orders.MODE(order_products.product_name))>,\n",
       " <Feature: NUM_UNIQUE(orders.MONTH(order_time))>,\n",
       " <Feature: NUM_UNIQUE(orders.MODE(order_products.department))>,\n",
       " <Feature: NUM_UNIQUE(orders.DAY(order_time))>,\n",
       " <Feature: MODE(orders.YEAR(order_time))>,\n",
       " <Feature: MODE(orders.WEEKDAY(order_time))>,\n",
       " <Feature: MODE(orders.MODE(order_products.product_name))>,\n",
       " <Feature: MODE(orders.MONTH(order_time))>,\n",
       " <Feature: MODE(orders.MODE(order_products.department))>,\n",
       " <Feature: MODE(orders.DAY(order_time))>,\n",
       " <Feature: SUM(order_products.orders.Unnamed: 0)>,\n",
       " <Feature: STD(order_products.orders.Unnamed: 0)>,\n",
       " <Feature: MAX(order_products.orders.Unnamed: 0)>,\n",
       " <Feature: SKEW(order_products.orders.Unnamed: 0)>,\n",
       " <Feature: MIN(order_products.orders.Unnamed: 0)>,\n",
       " <Feature: MEAN(order_products.orders.Unnamed: 0)>,\n",
       " <Feature: NUM_UNIQUE(order_products.orders.user_id)>,\n",
       " <Feature: MODE(order_products.orders.user_id)>]"
      ]
     },
     "execution_count": 70,
     "metadata": {},
     "output_type": "execute_result"
    }
   ],
   "source": [
    "# output what features you generate\n",
    "feature_defs"
   ]
  },
  {
   "cell_type": "markdown",
   "metadata": {},
   "source": [
    "## Task 2. Feature Selection\n",
    "In this task, you are going to select 10 features that are useful and train the *Random Forest* model. The goal is to beat the accuracy performance as we have shown before. Note that you have to use the Random Forest and the hyperparameters we provide in Section 2.2. In other words, your job is to achieve a higher AUC than 0.61 through feature generation/selection rather than through hyperparameter tuning or model selectoin. \n",
    "\n",
    "### 2.1 Select top features"
   ]
  },
  {
   "cell_type": "code",
   "execution_count": 103,
   "metadata": {},
   "outputs": [],
   "source": [
    "# Select top-10 features and return X, y (X.shape = (767, 10)\n",
    "from sklearn.feature_selection import SelectKBest\n",
    "from sklearn.feature_selection import chi2\n",
    "from sklearn.preprocessing import MinMaxScaler\n",
    "import numpy as np\n",
    "\n",
    "\n",
    "#selecing features to encode - selected only Features which had MODE since they were of string type\n",
    "features_to_encode = [i for i in feature_defs if 'MODE' in str(i)] \n",
    "#appendig label feature\n",
    "features_to_encode.append(feature_defs[1])\n",
    "\n",
    "\n",
    "feature_matrix_copy = feature_matrix.copy()\n",
    "#encoding features\n",
    "feature_matrix_copy, f_encoded = ft.encode_features(feature_matrix_copy,features_to_encode)\n",
    "\n",
    "\n",
    "feature_matrix_copy = feature_matrix_copy.dropna()\n",
    "#making the y label\n",
    "y = feature_matrix_copy['label']\n",
    "\n",
    "feature_matrix_copy = feature_matrix_copy.drop(columns=['label'])\n",
    "\n",
    "#scaling values to remove large positive and negative values\n",
    "scaler = MinMaxScaler()\n",
    "feature_matrix_copy = scaler.fit_transform(feature_matrix_copy)\n",
    "\n",
    "\n",
    "#selecting top 10 features and making a matrix\n",
    "X = SelectKBest(chi2, k=10).fit_transform(feature_matrix_copy, y)\n",
    "\n"
   ]
  },
  {
   "cell_type": "markdown",
   "metadata": {},
   "source": [
    "### 2.2 Get accuracy and list features"
   ]
  },
  {
   "cell_type": "code",
   "execution_count": 104,
   "metadata": {},
   "outputs": [
    {
     "name": "stderr",
     "output_type": "stream",
     "text": [
      "[Parallel(n_jobs=1)]: Using backend SequentialBackend with 1 concurrent workers.\n",
      "[Parallel(n_jobs=1)]: Done   3 out of   3 | elapsed:    1.0s finished\n"
     ]
    },
    {
     "name": "stdout",
     "output_type": "stream",
     "text": [
      "AUC 0.72\n"
     ]
    }
   ],
   "source": [
    "clf = RandomForestClassifier(n_estimators=400, n_jobs=-1)\n",
    "scores = cross_val_score(estimator=clf,X=X, y=y, cv=3,\n",
    "                             scoring=\"roc_auc\", verbose=True)\n",
    "\n",
    "print(\"AUC %.2f\" % (scores.mean()))\n",
    "\n",
    "# Print top-10 features\n",
    "\n"
   ]
  },
  {
   "cell_type": "markdown",
   "metadata": {},
   "source": [
    "## Task3. Writing Questions\n",
    "\n",
    "1. Please list three advantages and disadvantages of featuretools. \n",
    "2. For those disadvantages you listed above, do you have any idea to improve it? "
   ]
  },
  {
   "cell_type": "markdown",
   "metadata": {},
   "source": [
    "1) Advantages \n",
    "\n",
    "a) very useful for relational datasets, we can easily make relations using the entityset obj\n",
    "\n",
    "b) we can select the depth of transformations and aggregations that we want\n",
    "\n",
    "c) Deep Feature synthesis develops robust features, without the need to understand the domain\n",
    "\n",
    "1) Dis-Advantages \n",
    "\n",
    "a) Featuretools is intended to run on datasets that can fit in the memory of a single machine, therefore cannot be used on distributed data\n",
    "\n",
    "b) only supports relational models as of now\n",
    "\n",
    "c) only for supervises algorithms, unsupervised not supported\n",
    "\n",
    "Ideas to improve it-\n",
    "1) Featuretools needs to develop a distributed wrapper so that it can be run on Spark and on large datasets"
   ]
  },
  {
   "cell_type": "markdown",
   "metadata": {},
   "source": [
    "## Submission\n",
    "Complete the code in this notebook, and submit it to the CourSys activity Assignment 7."
   ]
  }
 ],
 "metadata": {
  "kernelspec": {
   "display_name": "Python 3",
   "language": "python",
   "name": "python3"
  },
  "language_info": {
   "codemirror_mode": {
    "name": "ipython",
    "version": 3
   },
   "file_extension": ".py",
   "mimetype": "text/x-python",
   "name": "python",
   "nbconvert_exporter": "python",
   "pygments_lexer": "ipython3",
   "version": "3.7.3"
  }
 },
 "nbformat": 4,
 "nbformat_minor": 2
}
