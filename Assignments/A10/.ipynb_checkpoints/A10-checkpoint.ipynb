{
 "cells": [
  {
   "cell_type": "code",
   "execution_count": 71,
   "metadata": {},
   "outputs": [],
   "source": [
    "#author - Najeeb Qazi\n",
    "\n",
    "import pandas as pd\n",
    "import numpy as np\n",
    "from rfpimp import *\n",
    "import pandas as pd\n",
    "from sklearn.ensemble import RandomForestRegressor\n",
    "from sklearn.model_selection import train_test_split\n",
    "from sklearn.metrics import mean_squared_error"
   ]
  },
  {
   "cell_type": "code",
   "execution_count": 72,
   "metadata": {},
   "outputs": [],
   "source": [
    "cell28_df = pd.read_csv(\"ch6_cell28_dev_feat1_filtered.tsv.gz\",compression=\"gzip\",sep=\"\\t\")"
   ]
  },
  {
   "cell_type": "code",
   "execution_count": 73,
   "metadata": {},
   "outputs": [
    {
     "data": {
      "text/html": [
       "<div>\n",
       "<style scoped>\n",
       "    .dataframe tbody tr th:only-of-type {\n",
       "        vertical-align: middle;\n",
       "    }\n",
       "\n",
       "    .dataframe tbody tr th {\n",
       "        vertical-align: top;\n",
       "    }\n",
       "\n",
       "    .dataframe thead th {\n",
       "        text-align: right;\n",
       "    }\n",
       "</style>\n",
       "<table border=\"1\" class=\"dataframe\">\n",
       "  <thead>\n",
       "    <tr style=\"text-align: right;\">\n",
       "      <th></th>\n",
       "      <th>name</th>\n",
       "      <th>rel#count</th>\n",
       "      <th>http://dbpedia.org/ontology/area#1</th>\n",
       "      <th>http://dbpedia.org/ontology/areaCode#count</th>\n",
       "      <th>http://dbpedia.org/ontology/areaLand#count</th>\n",
       "      <th>http://dbpedia.org/ontology/areaLand#1</th>\n",
       "      <th>http://dbpedia.org/ontology/areaLand#2</th>\n",
       "      <th>http://dbpedia.org/ontology/areaTotal#count</th>\n",
       "      <th>http://dbpedia.org/ontology/areaTotal#1</th>\n",
       "      <th>http://dbpedia.org/ontology/areaWater#count</th>\n",
       "      <th>...</th>\n",
       "      <th>http://www.w3.org/2000/01/rdf-schema#seeAlso#3@&lt;http://dbpedia.org/resource/History_of_Hamburg&gt;</th>\n",
       "      <th>http://www.w3.org/2000/01/rdf-schema#seeAlso#3@&lt;http://dbpedia.org/resource/List_of_people_from_Bolton&gt;</th>\n",
       "      <th>http://www.w3.org/2000/01/rdf-schema#seeAlso#3@&lt;http://dbpedia.org/resource/List_of_educational_institutions&gt;</th>\n",
       "      <th>http://www.w3.org/2000/01/rdf-schema#seeAlso#3@&lt;http://dbpedia.org/resource/History_of_local_government&gt;</th>\n",
       "      <th>http://www.w3.org/2000/01/rdf-schema#seeAlso#3@&lt;http://dbpedia.org/resource/Hainan&gt;</th>\n",
       "      <th>http://www.w3.org/2000/01/rdf-schema#seeAlso#3@OTHER</th>\n",
       "      <th>http://xmlns.com/foaf/0.1/homepage#count</th>\n",
       "      <th>http://xmlns.com/foaf/0.1/name#count</th>\n",
       "      <th>http://xmlns.com/foaf/0.1/nick#count</th>\n",
       "      <th>population</th>\n",
       "    </tr>\n",
       "  </thead>\n",
       "  <tbody>\n",
       "    <tr>\n",
       "      <th>0</th>\n",
       "      <td>&lt;http://dbpedia.org/resource/Ankara&gt;</td>\n",
       "      <td>2.856124</td>\n",
       "      <td>0.0</td>\n",
       "      <td>0.30103</td>\n",
       "      <td>0.000000</td>\n",
       "      <td>0.0</td>\n",
       "      <td>0.000000e+00</td>\n",
       "      <td>0.301030</td>\n",
       "      <td>2.452100e+10</td>\n",
       "      <td>0.000000</td>\n",
       "      <td>...</td>\n",
       "      <td>0.0</td>\n",
       "      <td>0.0</td>\n",
       "      <td>0.0</td>\n",
       "      <td>0.0</td>\n",
       "      <td>0.0</td>\n",
       "      <td>0.0</td>\n",
       "      <td>0.477121</td>\n",
       "      <td>0.301030</td>\n",
       "      <td>0.30103</td>\n",
       "      <td>6.661582</td>\n",
       "    </tr>\n",
       "    <tr>\n",
       "      <th>1</th>\n",
       "      <td>&lt;http://dbpedia.org/resource/Amsterdam&gt;</td>\n",
       "      <td>3.358316</td>\n",
       "      <td>0.0</td>\n",
       "      <td>0.30103</td>\n",
       "      <td>0.301030</td>\n",
       "      <td>165760000.0</td>\n",
       "      <td>0.000000e+00</td>\n",
       "      <td>0.301030</td>\n",
       "      <td>2.193200e+08</td>\n",
       "      <td>0.301030</td>\n",
       "      <td>...</td>\n",
       "      <td>0.0</td>\n",
       "      <td>0.0</td>\n",
       "      <td>0.0</td>\n",
       "      <td>0.0</td>\n",
       "      <td>0.0</td>\n",
       "      <td>1.0</td>\n",
       "      <td>0.301030</td>\n",
       "      <td>0.301030</td>\n",
       "      <td>0.30103</td>\n",
       "      <td>5.925489</td>\n",
       "    </tr>\n",
       "    <tr>\n",
       "      <th>2</th>\n",
       "      <td>&lt;http://dbpedia.org/resource/Aarhus&gt;</td>\n",
       "      <td>2.561101</td>\n",
       "      <td>0.0</td>\n",
       "      <td>0.30103</td>\n",
       "      <td>0.000000</td>\n",
       "      <td>0.0</td>\n",
       "      <td>0.000000e+00</td>\n",
       "      <td>0.000000</td>\n",
       "      <td>0.000000e+00</td>\n",
       "      <td>0.000000</td>\n",
       "      <td>...</td>\n",
       "      <td>0.0</td>\n",
       "      <td>0.0</td>\n",
       "      <td>0.0</td>\n",
       "      <td>0.0</td>\n",
       "      <td>0.0</td>\n",
       "      <td>0.0</td>\n",
       "      <td>0.301030</td>\n",
       "      <td>0.301030</td>\n",
       "      <td>0.00000</td>\n",
       "      <td>5.422780</td>\n",
       "    </tr>\n",
       "    <tr>\n",
       "      <th>3</th>\n",
       "      <td>&lt;http://dbpedia.org/resource/Adelaide&gt;</td>\n",
       "      <td>2.955207</td>\n",
       "      <td>0.0</td>\n",
       "      <td>0.00000</td>\n",
       "      <td>0.000000</td>\n",
       "      <td>0.0</td>\n",
       "      <td>0.000000e+00</td>\n",
       "      <td>0.000000</td>\n",
       "      <td>0.000000e+00</td>\n",
       "      <td>0.000000</td>\n",
       "      <td>...</td>\n",
       "      <td>0.0</td>\n",
       "      <td>0.0</td>\n",
       "      <td>0.0</td>\n",
       "      <td>0.0</td>\n",
       "      <td>0.0</td>\n",
       "      <td>1.0</td>\n",
       "      <td>0.000000</td>\n",
       "      <td>0.301030</td>\n",
       "      <td>0.00000</td>\n",
       "      <td>6.119513</td>\n",
       "    </tr>\n",
       "    <tr>\n",
       "      <th>4</th>\n",
       "      <td>&lt;http://dbpedia.org/resource/Ames,_Iowa&gt;</td>\n",
       "      <td>2.082785</td>\n",
       "      <td>0.0</td>\n",
       "      <td>0.00000</td>\n",
       "      <td>0.477121</td>\n",
       "      <td>62700000.0</td>\n",
       "      <td>6.270361e+07</td>\n",
       "      <td>0.477121</td>\n",
       "      <td>6.286000e+07</td>\n",
       "      <td>0.477121</td>\n",
       "      <td>...</td>\n",
       "      <td>0.0</td>\n",
       "      <td>0.0</td>\n",
       "      <td>0.0</td>\n",
       "      <td>0.0</td>\n",
       "      <td>0.0</td>\n",
       "      <td>1.0</td>\n",
       "      <td>0.301030</td>\n",
       "      <td>0.301030</td>\n",
       "      <td>0.00000</td>\n",
       "      <td>4.770594</td>\n",
       "    </tr>\n",
       "    <tr>\n",
       "      <th>...</th>\n",
       "      <td>...</td>\n",
       "      <td>...</td>\n",
       "      <td>...</td>\n",
       "      <td>...</td>\n",
       "      <td>...</td>\n",
       "      <td>...</td>\n",
       "      <td>...</td>\n",
       "      <td>...</td>\n",
       "      <td>...</td>\n",
       "      <td>...</td>\n",
       "      <td>...</td>\n",
       "      <td>...</td>\n",
       "      <td>...</td>\n",
       "      <td>...</td>\n",
       "      <td>...</td>\n",
       "      <td>...</td>\n",
       "      <td>...</td>\n",
       "      <td>...</td>\n",
       "      <td>...</td>\n",
       "      <td>...</td>\n",
       "      <td>...</td>\n",
       "    </tr>\n",
       "    <tr>\n",
       "      <th>44954</th>\n",
       "      <td>&lt;http://dbpedia.org/resource/Uralo-Kavkaz&gt;</td>\n",
       "      <td>1.000000</td>\n",
       "      <td>0.0</td>\n",
       "      <td>0.00000</td>\n",
       "      <td>0.000000</td>\n",
       "      <td>0.0</td>\n",
       "      <td>0.000000e+00</td>\n",
       "      <td>0.000000</td>\n",
       "      <td>0.000000e+00</td>\n",
       "      <td>0.000000</td>\n",
       "      <td>...</td>\n",
       "      <td>0.0</td>\n",
       "      <td>0.0</td>\n",
       "      <td>0.0</td>\n",
       "      <td>0.0</td>\n",
       "      <td>0.0</td>\n",
       "      <td>1.0</td>\n",
       "      <td>0.000000</td>\n",
       "      <td>0.477121</td>\n",
       "      <td>0.00000</td>\n",
       "      <td>3.407391</td>\n",
       "    </tr>\n",
       "    <tr>\n",
       "      <th>44955</th>\n",
       "      <td>&lt;http://dbpedia.org/resource/Vradiivka&gt;</td>\n",
       "      <td>1.000000</td>\n",
       "      <td>0.0</td>\n",
       "      <td>0.00000</td>\n",
       "      <td>0.000000</td>\n",
       "      <td>0.0</td>\n",
       "      <td>0.000000e+00</td>\n",
       "      <td>0.000000</td>\n",
       "      <td>0.000000e+00</td>\n",
       "      <td>0.000000</td>\n",
       "      <td>...</td>\n",
       "      <td>0.0</td>\n",
       "      <td>0.0</td>\n",
       "      <td>0.0</td>\n",
       "      <td>0.0</td>\n",
       "      <td>0.0</td>\n",
       "      <td>1.0</td>\n",
       "      <td>0.000000</td>\n",
       "      <td>0.477121</td>\n",
       "      <td>0.00000</td>\n",
       "      <td>3.924072</td>\n",
       "    </tr>\n",
       "    <tr>\n",
       "      <th>44956</th>\n",
       "      <td>&lt;http://dbpedia.org/resource/Alor_Gajah&gt;</td>\n",
       "      <td>1.342423</td>\n",
       "      <td>0.0</td>\n",
       "      <td>0.00000</td>\n",
       "      <td>0.000000</td>\n",
       "      <td>0.0</td>\n",
       "      <td>0.000000e+00</td>\n",
       "      <td>0.000000</td>\n",
       "      <td>0.000000e+00</td>\n",
       "      <td>0.000000</td>\n",
       "      <td>...</td>\n",
       "      <td>0.0</td>\n",
       "      <td>0.0</td>\n",
       "      <td>0.0</td>\n",
       "      <td>0.0</td>\n",
       "      <td>0.0</td>\n",
       "      <td>1.0</td>\n",
       "      <td>0.301030</td>\n",
       "      <td>0.301030</td>\n",
       "      <td>0.00000</td>\n",
       "      <td>4.327706</td>\n",
       "    </tr>\n",
       "    <tr>\n",
       "      <th>44957</th>\n",
       "      <td>&lt;http://dbpedia.org/resource/Tiruppur&gt;</td>\n",
       "      <td>1.505150</td>\n",
       "      <td>0.0</td>\n",
       "      <td>0.30103</td>\n",
       "      <td>0.000000</td>\n",
       "      <td>0.0</td>\n",
       "      <td>0.000000e+00</td>\n",
       "      <td>0.301030</td>\n",
       "      <td>1.596000e+08</td>\n",
       "      <td>0.000000</td>\n",
       "      <td>...</td>\n",
       "      <td>0.0</td>\n",
       "      <td>0.0</td>\n",
       "      <td>0.0</td>\n",
       "      <td>0.0</td>\n",
       "      <td>0.0</td>\n",
       "      <td>1.0</td>\n",
       "      <td>0.301030</td>\n",
       "      <td>0.477121</td>\n",
       "      <td>0.30103</td>\n",
       "      <td>5.943385</td>\n",
       "    </tr>\n",
       "    <tr>\n",
       "      <th>44958</th>\n",
       "      <td>&lt;http://dbpedia.org/resource/Okny&gt;</td>\n",
       "      <td>1.041393</td>\n",
       "      <td>0.0</td>\n",
       "      <td>0.00000</td>\n",
       "      <td>0.000000</td>\n",
       "      <td>0.0</td>\n",
       "      <td>0.000000e+00</td>\n",
       "      <td>0.000000</td>\n",
       "      <td>0.000000e+00</td>\n",
       "      <td>0.000000</td>\n",
       "      <td>...</td>\n",
       "      <td>0.0</td>\n",
       "      <td>0.0</td>\n",
       "      <td>0.0</td>\n",
       "      <td>0.0</td>\n",
       "      <td>0.0</td>\n",
       "      <td>1.0</td>\n",
       "      <td>0.000000</td>\n",
       "      <td>0.477121</td>\n",
       "      <td>0.00000</td>\n",
       "      <td>3.727541</td>\n",
       "    </tr>\n",
       "  </tbody>\n",
       "</table>\n",
       "<p>44959 rows × 381 columns</p>\n",
       "</div>"
      ],
      "text/plain": [
       "                                             name  rel#count  \\\n",
       "0            <http://dbpedia.org/resource/Ankara>   2.856124   \n",
       "1         <http://dbpedia.org/resource/Amsterdam>   3.358316   \n",
       "2            <http://dbpedia.org/resource/Aarhus>   2.561101   \n",
       "3          <http://dbpedia.org/resource/Adelaide>   2.955207   \n",
       "4        <http://dbpedia.org/resource/Ames,_Iowa>   2.082785   \n",
       "...                                           ...        ...   \n",
       "44954  <http://dbpedia.org/resource/Uralo-Kavkaz>   1.000000   \n",
       "44955     <http://dbpedia.org/resource/Vradiivka>   1.000000   \n",
       "44956    <http://dbpedia.org/resource/Alor_Gajah>   1.342423   \n",
       "44957      <http://dbpedia.org/resource/Tiruppur>   1.505150   \n",
       "44958          <http://dbpedia.org/resource/Okny>   1.041393   \n",
       "\n",
       "       http://dbpedia.org/ontology/area#1  \\\n",
       "0                                     0.0   \n",
       "1                                     0.0   \n",
       "2                                     0.0   \n",
       "3                                     0.0   \n",
       "4                                     0.0   \n",
       "...                                   ...   \n",
       "44954                                 0.0   \n",
       "44955                                 0.0   \n",
       "44956                                 0.0   \n",
       "44957                                 0.0   \n",
       "44958                                 0.0   \n",
       "\n",
       "       http://dbpedia.org/ontology/areaCode#count  \\\n",
       "0                                         0.30103   \n",
       "1                                         0.30103   \n",
       "2                                         0.30103   \n",
       "3                                         0.00000   \n",
       "4                                         0.00000   \n",
       "...                                           ...   \n",
       "44954                                     0.00000   \n",
       "44955                                     0.00000   \n",
       "44956                                     0.00000   \n",
       "44957                                     0.30103   \n",
       "44958                                     0.00000   \n",
       "\n",
       "       http://dbpedia.org/ontology/areaLand#count  \\\n",
       "0                                        0.000000   \n",
       "1                                        0.301030   \n",
       "2                                        0.000000   \n",
       "3                                        0.000000   \n",
       "4                                        0.477121   \n",
       "...                                           ...   \n",
       "44954                                    0.000000   \n",
       "44955                                    0.000000   \n",
       "44956                                    0.000000   \n",
       "44957                                    0.000000   \n",
       "44958                                    0.000000   \n",
       "\n",
       "       http://dbpedia.org/ontology/areaLand#1  \\\n",
       "0                                         0.0   \n",
       "1                                 165760000.0   \n",
       "2                                         0.0   \n",
       "3                                         0.0   \n",
       "4                                  62700000.0   \n",
       "...                                       ...   \n",
       "44954                                     0.0   \n",
       "44955                                     0.0   \n",
       "44956                                     0.0   \n",
       "44957                                     0.0   \n",
       "44958                                     0.0   \n",
       "\n",
       "       http://dbpedia.org/ontology/areaLand#2  \\\n",
       "0                                0.000000e+00   \n",
       "1                                0.000000e+00   \n",
       "2                                0.000000e+00   \n",
       "3                                0.000000e+00   \n",
       "4                                6.270361e+07   \n",
       "...                                       ...   \n",
       "44954                            0.000000e+00   \n",
       "44955                            0.000000e+00   \n",
       "44956                            0.000000e+00   \n",
       "44957                            0.000000e+00   \n",
       "44958                            0.000000e+00   \n",
       "\n",
       "       http://dbpedia.org/ontology/areaTotal#count  \\\n",
       "0                                         0.301030   \n",
       "1                                         0.301030   \n",
       "2                                         0.000000   \n",
       "3                                         0.000000   \n",
       "4                                         0.477121   \n",
       "...                                            ...   \n",
       "44954                                     0.000000   \n",
       "44955                                     0.000000   \n",
       "44956                                     0.000000   \n",
       "44957                                     0.301030   \n",
       "44958                                     0.000000   \n",
       "\n",
       "       http://dbpedia.org/ontology/areaTotal#1  \\\n",
       "0                                 2.452100e+10   \n",
       "1                                 2.193200e+08   \n",
       "2                                 0.000000e+00   \n",
       "3                                 0.000000e+00   \n",
       "4                                 6.286000e+07   \n",
       "...                                        ...   \n",
       "44954                             0.000000e+00   \n",
       "44955                             0.000000e+00   \n",
       "44956                             0.000000e+00   \n",
       "44957                             1.596000e+08   \n",
       "44958                             0.000000e+00   \n",
       "\n",
       "       http://dbpedia.org/ontology/areaWater#count  ...  \\\n",
       "0                                         0.000000  ...   \n",
       "1                                         0.301030  ...   \n",
       "2                                         0.000000  ...   \n",
       "3                                         0.000000  ...   \n",
       "4                                         0.477121  ...   \n",
       "...                                            ...  ...   \n",
       "44954                                     0.000000  ...   \n",
       "44955                                     0.000000  ...   \n",
       "44956                                     0.000000  ...   \n",
       "44957                                     0.000000  ...   \n",
       "44958                                     0.000000  ...   \n",
       "\n",
       "       http://www.w3.org/2000/01/rdf-schema#seeAlso#3@<http://dbpedia.org/resource/History_of_Hamburg>  \\\n",
       "0                                                    0.0                                                 \n",
       "1                                                    0.0                                                 \n",
       "2                                                    0.0                                                 \n",
       "3                                                    0.0                                                 \n",
       "4                                                    0.0                                                 \n",
       "...                                                  ...                                                 \n",
       "44954                                                0.0                                                 \n",
       "44955                                                0.0                                                 \n",
       "44956                                                0.0                                                 \n",
       "44957                                                0.0                                                 \n",
       "44958                                                0.0                                                 \n",
       "\n",
       "       http://www.w3.org/2000/01/rdf-schema#seeAlso#3@<http://dbpedia.org/resource/List_of_people_from_Bolton>  \\\n",
       "0                                                    0.0                                                         \n",
       "1                                                    0.0                                                         \n",
       "2                                                    0.0                                                         \n",
       "3                                                    0.0                                                         \n",
       "4                                                    0.0                                                         \n",
       "...                                                  ...                                                         \n",
       "44954                                                0.0                                                         \n",
       "44955                                                0.0                                                         \n",
       "44956                                                0.0                                                         \n",
       "44957                                                0.0                                                         \n",
       "44958                                                0.0                                                         \n",
       "\n",
       "       http://www.w3.org/2000/01/rdf-schema#seeAlso#3@<http://dbpedia.org/resource/List_of_educational_institutions>  \\\n",
       "0                                                    0.0                                                               \n",
       "1                                                    0.0                                                               \n",
       "2                                                    0.0                                                               \n",
       "3                                                    0.0                                                               \n",
       "4                                                    0.0                                                               \n",
       "...                                                  ...                                                               \n",
       "44954                                                0.0                                                               \n",
       "44955                                                0.0                                                               \n",
       "44956                                                0.0                                                               \n",
       "44957                                                0.0                                                               \n",
       "44958                                                0.0                                                               \n",
       "\n",
       "       http://www.w3.org/2000/01/rdf-schema#seeAlso#3@<http://dbpedia.org/resource/History_of_local_government>  \\\n",
       "0                                                    0.0                                                          \n",
       "1                                                    0.0                                                          \n",
       "2                                                    0.0                                                          \n",
       "3                                                    0.0                                                          \n",
       "4                                                    0.0                                                          \n",
       "...                                                  ...                                                          \n",
       "44954                                                0.0                                                          \n",
       "44955                                                0.0                                                          \n",
       "44956                                                0.0                                                          \n",
       "44957                                                0.0                                                          \n",
       "44958                                                0.0                                                          \n",
       "\n",
       "       http://www.w3.org/2000/01/rdf-schema#seeAlso#3@<http://dbpedia.org/resource/Hainan>  \\\n",
       "0                                                    0.0                                     \n",
       "1                                                    0.0                                     \n",
       "2                                                    0.0                                     \n",
       "3                                                    0.0                                     \n",
       "4                                                    0.0                                     \n",
       "...                                                  ...                                     \n",
       "44954                                                0.0                                     \n",
       "44955                                                0.0                                     \n",
       "44956                                                0.0                                     \n",
       "44957                                                0.0                                     \n",
       "44958                                                0.0                                     \n",
       "\n",
       "       http://www.w3.org/2000/01/rdf-schema#seeAlso#3@OTHER  \\\n",
       "0                                                    0.0      \n",
       "1                                                    1.0      \n",
       "2                                                    0.0      \n",
       "3                                                    1.0      \n",
       "4                                                    1.0      \n",
       "...                                                  ...      \n",
       "44954                                                1.0      \n",
       "44955                                                1.0      \n",
       "44956                                                1.0      \n",
       "44957                                                1.0      \n",
       "44958                                                1.0      \n",
       "\n",
       "       http://xmlns.com/foaf/0.1/homepage#count  \\\n",
       "0                                      0.477121   \n",
       "1                                      0.301030   \n",
       "2                                      0.301030   \n",
       "3                                      0.000000   \n",
       "4                                      0.301030   \n",
       "...                                         ...   \n",
       "44954                                  0.000000   \n",
       "44955                                  0.000000   \n",
       "44956                                  0.301030   \n",
       "44957                                  0.301030   \n",
       "44958                                  0.000000   \n",
       "\n",
       "       http://xmlns.com/foaf/0.1/name#count  \\\n",
       "0                                  0.301030   \n",
       "1                                  0.301030   \n",
       "2                                  0.301030   \n",
       "3                                  0.301030   \n",
       "4                                  0.301030   \n",
       "...                                     ...   \n",
       "44954                              0.477121   \n",
       "44955                              0.477121   \n",
       "44956                              0.301030   \n",
       "44957                              0.477121   \n",
       "44958                              0.477121   \n",
       "\n",
       "       http://xmlns.com/foaf/0.1/nick#count  population  \n",
       "0                                   0.30103    6.661582  \n",
       "1                                   0.30103    5.925489  \n",
       "2                                   0.00000    5.422780  \n",
       "3                                   0.00000    6.119513  \n",
       "4                                   0.00000    4.770594  \n",
       "...                                     ...         ...  \n",
       "44954                               0.00000    3.407391  \n",
       "44955                               0.00000    3.924072  \n",
       "44956                               0.00000    4.327706  \n",
       "44957                               0.30103    5.943385  \n",
       "44958                               0.00000    3.727541  \n",
       "\n",
       "[44959 rows x 381 columns]"
      ]
     },
     "execution_count": 73,
     "metadata": {},
     "output_type": "execute_result"
    }
   ],
   "source": [
    "cell28_df"
   ]
  },
  {
   "cell_type": "code",
   "execution_count": 74,
   "metadata": {},
   "outputs": [],
   "source": [
    "df = cell28_df.copy()"
   ]
  },
  {
   "cell_type": "code",
   "execution_count": 75,
   "metadata": {},
   "outputs": [
    {
     "data": {
      "text/plain": [
       "Index(['name'], dtype='object')"
      ]
     },
     "execution_count": 75,
     "metadata": {},
     "output_type": "execute_result"
    }
   ],
   "source": [
    "df.columns[df.dtypes == \"object\"]"
   ]
  },
  {
   "cell_type": "code",
   "execution_count": 76,
   "metadata": {},
   "outputs": [],
   "source": [
    "#dropping name column\n",
    "df = df.drop('name',axis=1)"
   ]
  },
  {
   "cell_type": "code",
   "execution_count": 77,
   "metadata": {},
   "outputs": [],
   "source": [
    "#spitting train test; 80:20\n",
    "df_train, df_test = train_test_split(df, test_size=0.20)"
   ]
  },
  {
   "cell_type": "code",
   "execution_count": 78,
   "metadata": {},
   "outputs": [],
   "source": [
    "X_train, y_train = df_train.drop('population',axis=1), df_train['population']\n",
    "X_test, y_test = df_test.drop('population',axis=1), df_test['population']"
   ]
  },
  {
   "cell_type": "code",
   "execution_count": 79,
   "metadata": {},
   "outputs": [],
   "source": [
    "features = X_train.columns"
   ]
  },
  {
   "cell_type": "code",
   "execution_count": 80,
   "metadata": {},
   "outputs": [
    {
     "data": {
      "text/plain": [
       "RandomForestRegressor(bootstrap=True, criterion='mse', max_depth=None,\n",
       "                      max_features='auto', max_leaf_nodes=None,\n",
       "                      min_impurity_decrease=0.0, min_impurity_split=None,\n",
       "                      min_samples_leaf=1, min_samples_split=2,\n",
       "                      min_weight_fraction_leaf=0.0, n_estimators=100, n_jobs=-1,\n",
       "                      oob_score=False, random_state=None, verbose=0,\n",
       "                      warm_start=False)"
      ]
     },
     "execution_count": 80,
     "metadata": {},
     "output_type": "execute_result"
    }
   ],
   "source": [
    "rf = RandomForestRegressor(n_estimators=100, n_jobs=-1)\n",
    "rf.fit(X_train, y_train)\n"
   ]
  },
  {
   "cell_type": "code",
   "execution_count": 81,
   "metadata": {},
   "outputs": [
    {
     "name": "stdout",
     "output_type": "stream",
     "text": [
      "Base RMSE Value 0.09626382772543342\n"
     ]
    }
   ],
   "source": [
    "#calculate rmse values of the base model\n",
    "y_pred = rf.predict(X_test)\n",
    "base_mse = mean_squared_error(y_test, y_pred)\n",
    "base_score = rf.score(X_test,y_test)\n",
    "\n",
    "print(\"Base RMSE Value\",base_mse)"
   ]
  },
  {
   "cell_type": "code",
   "execution_count": 82,
   "metadata": {},
   "outputs": [],
   "source": [
    "#finding the important features through feature importances\n",
    "feature_importance = rf.feature_importances_"
   ]
  },
  {
   "cell_type": "code",
   "execution_count": 83,
   "metadata": {},
   "outputs": [],
   "source": [
    "sorted_idx = feature_importance.argsort()"
   ]
  },
  {
   "cell_type": "code",
   "execution_count": 84,
   "metadata": {},
   "outputs": [
    {
     "name": "stderr",
     "output_type": "stream",
     "text": [
      "C:\\Users\\najee\\Anaconda3\\lib\\site-packages\\ipykernel_launcher.py:8: UserWarning: Tight layout not applied. The left and right margins cannot be made large enough to accommodate all axes decorations. \n",
      "  \n"
     ]
    },
    {
     "data": {
      "image/png": "[encoded data removed]",
      "text/plain": [
       "<Figure size 432x288 with 1 Axes>"
      ]
     },
     "metadata": {
      "needs_background": "light"
     },
     "output_type": "display_data"
    }
   ],
   "source": [
    "#showing the top 10 important features on the data which was replaced\n",
    "y_ticks = np.arange(0, 10)\n",
    "fig, ax = plt.subplots()\n",
    "ax.barh(y_ticks, feature_importance[sorted_idx][-10:])\n",
    "ax.set_yticklabels(features[sorted_idx][-10:])\n",
    "ax.set_yticks(y_ticks)\n",
    "ax.set_title(\"Random Forest Feature Importances (MDI)\")\n",
    "fig.tight_layout()\n",
    "plt.show()"
   ]
  },
  {
   "cell_type": "code",
   "execution_count": 19,
   "metadata": {},
   "outputs": [
    {
     "data": {
      "text/plain": [
       "array([9.66841619e-11, 5.30634545e-09, 1.89306611e-08, 2.29426520e-08,\n",
       "       3.84296890e-08, 4.19934185e-08, 5.01785458e-08, 5.33065323e-08,\n",
       "       6.99275472e-08, 8.63795590e-08, 1.24249739e-07, 1.51093479e-07,\n",
       "       1.75235358e-07, 2.10982102e-07, 3.55455939e-07, 4.08767394e-07,\n",
       "       4.19831976e-07, 4.22149171e-07, 4.60114652e-07, 4.83025130e-07,\n",
       "       4.90133918e-07, 5.00945040e-07, 5.10668555e-07, 6.73704249e-07,\n",
       "       8.08835963e-07, 8.28596396e-07, 8.73840908e-07, 1.15414400e-06,\n",
       "       1.18703596e-06, 1.73991832e-06, 1.80231847e-06, 2.04455477e-06,\n",
       "       2.15127617e-06, 2.61402447e-06, 2.66472555e-06, 3.08525918e-06,\n",
       "       3.34479771e-06, 3.64213943e-06, 4.00574260e-06, 4.14446840e-06,\n",
       "       4.17000459e-06, 4.74433740e-06, 4.89711384e-06, 4.91815383e-06,\n",
       "       4.94509612e-06, 5.24517917e-06, 5.32786213e-06, 5.40825901e-06,\n",
       "       5.49632013e-06, 5.52194235e-06, 5.89747338e-06, 5.94123859e-06,\n",
       "       6.16380815e-06, 6.79687799e-06, 7.23907083e-06, 7.47746278e-06,\n",
       "       7.71521026e-06, 7.87526955e-06, 7.92124906e-06, 8.01960057e-06,\n",
       "       8.03060133e-06, 8.16413129e-06, 8.39962063e-06, 8.59284381e-06,\n",
       "       8.70681110e-06, 8.78511352e-06, 8.95844867e-06, 9.19386548e-06,\n",
       "       9.41432731e-06, 9.92924889e-06, 1.00897922e-05, 1.01473762e-05,\n",
       "       1.02954869e-05, 1.07829971e-05, 1.11791572e-05, 1.12947506e-05,\n",
       "       1.13836393e-05, 1.18273422e-05, 1.21457379e-05, 1.23425724e-05,\n",
       "       1.25359632e-05, 1.31782019e-05, 1.32087864e-05, 1.32107621e-05,\n",
       "       1.34538770e-05, 1.36723208e-05, 1.39755080e-05, 1.40440297e-05,\n",
       "       1.41050983e-05, 1.50758777e-05, 1.50760449e-05, 1.55640797e-05,\n",
       "       1.59332045e-05, 1.59506232e-05, 1.60079840e-05, 1.60539811e-05,\n",
       "       1.61136293e-05, 1.61579228e-05, 1.62520391e-05, 1.62691055e-05,\n",
       "       1.64646332e-05, 1.70821088e-05, 1.72636500e-05, 1.73033351e-05,\n",
       "       1.73988673e-05, 1.74008214e-05, 1.76290241e-05, 1.76825427e-05,\n",
       "       1.77392543e-05, 1.77786479e-05, 1.77905884e-05, 1.78164712e-05,\n",
       "       1.81036818e-05, 1.81828834e-05, 1.87717617e-05, 1.88011094e-05,\n",
       "       1.88379051e-05, 1.88629845e-05, 1.90060789e-05, 1.92305466e-05,\n",
       "       1.94692689e-05, 1.98345108e-05, 2.03336313e-05, 2.03665513e-05,\n",
       "       2.06946302e-05, 2.08038730e-05, 2.12500316e-05, 2.12835396e-05,\n",
       "       2.13601439e-05, 2.17542021e-05, 2.18220544e-05, 2.18362013e-05,\n",
       "       2.20120613e-05, 2.24882976e-05, 2.25538795e-05, 2.26258218e-05,\n",
       "       2.27559996e-05, 2.34786152e-05, 2.34885178e-05, 2.42474277e-05,\n",
       "       2.43146089e-05, 2.46008595e-05, 2.51217014e-05, 2.57303408e-05,\n",
       "       2.57560830e-05, 2.57643560e-05, 2.60738972e-05, 2.62012413e-05,\n",
       "       2.62997338e-05, 2.66653954e-05, 2.69298611e-05, 2.71978606e-05,\n",
       "       2.72758183e-05, 2.83914265e-05, 2.88454458e-05, 2.88533371e-05,\n",
       "       2.89018349e-05, 2.93284986e-05, 2.95108751e-05, 3.03222066e-05,\n",
       "       3.07744560e-05, 3.22680163e-05, 3.33769601e-05, 3.36850751e-05,\n",
       "       3.44341608e-05, 3.53530037e-05, 3.63070940e-05, 3.69894482e-05,\n",
       "       3.71154988e-05, 3.76138165e-05, 3.92140378e-05, 3.96263210e-05,\n",
       "       3.97903452e-05, 4.01171212e-05, 4.03192375e-05, 4.06323297e-05,\n",
       "       4.11815459e-05, 4.12822141e-05, 4.28490893e-05, 4.45272944e-05,\n",
       "       4.52854747e-05, 4.53666025e-05, 4.66849062e-05, 4.67685847e-05,\n",
       "       4.88009165e-05, 4.89308441e-05, 4.97220629e-05, 5.06195868e-05,\n",
       "       5.09239479e-05, 5.11949681e-05, 5.12723719e-05, 5.14705530e-05,\n",
       "       5.33415979e-05, 5.37683523e-05, 5.39615702e-05, 5.43124604e-05,\n",
       "       5.57001146e-05, 5.58855109e-05, 5.59616883e-05, 5.69517142e-05,\n",
       "       5.73768218e-05, 5.76031425e-05, 5.76043020e-05, 5.80064512e-05,\n",
       "       5.80255398e-05, 5.86063710e-05, 5.94380277e-05, 6.01812120e-05,\n",
       "       6.08251196e-05, 6.11711014e-05, 6.15181991e-05, 6.20434663e-05,\n",
       "       6.21985835e-05, 6.53398531e-05, 6.59363745e-05, 7.11970906e-05,\n",
       "       7.19847218e-05, 7.21679957e-05, 7.50686548e-05, 7.63308514e-05,\n",
       "       8.47541856e-05, 8.72689422e-05, 8.84508997e-05, 8.87664062e-05,\n",
       "       8.98726802e-05, 9.07983026e-05, 9.11368734e-05, 9.36157939e-05,\n",
       "       9.57095417e-05, 1.05146809e-04, 1.05450535e-04, 1.05879108e-04,\n",
       "       1.07584387e-04, 1.11357258e-04, 1.14124907e-04, 1.14862168e-04,\n",
       "       1.15617483e-04, 1.16402117e-04, 1.18342658e-04, 1.19513056e-04,\n",
       "       1.24999472e-04, 1.28082229e-04, 1.29969195e-04, 1.32875342e-04,\n",
       "       1.34573482e-04, 1.35591284e-04, 1.35790944e-04, 1.40072504e-04,\n",
       "       1.43095878e-04, 1.44272294e-04, 1.48282478e-04, 1.48749564e-04,\n",
       "       1.52971651e-04, 1.56289694e-04, 1.69969103e-04, 1.79402637e-04,\n",
       "       1.80315937e-04, 1.92444150e-04, 1.94090530e-04, 1.94474442e-04,\n",
       "       1.95758319e-04, 2.00739534e-04, 2.01427350e-04, 2.06365308e-04,\n",
       "       2.09234364e-04, 2.09837842e-04, 2.10589687e-04, 2.13527547e-04,\n",
       "       2.16684519e-04, 2.19785120e-04, 2.37546666e-04, 2.52947677e-04,\n",
       "       2.56644267e-04, 2.68620699e-04, 2.82645075e-04, 2.87676901e-04,\n",
       "       2.96979964e-04, 3.06013521e-04, 3.83347392e-04, 4.09883564e-04,\n",
       "       4.11523853e-04, 4.33718703e-04, 4.47375858e-04, 4.65602526e-04,\n",
       "       4.69392444e-04, 4.83474986e-04, 4.88188067e-04, 4.94154222e-04,\n",
       "       5.03618604e-04, 5.31828586e-04, 5.34728884e-04, 5.50378809e-04,\n",
       "       5.57256995e-04, 5.74640569e-04, 6.12150527e-04, 6.27676809e-04,\n",
       "       6.36723758e-04, 6.60209067e-04, 6.68480981e-04, 7.30841573e-04,\n",
       "       7.37407083e-04, 7.51346551e-04, 9.52767901e-04, 1.07743747e-03,\n",
       "       1.08878131e-03, 1.11485608e-03, 1.15252724e-03, 1.18675275e-03,\n",
       "       1.34989728e-03, 1.35068014e-03, 1.39032544e-03, 1.40883730e-03,\n",
       "       1.44463126e-03, 1.44707273e-03, 1.44991291e-03, 1.49299753e-03,\n",
       "       1.58176981e-03, 1.61664912e-03, 1.63683665e-03, 1.65742853e-03,\n",
       "       1.78746463e-03, 1.81625304e-03, 1.84353988e-03, 1.84970140e-03,\n",
       "       1.85620605e-03, 1.87627585e-03, 1.96129423e-03, 1.99155221e-03,\n",
       "       1.99514413e-03, 2.18773790e-03, 2.18972295e-03, 2.19609048e-03,\n",
       "       2.32316135e-03, 2.37651978e-03, 2.44979341e-03, 2.45898445e-03,\n",
       "       2.55430282e-03, 2.60770800e-03, 2.74608639e-03, 2.80575502e-03,\n",
       "       2.80901173e-03, 2.90490786e-03, 2.94809789e-03, 2.96230917e-03,\n",
       "       2.99852938e-03, 3.01922361e-03, 4.01689616e-03, 4.03609484e-03,\n",
       "       4.11623798e-03, 4.13009708e-03, 4.22147090e-03, 4.32194281e-03,\n",
       "       4.41470139e-03, 5.17019288e-03, 5.21037715e-03, 5.27954430e-03,\n",
       "       5.35311563e-03, 6.39756804e-03, 6.64324897e-03, 6.69702899e-03,\n",
       "       7.11742230e-03, 7.66087330e-03, 7.77191641e-03, 8.80217315e-03,\n",
       "       9.23400211e-03, 9.57126094e-03, 1.23059969e-02, 1.29563248e-02,\n",
       "       1.55473451e-02, 1.98227703e-02, 2.06710341e-02, 3.36058150e-02,\n",
       "       3.91679929e-02, 4.22395210e-02, 4.93002148e-02, 6.78830197e-02,\n",
       "       9.34309330e-02, 1.24444895e-01, 2.34942709e-01])"
      ]
     },
     "execution_count": 19,
     "metadata": {},
     "output_type": "execute_result"
    }
   ],
   "source": [
    "feature_importance[sorted_idx]"
   ]
  },
  {
   "cell_type": "code",
   "execution_count": 86,
   "metadata": {},
   "outputs": [
    {
     "data": {
      "text/plain": [
       "'http://dbpedia.org/ontology/birthPlace?inv#count'"
      ]
     },
     "execution_count": 86,
     "metadata": {},
     "output_type": "execute_result"
    }
   ],
   "source": [
    "#finding the most important feature\n",
    "most_imp_feature = features[sorted_idx][-1]\n",
    "most_imp_feature"
   ]
  },
  {
   "cell_type": "code",
   "execution_count": 87,
   "metadata": {},
   "outputs": [
    {
     "data": {
      "text/plain": [
       "<matplotlib.axes._subplots.AxesSubplot at 0x14b960815f8>"
      ]
     },
     "execution_count": 87,
     "metadata": {},
     "output_type": "execute_result"
    },
    {
     "data": {
      "image/png": "[encoded data removed]",
      "text/plain": [
       "<Figure size 432x288 with 1 Axes>"
      ]
     },
     "metadata": {
      "needs_background": "light"
     },
     "output_type": "display_data"
    }
   ],
   "source": [
    "X_train[most_imp_feature].hist()"
   ]
  },
  {
   "cell_type": "code",
   "execution_count": 88,
   "metadata": {},
   "outputs": [
    {
     "name": "stdout",
     "output_type": "stream",
     "text": [
      "MinMaxScaler(copy=True, feature_range=(0, 1))\n"
     ]
    }
   ],
   "source": [
    "from sklearn.preprocessing import StandardScaler\n",
    "from sklearn.preprocessing import MinMaxScaler\n",
    "\n",
    "#scaling the values of the column to fit in the range of 0-1\n",
    "scaler = MinMaxScaler()\n",
    "print(scaler.fit(X_train[most_imp_feature].values.reshape(-1,1)))"
   ]
  },
  {
   "cell_type": "code",
   "execution_count": 89,
   "metadata": {},
   "outputs": [],
   "source": [
    "scaled_data = scaler.transform(X_train[most_imp_feature].values.reshape(-1,1))"
   ]
  },
  {
   "cell_type": "code",
   "execution_count": 90,
   "metadata": {},
   "outputs": [
    {
     "data": {
      "image/png": "[encoded data removed]",
      "text/plain": [
       "<Figure size 432x288 with 1 Axes>"
      ]
     },
     "metadata": {
      "needs_background": "light"
     },
     "output_type": "display_data"
    }
   ],
   "source": [
    "plt.hist(scaled_data, bins='auto') \n",
    "plt.show()"
   ]
  },
  {
   "cell_type": "code",
   "execution_count": 91,
   "metadata": {},
   "outputs": [],
   "source": [
    "#dividing the range of 0-1 into 10 different values\n",
    "threshold_vals = np.linspace(0,1,10)"
   ]
  },
  {
   "cell_type": "code",
   "execution_count": 92,
   "metadata": {},
   "outputs": [
    {
     "name": "stdout",
     "output_type": "stream",
     "text": [
      "Model RMSE score with extra feature added is 0.09644896136673212 with threshold value 0.0\n",
      "Model RMSE score with feature replaced is 0.09712521649763751 with threshold value 0.0\n",
      "\n",
      "\n",
      "Model RMSE score with extra feature added is 0.09647280924372886 with threshold value 0.1111111111111111\n",
      "Model RMSE score with feature replaced is 0.0961622180634795 with threshold value 0.1111111111111111\n",
      "\n",
      "\n",
      "Model RMSE score with extra feature added is 0.09671561788085971 with threshold value 0.2222222222222222\n",
      "Model RMSE score with feature replaced is 0.09575404090103554 with threshold value 0.2222222222222222\n",
      "\n",
      "\n",
      "Model RMSE score with extra feature added is 0.09640123761329158 with threshold value 0.3333333333333333\n",
      "Model RMSE score with feature replaced is 0.09645243636365212 with threshold value 0.3333333333333333\n",
      "\n",
      "\n",
      "Model RMSE score with extra feature added is 0.09590235272887225 with threshold value 0.4444444444444444\n",
      "Model RMSE score with feature replaced is 0.09676273464497515 with threshold value 0.4444444444444444\n",
      "\n",
      "\n",
      "Model RMSE score with extra feature added is 0.09647816594965705 with threshold value 0.5555555555555556\n",
      "Model RMSE score with feature replaced is 0.09676662631737726 with threshold value 0.5555555555555556\n",
      "\n",
      "\n",
      "Model RMSE score with extra feature added is 0.09600368324195892 with threshold value 0.6666666666666666\n",
      "Model RMSE score with feature replaced is 0.0969193015477767 with threshold value 0.6666666666666666\n",
      "\n",
      "\n",
      "Model RMSE score with extra feature added is 0.09619884820533292 with threshold value 0.7777777777777777\n",
      "Model RMSE score with feature replaced is 0.09689842652887208 with threshold value 0.7777777777777777\n",
      "\n",
      "\n",
      "Model RMSE score with extra feature added is 0.09588228008050577 with threshold value 0.8888888888888888\n",
      "Model RMSE score with feature replaced is 0.09713977262562391 with threshold value 0.8888888888888888\n",
      "\n",
      "\n",
      "Model RMSE score with extra feature added is 0.09619683500712718 with threshold value 1.0\n",
      "Model RMSE score with feature replaced is 0.09747042776086716 with threshold value 1.0\n",
      "\n",
      "\n",
      "Model training for all thresholds completed\n"
     ]
    }
   ],
   "source": [
    "with_extrafeature = []\n",
    "replacing_feature = []\n",
    "\n",
    "\n",
    "#scaling for test data\n",
    "scaled_test_ft = scaler.fit_transform(X_test[most_imp_feature].values.reshape(-1,1))\n",
    "\n",
    "\n",
    "for index,val in enumerate(threshold_vals):\n",
    "    model_rf = RandomForestRegressor(n_estimators=100, n_jobs=-1)\n",
    "    #make copies for training model with an extra feature and with feature replacement\n",
    "    X_train_copy = X_train.copy()\n",
    "    X_train_copy_replace = X_train.copy()\n",
    "    X_test_copy = X_test.copy()\n",
    "    X_test_copy_replace = X_test.copy()\n",
    "    #convert feature into 1 if val is greater than threshold, 0 otherwise\n",
    "    F_prime = scaled_data >= val\n",
    "    F_prime = F_prime * 1\n",
    "    F_prime_test = scaled_test_ft >= val\n",
    "    F_prime_test = F_prime_test * 1\n",
    "    #train two models and compare with base score\n",
    "    X_train_copy['F_prime'] = F_prime\n",
    "    X_test_copy['F_prime'] = F_prime_test\n",
    "    model_add = model_rf.fit(X_train_copy, y_train)\n",
    "    y_pred_featureadd = model_add.predict(X_test_copy)\n",
    "    extrafeature_mse = mean_squared_error(y_test, y_pred_featureadd)\n",
    "    with_extrafeature.append(extrafeature_mse)\n",
    "    print(\"Model RMSE score with extra feature added is {} with threshold value {}\".format(with_extrafeature[index],val))\n",
    "    #fitting and training the mode in case of feature replacement\n",
    "    model_rf_replace = RandomForestRegressor(n_estimators=100, n_jobs=-1)\n",
    "    X_train_copy_replace[most_imp_feature] = F_prime\n",
    "    X_test_copy_replace[most_imp_feature] = F_prime_test\n",
    "    model_replace = model_rf_replace.fit(X_train_copy_replace, y_train)\n",
    "    y_pred_featurereplace= model_replace.predict(X_test_copy_replace)\n",
    "    replacefeature_mse = mean_squared_error(y_test, y_pred_featurereplace)\n",
    "    replacing_feature.append(replacefeature_mse)\n",
    "    print(\"Model RMSE score with feature replaced is {} with threshold value {}\".format(replacing_feature[index],val))\n",
    "    print(\"\\n\")\n",
    "    \n",
    "\n",
    "    \n",
    "print(\"Model training for all thresholds completed\")"
   ]
  },
  {
   "cell_type": "code",
   "execution_count": 94,
   "metadata": {},
   "outputs": [
    {
     "name": "stdout",
     "output_type": "stream",
     "text": [
      "Minimum RMSE with feature added 0.09588228008050577\n",
      "Minimum RMSE with feature replaced 0.09575404090103554\n",
      "Base RMSE with original feature is 0.09626382772543342\n"
     ]
    }
   ],
   "source": [
    "print(\"Minimum RMSE with feature added\",min(with_extrafeature))\n",
    "print(\"Minimum RMSE with feature replaced\",min(replacing_feature))\n",
    "print(\"Base RMSE with original feature is\",base_mse)"
   ]
  },
  {
   "cell_type": "markdown",
   "metadata": {},
   "source": [
    "The minimum RMSE occurs for model with feature replaced at threshold value of 0.22. \n",
    "\n",
    "####  (The threshold values and RMSE values are subject to change with every run. There would be consistency with which model would perform better, and in every run the model with the feature replaced will give the minimum RMSE)"
   ]
  },
  {
   "cell_type": "code",
   "execution_count": 95,
   "metadata": {},
   "outputs": [
    {
     "name": "stdout",
     "output_type": "stream",
     "text": [
      "http://dbpedia.org/ontology/areaTotal#1\n"
     ]
    }
   ],
   "source": [
    "#checking permutation importance\n",
    "rf = RandomForestRegressor(n_estimators=100, n_jobs=-1)\n",
    "rf.fit(X_train_copy_replace, y_train)\n",
    "features_cols = X_train_copy_replace.columns\n",
    "feature_importance = rf.feature_importances_\n",
    "sorted_idx = feature_importance.argsort()\n",
    "print(features_cols[sorted_idx][-1])"
   ]
  },
  {
   "cell_type": "code",
   "execution_count": 96,
   "metadata": {},
   "outputs": [
    {
     "name": "stderr",
     "output_type": "stream",
     "text": [
      "C:\\Users\\najee\\Anaconda3\\lib\\site-packages\\ipykernel_launcher.py:8: UserWarning: Tight layout not applied. The left and right margins cannot be made large enough to accommodate all axes decorations. \n",
      "  \n"
     ]
    },
    {
     "data": {
      "image/png": "[encoded data removed]",
      "text/plain": [
       "<Figure size 432x288 with 1 Axes>"
      ]
     },
     "metadata": {
      "needs_background": "light"
     },
     "output_type": "display_data"
    }
   ],
   "source": [
    "#showing the top 10 important features on the data which was replaced\n",
    "y_ticks = np.arange(0, 10)\n",
    "fig, ax = plt.subplots()\n",
    "ax.barh(y_ticks, feature_importance[sorted_idx][-10:])\n",
    "ax.set_yticklabels(features[sorted_idx][-10:])\n",
    "ax.set_yticks(y_ticks)\n",
    "ax.set_title(\"Random Forest Feature Importances (MDI)\")\n",
    "fig.tight_layout()\n",
    "plt.show()\n"
   ]
  },
  {
   "cell_type": "markdown",
   "metadata": {},
   "source": [
    "Here we see that the important features have changed after retraining the model on the new feature replaced dataset."
   ]
  }
 ],
 "metadata": {
  "kernelspec": {
   "display_name": "Python 3",
   "language": "python",
   "name": "python3"
  },
  "language_info": {
   "codemirror_mode": {
    "name": "ipython",
    "version": 3
   },
   "file_extension": ".py",
   "mimetype": "text/x-python",
   "name": "python",
   "nbconvert_exporter": "python",
   "pygments_lexer": "ipython3",
   "version": "3.7.3"
  }
 },
 "nbformat": 4,
 "nbformat_minor": 2
}
