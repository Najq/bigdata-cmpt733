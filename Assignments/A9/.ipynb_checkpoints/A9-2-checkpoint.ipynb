{
 "cells": [
  {
   "cell_type": "markdown",
   "metadata": {},
   "source": [
    "# Assignment 9: Causal Inference (Part 2)\n",
    "\n",
    "## Objective:\n",
    "\n",
    "Causal inference is the process of drawing a conclusion about a causal connection based on the conditions of the occurrence of an effect. It is a very powerful and widely-used tool in real-world applications and scenarios. In this assignment, you are expected to apply the basic concepts of causal inference to solve problems on real datasets and be able to achieve the following goals.\n",
    "\n",
    "* Understand why causality is needed.\n",
    "* Understand what is causality, particularly the difference between causality and correlation.\n",
    "* Understand how to estimate counterfactual results.\n",
    "* Understand how to use the graphical model to represent causality.\n",
    "* Can use some tools (e.g., dowhy) to infer causality, express causality and estimate treatment effects."
   ]
  },
  {
   "cell_type": "markdown",
   "metadata": {},
   "source": [
    "# 0. Preparation"
   ]
  },
  {
   "cell_type": "code",
   "execution_count": 332,
   "metadata": {},
   "outputs": [],
   "source": [
    "import numpy as np\n",
    "import pandas as pd\n",
    "from dataprep.eda import plot\n",
    "pd.options.mode.chained_assignment = None"
   ]
  },
  {
   "cell_type": "markdown",
   "metadata": {},
   "source": [
    "In this assignment, you are going to use the [Lalonde](lalonde.csv) dataset. Each tuple in the dataset represents an individual who was enrolled (or not enrolled) in a job training program. It aims to evaluate the effectiveness of a job training program (the treatment variable) on the real earnings of an individual, after completing the program for years. \n",
    "\n",
    "The dataset consists of a number of demographic variables, like age, race, academic background, marriage status, and previous real earnings in 1974, 1975 as well as a treatment indicator, and the real earnings in the year 1978 (the outcome variable)."
   ]
  },
  {
   "cell_type": "code",
   "execution_count": 333,
   "metadata": {},
   "outputs": [
    {
     "data": {
      "text/html": [
       "<div>\n",
       "<style scoped>\n",
       "    .dataframe tbody tr th:only-of-type {\n",
       "        vertical-align: middle;\n",
       "    }\n",
       "\n",
       "    .dataframe tbody tr th {\n",
       "        vertical-align: top;\n",
       "    }\n",
       "\n",
       "    .dataframe thead th {\n",
       "        text-align: right;\n",
       "    }\n",
       "</style>\n",
       "<table border=\"1\" class=\"dataframe\">\n",
       "  <thead>\n",
       "    <tr style=\"text-align: right;\">\n",
       "      <th></th>\n",
       "      <th>treat</th>\n",
       "      <th>age</th>\n",
       "      <th>educ</th>\n",
       "      <th>black</th>\n",
       "      <th>hispan</th>\n",
       "      <th>married</th>\n",
       "      <th>nodegree</th>\n",
       "      <th>re74</th>\n",
       "      <th>re75</th>\n",
       "      <th>re78</th>\n",
       "    </tr>\n",
       "    <tr>\n",
       "      <th>id</th>\n",
       "      <th></th>\n",
       "      <th></th>\n",
       "      <th></th>\n",
       "      <th></th>\n",
       "      <th></th>\n",
       "      <th></th>\n",
       "      <th></th>\n",
       "      <th></th>\n",
       "      <th></th>\n",
       "      <th></th>\n",
       "    </tr>\n",
       "  </thead>\n",
       "  <tbody>\n",
       "    <tr>\n",
       "      <th>NSW1</th>\n",
       "      <td>1</td>\n",
       "      <td>37</td>\n",
       "      <td>11</td>\n",
       "      <td>1</td>\n",
       "      <td>0</td>\n",
       "      <td>1</td>\n",
       "      <td>1</td>\n",
       "      <td>0.0</td>\n",
       "      <td>0.0</td>\n",
       "      <td>9930.0460</td>\n",
       "    </tr>\n",
       "    <tr>\n",
       "      <th>NSW2</th>\n",
       "      <td>1</td>\n",
       "      <td>22</td>\n",
       "      <td>9</td>\n",
       "      <td>0</td>\n",
       "      <td>1</td>\n",
       "      <td>0</td>\n",
       "      <td>1</td>\n",
       "      <td>0.0</td>\n",
       "      <td>0.0</td>\n",
       "      <td>3595.8940</td>\n",
       "    </tr>\n",
       "    <tr>\n",
       "      <th>NSW3</th>\n",
       "      <td>1</td>\n",
       "      <td>30</td>\n",
       "      <td>12</td>\n",
       "      <td>1</td>\n",
       "      <td>0</td>\n",
       "      <td>0</td>\n",
       "      <td>0</td>\n",
       "      <td>0.0</td>\n",
       "      <td>0.0</td>\n",
       "      <td>24909.4500</td>\n",
       "    </tr>\n",
       "    <tr>\n",
       "      <th>NSW4</th>\n",
       "      <td>1</td>\n",
       "      <td>27</td>\n",
       "      <td>11</td>\n",
       "      <td>1</td>\n",
       "      <td>0</td>\n",
       "      <td>0</td>\n",
       "      <td>1</td>\n",
       "      <td>0.0</td>\n",
       "      <td>0.0</td>\n",
       "      <td>7506.1460</td>\n",
       "    </tr>\n",
       "    <tr>\n",
       "      <th>NSW5</th>\n",
       "      <td>1</td>\n",
       "      <td>33</td>\n",
       "      <td>8</td>\n",
       "      <td>1</td>\n",
       "      <td>0</td>\n",
       "      <td>0</td>\n",
       "      <td>1</td>\n",
       "      <td>0.0</td>\n",
       "      <td>0.0</td>\n",
       "      <td>289.7899</td>\n",
       "    </tr>\n",
       "    <tr>\n",
       "      <th>...</th>\n",
       "      <td>...</td>\n",
       "      <td>...</td>\n",
       "      <td>...</td>\n",
       "      <td>...</td>\n",
       "      <td>...</td>\n",
       "      <td>...</td>\n",
       "      <td>...</td>\n",
       "      <td>...</td>\n",
       "      <td>...</td>\n",
       "      <td>...</td>\n",
       "    </tr>\n",
       "    <tr>\n",
       "      <th>PSID420</th>\n",
       "      <td>0</td>\n",
       "      <td>39</td>\n",
       "      <td>2</td>\n",
       "      <td>1</td>\n",
       "      <td>0</td>\n",
       "      <td>1</td>\n",
       "      <td>1</td>\n",
       "      <td>0.0</td>\n",
       "      <td>0.0</td>\n",
       "      <td>964.9555</td>\n",
       "    </tr>\n",
       "    <tr>\n",
       "      <th>PSID421</th>\n",
       "      <td>0</td>\n",
       "      <td>55</td>\n",
       "      <td>8</td>\n",
       "      <td>0</td>\n",
       "      <td>0</td>\n",
       "      <td>1</td>\n",
       "      <td>1</td>\n",
       "      <td>0.0</td>\n",
       "      <td>0.0</td>\n",
       "      <td>0.0000</td>\n",
       "    </tr>\n",
       "    <tr>\n",
       "      <th>PSID422</th>\n",
       "      <td>0</td>\n",
       "      <td>16</td>\n",
       "      <td>9</td>\n",
       "      <td>0</td>\n",
       "      <td>0</td>\n",
       "      <td>0</td>\n",
       "      <td>1</td>\n",
       "      <td>0.0</td>\n",
       "      <td>0.0</td>\n",
       "      <td>5551.8190</td>\n",
       "    </tr>\n",
       "    <tr>\n",
       "      <th>PSID423</th>\n",
       "      <td>0</td>\n",
       "      <td>27</td>\n",
       "      <td>10</td>\n",
       "      <td>1</td>\n",
       "      <td>0</td>\n",
       "      <td>0</td>\n",
       "      <td>1</td>\n",
       "      <td>0.0</td>\n",
       "      <td>0.0</td>\n",
       "      <td>7543.7940</td>\n",
       "    </tr>\n",
       "    <tr>\n",
       "      <th>PSID424</th>\n",
       "      <td>0</td>\n",
       "      <td>25</td>\n",
       "      <td>14</td>\n",
       "      <td>0</td>\n",
       "      <td>0</td>\n",
       "      <td>0</td>\n",
       "      <td>0</td>\n",
       "      <td>0.0</td>\n",
       "      <td>0.0</td>\n",
       "      <td>0.0000</td>\n",
       "    </tr>\n",
       "  </tbody>\n",
       "</table>\n",
       "<p>609 rows × 10 columns</p>\n",
       "</div>"
      ],
      "text/plain": [
       "         treat  age  educ  black  hispan  married  nodegree  re74  re75  \\\n",
       "id                                                                        \n",
       "NSW1         1   37    11      1       0        1         1   0.0   0.0   \n",
       "NSW2         1   22     9      0       1        0         1   0.0   0.0   \n",
       "NSW3         1   30    12      1       0        0         0   0.0   0.0   \n",
       "NSW4         1   27    11      1       0        0         1   0.0   0.0   \n",
       "NSW5         1   33     8      1       0        0         1   0.0   0.0   \n",
       "...        ...  ...   ...    ...     ...      ...       ...   ...   ...   \n",
       "PSID420      0   39     2      1       0        1         1   0.0   0.0   \n",
       "PSID421      0   55     8      0       0        1         1   0.0   0.0   \n",
       "PSID422      0   16     9      0       0        0         1   0.0   0.0   \n",
       "PSID423      0   27    10      1       0        0         1   0.0   0.0   \n",
       "PSID424      0   25    14      0       0        0         0   0.0   0.0   \n",
       "\n",
       "               re78  \n",
       "id                   \n",
       "NSW1      9930.0460  \n",
       "NSW2      3595.8940  \n",
       "NSW3     24909.4500  \n",
       "NSW4      7506.1460  \n",
       "NSW5       289.7899  \n",
       "...             ...  \n",
       "PSID420    964.9555  \n",
       "PSID421      0.0000  \n",
       "PSID422   5551.8190  \n",
       "PSID423   7543.7940  \n",
       "PSID424      0.0000  \n",
       "\n",
       "[609 rows x 10 columns]"
      ]
     },
     "execution_count": 333,
     "metadata": {},
     "output_type": "execute_result"
    }
   ],
   "source": [
    "lalonde = pd.read_csv('lalonde.csv', index_col=0)\n",
    "lalonde.head()\n",
    "lalonde.head(-5)"
   ]
  },
  {
   "cell_type": "code",
   "execution_count": 334,
   "metadata": {},
   "outputs": [
    {
     "data": {
      "text/html": [
       "\n",
       "\n",
       "\n",
       "\n",
       "\n",
       "\n",
       "  <div class=\"bk-root\" id=\"04f7dec2-85a1-454d-abf1-562eb3865e4d\" data-root-id=\"6056\"></div>\n"
      ]
     },
     "metadata": {},
     "output_type": "display_data"
    },
    {
     "data": {
      "application/javascript": [
       "(function(root) {\n",
       "  function embed_document(root) {\n",
       "    \n",
       "  var docs_json = {\"5d06393d-3026-4d2d-84d0-e250c249c932\":{\"roots\":{\"references\":[{\"attributes\":{\"children\":[[{\"id\":\"5666\",\"subtype\":\"Figure\",\"type\":\"Plot\"},0,0],[{\"id\":\"5698\",\"subtype\":\"Figure\",\"type\":\"Plot\"},0,1],[{\"id\":\"5730\",\"subtype\":\"Figure\",\"type\":\"Plot\"},0,2],[{\"id\":\"5762\",\"subtype\":\"Figure\",\"type\":\"Plot\"},1,0],[{\"id\":\"5794\",\"subtype\":\"Figure\",\"type\":\"Plot\"},1,1],[{\"id\":\"5826\",\"subtype\":\"Figure\",\"type\":\"Plot\"},1,2],[{\"id\":\"5858\",\"subtype\":\"Figure\",\"type\":\"Plot\"},2,0],[{\"id\":\"5890\",\"subtype\":\"Figure\",\"type\":\"Plot\"},2,1],[{\"id\":\"5922\",\"subtype\":\"Figure\",\"type\":\"Plot\"},2,2],[{\"id\":\"5954\",\"subtype\":\"Figure\",\"type\":\"Plot\"},3,0]]},\"id\":\"6056\",\"type\":\"GridBox\"},{\"attributes\":{},\"id\":\"6022\",\"type\":\"BasicTickFormatter\"},{\"attributes\":{},\"id\":\"5907\",\"type\":\"BasicTicker\"},{\"attributes\":{\"data_source\":{\"id\":\"5848\",\"type\":\"ColumnDataSource\"},\"glyph\":{\"id\":\"5850\",\"type\":\"Quad\"},\"hover_glyph\":null,\"muted_glyph\":null,\"nonselection_glyph\":{\"id\":\"5851\",\"type\":\"Quad\"},\"selection_glyph\":null,\"view\":{\"id\":\"5853\",\"type\":\"CDSView\"}},\"id\":\"5852\",\"type\":\"GlyphRenderer\"},{\"attributes\":{\"dimension\":1,\"grid_line_color\":null,\"ticker\":{\"id\":\"5907\",\"type\":\"BasicTicker\"}},\"id\":\"5910\",\"type\":\"Grid\"},{\"attributes\":{},\"id\":\"6024\",\"type\":\"BasicTickFormatter\"},{\"attributes\":{\"bottom\":{\"value\":0.01},\"fill_alpha\":{\"value\":0.5},\"fill_color\":{\"value\":\"#6baed6\"},\"left\":{\"field\":\"left\"},\"line_alpha\":{\"value\":0.5},\"line_color\":{\"value\":\"#1f77b4\"},\"right\":{\"field\":\"right\"},\"top\":{\"field\":\"freq\"}},\"id\":\"5850\",\"type\":\"Quad\"},{\"attributes\":{\"active_drag\":\"auto\",\"active_inspect\":\"auto\",\"active_multi\":null,\"active_scroll\":\"auto\",\"active_tap\":\"auto\",\"tools\":[{\"id\":\"5918\",\"type\":\"HoverTool\"}]},\"id\":\"5911\",\"type\":\"Toolbar\"},{\"attributes\":{},\"id\":\"6025\",\"type\":\"UnionRenderers\"},{\"attributes\":{},\"id\":\"6026\",\"type\":\"Selection\"},{\"attributes\":{\"source\":{\"id\":\"5848\",\"type\":\"ColumnDataSource\"}},\"id\":\"5853\",\"type\":\"CDSView\"},{\"attributes\":{\"data_source\":{\"id\":\"5912\",\"type\":\"ColumnDataSource\"},\"glyph\":{\"id\":\"5914\",\"type\":\"Quad\"},\"hover_glyph\":null,\"muted_glyph\":null,\"nonselection_glyph\":{\"id\":\"5915\",\"type\":\"Quad\"},\"selection_glyph\":null,\"view\":{\"id\":\"5917\",\"type\":\"CDSView\"}},\"id\":\"5916\",\"type\":\"GlyphRenderer\"},{\"attributes\":{\"bottom\":{\"value\":0.01},\"fill_alpha\":{\"value\":0.1},\"fill_color\":{\"value\":\"#1f77b4\"},\"left\":{\"field\":\"left\"},\"line_alpha\":{\"value\":0.1},\"line_color\":{\"value\":\"#1f77b4\"},\"right\":{\"field\":\"right\"},\"top\":{\"field\":\"freq\"}},\"id\":\"5851\",\"type\":\"Quad\"},{\"attributes\":{},\"id\":\"6029\",\"type\":\"BasicTickFormatter\"},{\"attributes\":{\"bottom\":{\"value\":0.01},\"fill_alpha\":{\"value\":0.5},\"fill_color\":{\"value\":\"#6baed6\"},\"left\":{\"field\":\"left\"},\"line_alpha\":{\"value\":0.5},\"line_color\":{\"value\":\"#1f77b4\"},\"right\":{\"field\":\"right\"},\"top\":{\"field\":\"freq\"}},\"id\":\"5914\",\"type\":\"Quad\"},{\"attributes\":{\"callback\":null},\"id\":\"5797\",\"type\":\"DataRange1d\"},{\"attributes\":{},\"id\":\"5897\",\"type\":\"LinearScale\"},{\"attributes\":{},\"id\":\"6031\",\"type\":\"BasicTickFormatter\"},{\"attributes\":{\"callback\":null,\"mode\":\"vline\",\"tooltips\":[[\"Bin\",\"@intervals\"],[\"Frequency\",\"@freq\"],[\"Percent\",\"@pct{0.2f}%\"]]},\"id\":\"5854\",\"type\":\"HoverTool\"},{\"attributes\":{},\"id\":\"6032\",\"type\":\"UnionRenderers\"},{\"attributes\":{},\"id\":\"6046\",\"type\":\"UnionRenderers\"},{\"attributes\":{\"source\":{\"id\":\"5912\",\"type\":\"ColumnDataSource\"}},\"id\":\"5917\",\"type\":\"CDSView\"},{\"attributes\":{\"below\":[{\"id\":\"5869\",\"type\":\"LinearAxis\"}],\"center\":[{\"id\":\"5873\",\"type\":\"Grid\"},{\"id\":\"5878\",\"type\":\"Grid\"}],\"left\":[{\"id\":\"5874\",\"type\":\"LinearAxis\"}],\"plot_height\":300,\"plot_width\":324,\"renderers\":[{\"id\":\"5884\",\"type\":\"GlyphRenderer\"}],\"title\":{\"id\":\"5859\",\"type\":\"Title\"},\"toolbar\":{\"id\":\"5879\",\"type\":\"Toolbar\"},\"toolbar_location\":null,\"x_range\":{\"id\":\"5861\",\"type\":\"DataRange1d\"},\"x_scale\":{\"id\":\"5865\",\"type\":\"LinearScale\"},\"y_range\":{\"id\":\"5863\",\"type\":\"DataRange1d\"},\"y_scale\":{\"id\":\"5867\",\"type\":\"LinearScale\"}},\"id\":\"5858\",\"subtype\":\"Figure\",\"type\":\"Plot\"},{\"attributes\":{\"bottom\":{\"value\":0.01},\"fill_alpha\":{\"value\":0.1},\"fill_color\":{\"value\":\"#1f77b4\"},\"left\":{\"field\":\"left\"},\"line_alpha\":{\"value\":0.1},\"line_color\":{\"value\":\"#1f77b4\"},\"right\":{\"field\":\"right\"},\"top\":{\"field\":\"freq\"}},\"id\":\"5915\",\"type\":\"Quad\"},{\"attributes\":{},\"id\":\"6033\",\"type\":\"Selection\"},{\"attributes\":{\"callback\":null,\"data\":{\"freq\":[227,0,0,0,0,0,0,0,0,387],\"index\":[0,1,2,3,4,5,6,7,8,9],\"intervals\":[\"[0.0,0.1)\",\"[0.1,0.2)\",\"[0.2,0.3)\",\"[0.3,0.4)\",\"[0.4,0.5)\",\"[0.5,0.6)\",\"[0.6,0.7)\",\"[0.7,0.8)\",\"[0.8,0.9)\",\"[0.9,1.0]\"],\"left\":{\"__ndarray__\":\"AAAAAAAAAACamZmZmZm5P5qZmZmZmck/NDMzMzMz0z+amZmZmZnZPwAAAAAAAOA/NDMzMzMz4z9nZmZmZmbmP5qZmZmZmek/zczMzMzM7D8=\",\"dtype\":\"float64\",\"shape\":[10]},\"pct\":{\"__ndarray__\":\"41DlXz98QkAAAAAAAAAAAAAAAAAAAAAAAAAAAAAAAAAAAAAAAAAAAAAAAAAAAAAAAAAAAAAAAAAAAAAAAAAAAAAAAAAAAAAAHK8aoMCDT0A=\",\"dtype\":\"float64\",\"shape\":[10]},\"right\":{\"__ndarray__\":\"mpmZmZmZuT+amZmZmZnJPzQzMzMzM9M/mpmZmZmZ2T8AAAAAAADgPzQzMzMzM+M/Z2ZmZmZm5j+amZmZmZnpP83MzMzMzOw/AAAAAAAA8D8=\",\"dtype\":\"float64\",\"shape\":[10]}},\"selected\":{\"id\":\"6033\",\"type\":\"Selection\"},\"selection_policy\":{\"id\":\"6032\",\"type\":\"UnionRenderers\"}},\"id\":\"5880\",\"type\":\"ColumnDataSource\"},{\"attributes\":{},\"id\":\"6036\",\"type\":\"BasicTickFormatter\"},{\"attributes\":{\"ticks\":[0.0,0.1,0.2,0.30000000000000004,0.4,0.5,0.6000000000000001,0.7000000000000001,0.8,0.9,1.0]},\"id\":\"5856\",\"type\":\"FixedTicker\"},{\"attributes\":{\"callback\":null,\"mode\":\"vline\",\"tooltips\":[[\"Bin\",\"@intervals\"],[\"Frequency\",\"@freq\"],[\"Percent\",\"@pct{0.2f}%\"]]},\"id\":\"5918\",\"type\":\"HoverTool\"},{\"attributes\":{},\"id\":\"6038\",\"type\":\"BasicTickFormatter\"},{\"attributes\":{\"text\":\"hispan\",\"text_font_size\":{\"value\":\"10pt\"}},\"id\":\"5795\",\"type\":\"Title\"},{\"attributes\":{\"text\":\"nodegree\",\"text_font_size\":{\"value\":\"10pt\"}},\"id\":\"5859\",\"type\":\"Title\"},{\"attributes\":{\"below\":[{\"id\":\"5933\",\"type\":\"LinearAxis\"}],\"center\":[{\"id\":\"5937\",\"type\":\"Grid\"},{\"id\":\"5942\",\"type\":\"Grid\"}],\"left\":[{\"id\":\"5938\",\"type\":\"LinearAxis\"}],\"plot_height\":300,\"plot_width\":324,\"renderers\":[{\"id\":\"5948\",\"type\":\"GlyphRenderer\"}],\"title\":{\"id\":\"5923\",\"type\":\"Title\"},\"toolbar\":{\"id\":\"5943\",\"type\":\"Toolbar\"},\"toolbar_location\":null,\"x_range\":{\"id\":\"5925\",\"type\":\"DataRange1d\"},\"x_scale\":{\"id\":\"5929\",\"type\":\"LinearScale\"},\"y_range\":{\"id\":\"5927\",\"type\":\"DataRange1d\"},\"y_scale\":{\"id\":\"5931\",\"type\":\"LinearScale\"}},\"id\":\"5922\",\"subtype\":\"Figure\",\"type\":\"Plot\"},{\"attributes\":{},\"id\":\"6039\",\"type\":\"UnionRenderers\"},{\"attributes\":{\"callback\":null},\"id\":\"5861\",\"type\":\"DataRange1d\"},{\"attributes\":{\"callback\":null,\"data\":{\"freq\":[421,97,53,19,14,5,1,3,0,1],\"index\":[0,1,2,3,4,5,6,7,8,9],\"intervals\":[\"[0.0,2514.224)\",\"[2514.224,5028.448)\",\"[5028.448,7542.672)\",\"[7542.672,10056.896)\",\"[10056.896,12571.12)\",\"[12571.12,15085.344)\",\"[15085.344,17599.568)\",\"[17599.568,20113.792)\",\"[20113.792,22628.016)\",\"[22628.016,25142.24]\"],\"left\":{\"__ndarray__\":\"AAAAAAAAAACcxCCwcqSjQJzEILBypLNA6iYxCKx2vUCcxCCwcqTDQMP1KFyPjchA6iYxCKx2zUAIrBxa5C/RQJzEILBypNNAMN0kBgEZ1kA=\",\"dtype\":\"float64\",\"shape\":[10]},\"pct\":{\"__ndarray__\":\"xZysC0YkUUBN0edumZgvQA1Q4EGLQyFAb5mYk3XBCEBS6n3ztD0CQHW8aoACD+o/XjAizc7YxD+LSLMzNkXfPwAAAAAAAAAAXjAizc7YxD8=\",\"dtype\":\"float64\",\"shape\":[10]},\"right\":{\"__ndarray__\":\"nMQgsHKko0CcxCCwcqSzQOomMQisdr1AnMQgsHKkw0DD9Shcj43IQOomMQisds1ACKwcWuQv0UCcxCCwcqTTQDDdJAYBGdZAw/UoXI+N2EA=\",\"dtype\":\"float64\",\"shape\":[10]}},\"selected\":{\"id\":\"6047\",\"type\":\"Selection\"},\"selection_policy\":{\"id\":\"6046\",\"type\":\"UnionRenderers\"}},\"id\":\"5944\",\"type\":\"ColumnDataSource\"},{\"attributes\":{},\"id\":\"6040\",\"type\":\"Selection\"},{\"attributes\":{\"data_source\":{\"id\":\"5784\",\"type\":\"ColumnDataSource\"},\"glyph\":{\"id\":\"5786\",\"type\":\"Quad\"},\"hover_glyph\":null,\"muted_glyph\":null,\"nonselection_glyph\":{\"id\":\"5787\",\"type\":\"Quad\"},\"selection_glyph\":null,\"view\":{\"id\":\"5789\",\"type\":\"CDSView\"}},\"id\":\"5788\",\"type\":\"GlyphRenderer\"},{\"attributes\":{\"callback\":null},\"id\":\"5863\",\"type\":\"DataRange1d\"},{\"attributes\":{\"ticks\":[0.0,3504.007,7008.014,10512.021,14016.028,17520.035,21024.042,24528.049,28032.056,31536.063000000002,35040.07]},\"id\":\"5920\",\"type\":\"FixedTicker\"},{\"attributes\":{},\"id\":\"5865\",\"type\":\"LinearScale\"},{\"attributes\":{\"text\":\"re75\",\"text_font_size\":{\"value\":\"10pt\"}},\"id\":\"5923\",\"type\":\"Title\"},{\"attributes\":{\"callback\":null,\"data\":{\"freq\":[371,0,0,0,0,0,0,0,0,243],\"index\":[0,1,2,3,4,5,6,7,8,9],\"intervals\":[\"[0.0,0.1)\",\"[0.1,0.2)\",\"[0.2,0.3)\",\"[0.3,0.4)\",\"[0.4,0.5)\",\"[0.5,0.6)\",\"[0.6,0.7)\",\"[0.7,0.8)\",\"[0.8,0.9)\",\"[0.9,1.0]\"],\"left\":{\"__ndarray__\":\"AAAAAAAAAACamZmZmZm5P5qZmZmZmck/NDMzMzMz0z+amZmZmZnZPwAAAAAAAOA/NDMzMzMz4z9nZmZmZmbmP5qZmZmZmek/zczMzMzM7D8=\",\"dtype\":\"float64\",\"shape\":[10]},\"pct\":{\"__ndarray__\":\"GIxIszM2TkAAAAAAAAAAAAAAAAAAAAAAAAAAAAAAAAAAAAAAAAAAAAAAAAAAAAAAAAAAAAAAAAAAAAAAAAAAAAAAAAAAAAAA6XO3TMzJQ0A=\",\"dtype\":\"float64\",\"shape\":[10]},\"right\":{\"__ndarray__\":\"mpmZmZmZuT+amZmZmZnJPzQzMzMzM9M/mpmZmZmZ2T8AAAAAAADgPzQzMzMzM+M/Z2ZmZmZm5j+amZmZmZnpP83MzMzMzOw/AAAAAAAA8D8=\",\"dtype\":\"float64\",\"shape\":[10]}},\"selected\":{\"id\":\"6012\",\"type\":\"Selection\"},\"selection_policy\":{\"id\":\"6011\",\"type\":\"UnionRenderers\"}},\"id\":\"5784\",\"type\":\"ColumnDataSource\"},{\"attributes\":{\"callback\":null,\"mode\":\"vline\",\"tooltips\":[[\"Bin\",\"@intervals\"],[\"Frequency\",\"@freq\"],[\"Percent\",\"@pct{0.2f}%\"]]},\"id\":\"5790\",\"type\":\"HoverTool\"},{\"attributes\":{},\"id\":\"5867\",\"type\":\"LinearScale\"},{\"attributes\":{\"callback\":null},\"id\":\"5925\",\"type\":\"DataRange1d\"},{\"attributes\":{},\"id\":\"5779\",\"type\":\"BasicTicker\"},{\"attributes\":{\"active_drag\":\"auto\",\"active_inspect\":\"auto\",\"active_multi\":null,\"active_scroll\":\"auto\",\"active_tap\":\"auto\",\"tools\":[{\"id\":\"5790\",\"type\":\"HoverTool\"}]},\"id\":\"5783\",\"type\":\"Toolbar\"},{\"attributes\":{\"formatter\":{\"id\":\"6031\",\"type\":\"BasicTickFormatter\"},\"major_label_orientation\":1.0471975511965976,\"major_label_text_font_size\":{\"value\":\"9pt\"},\"minor_tick_line_color\":{\"value\":null},\"ticker\":{\"id\":\"5888\",\"type\":\"FixedTicker\"}},\"id\":\"5869\",\"type\":\"LinearAxis\"},{\"attributes\":{\"callback\":null},\"id\":\"5927\",\"type\":\"DataRange1d\"},{\"attributes\":{},\"id\":\"5929\",\"type\":\"LinearScale\"},{\"attributes\":{},\"id\":\"5870\",\"type\":\"BasicTicker\"},{\"attributes\":{\"bottom\":{\"value\":0.01},\"fill_alpha\":{\"value\":0.5},\"fill_color\":{\"value\":\"#6baed6\"},\"left\":{\"field\":\"left\"},\"line_alpha\":{\"value\":0.5},\"line_color\":{\"value\":\"#1f77b4\"},\"right\":{\"field\":\"right\"},\"top\":{\"field\":\"freq\"}},\"id\":\"5786\",\"type\":\"Quad\"},{\"attributes\":{\"grid_line_color\":null,\"ticker\":{\"id\":\"5870\",\"type\":\"BasicTicker\"}},\"id\":\"5873\",\"type\":\"Grid\"},{\"attributes\":{},\"id\":\"5931\",\"type\":\"LinearScale\"},{\"attributes\":{\"axis_label\":\"Frequency\",\"formatter\":{\"id\":\"6029\",\"type\":\"BasicTickFormatter\"},\"major_label_text_font_size\":{\"value\":\"0pt\"},\"major_tick_line_color\":{\"value\":null},\"minor_tick_line_color\":{\"value\":null},\"ticker\":{\"id\":\"5875\",\"type\":\"BasicTicker\"}},\"id\":\"5874\",\"type\":\"LinearAxis\"},{\"attributes\":{\"formatter\":{\"id\":\"6045\",\"type\":\"BasicTickFormatter\"},\"major_label_orientation\":1.0471975511965976,\"major_label_text_font_size\":{\"value\":\"9pt\"},\"minor_tick_line_color\":{\"value\":null},\"ticker\":{\"id\":\"5952\",\"type\":\"FixedTicker\"}},\"id\":\"5933\",\"type\":\"LinearAxis\"},{\"attributes\":{},\"id\":\"5875\",\"type\":\"BasicTicker\"},{\"attributes\":{},\"id\":\"5934\",\"type\":\"BasicTicker\"},{\"attributes\":{\"dimension\":1,\"grid_line_color\":null,\"ticker\":{\"id\":\"5875\",\"type\":\"BasicTicker\"}},\"id\":\"5878\",\"type\":\"Grid\"},{\"attributes\":{\"grid_line_color\":null,\"ticker\":{\"id\":\"5934\",\"type\":\"BasicTicker\"}},\"id\":\"5937\",\"type\":\"Grid\"},{\"attributes\":{\"ticks\":[0.0,0.1,0.2,0.30000000000000004,0.4,0.5,0.6000000000000001,0.7000000000000001,0.8,0.9,1.0]},\"id\":\"5792\",\"type\":\"FixedTicker\"},{\"attributes\":{\"callback\":null,\"data\":{\"freq\":[388,59,56,46,28,17,10,9,0,1],\"index\":[0,1,2,3,4,5,6,7,8,9],\"intervals\":[\"[0.0,3504.007)\",\"[3504.007,7008.014)\",\"[7008.014,10512.021)\",\"[10512.021,14016.028)\",\"[14016.028,17520.035)\",\"[17520.035,21024.042)\",\"[21024.042,24528.049)\",\"[24528.049,28032.056)\",\"[28032.056,31536.063)\",\"[31536.063,35040.07]\"],\"left\":{\"__ndarray__\":\"AAAAAAAAAAAlBoGVA2CrQCUGgZUDYLtAnMQgsAKIxEAlBoGVA2DLQNejcD0CHNFAnMQgsAKI1EBg5dAiA/TXQCUGgZUDYNtA6iYxCATM3kA=\",\"dtype\":\"float64\",\"shape\":[10]},\"pct\":{\"__ndarray__\":\"TdHnbpmYT0CWhBul3jcjQFLqffO0PSJAhyXhRqn3HUBS6n3ztD0SQGNT9LlbJgZAdbxqgAIP+j9pdsam6HP3PwAAAAAAAAAAXjAizc7YxD8=\",\"dtype\":\"float64\",\"shape\":[10]},\"right\":{\"__ndarray__\":\"JQaBlQNgq0AlBoGVA2C7QJzEILACiMRAJQaBlQNgy0DXo3A9AhzRQJzEILACiNRAYOXQIgP010AlBoGVA2DbQOomMQgEzN5A16NwPQIc4UA=\",\"dtype\":\"float64\",\"shape\":[10]}},\"selected\":{\"id\":\"6040\",\"type\":\"Selection\"},\"selection_policy\":{\"id\":\"6039\",\"type\":\"UnionRenderers\"}},\"id\":\"5912\",\"type\":\"ColumnDataSource\"},{\"attributes\":{\"active_drag\":\"auto\",\"active_inspect\":\"auto\",\"active_multi\":null,\"active_scroll\":\"auto\",\"active_tap\":\"auto\",\"tools\":[{\"id\":\"5886\",\"type\":\"HoverTool\"}]},\"id\":\"5879\",\"type\":\"Toolbar\"},{\"attributes\":{\"axis_label\":\"Frequency\",\"formatter\":{\"id\":\"6043\",\"type\":\"BasicTickFormatter\"},\"major_label_text_font_size\":{\"value\":\"0pt\"},\"major_tick_line_color\":{\"value\":null},\"minor_tick_line_color\":{\"value\":null},\"ticker\":{\"id\":\"5939\",\"type\":\"BasicTicker\"}},\"id\":\"5938\",\"type\":\"LinearAxis\"},{\"attributes\":{\"ticks\":[0.0,0.1,0.2,0.30000000000000004,0.4,0.5,0.6000000000000001,0.7000000000000001,0.8,0.9,1.0]},\"id\":\"5696\",\"type\":\"FixedTicker\"},{\"attributes\":{},\"id\":\"5939\",\"type\":\"BasicTicker\"},{\"attributes\":{},\"id\":\"6054\",\"type\":\"Selection\"},{\"attributes\":{\"callback\":null},\"id\":\"5895\",\"type\":\"DataRange1d\"},{\"attributes\":{\"data_source\":{\"id\":\"5880\",\"type\":\"ColumnDataSource\"},\"glyph\":{\"id\":\"5882\",\"type\":\"Quad\"},\"hover_glyph\":null,\"muted_glyph\":null,\"nonselection_glyph\":{\"id\":\"5883\",\"type\":\"Quad\"},\"selection_glyph\":null,\"view\":{\"id\":\"5885\",\"type\":\"CDSView\"}},\"id\":\"5884\",\"type\":\"GlyphRenderer\"},{\"attributes\":{\"dimension\":1,\"grid_line_color\":null,\"ticker\":{\"id\":\"5939\",\"type\":\"BasicTicker\"}},\"id\":\"5942\",\"type\":\"Grid\"},{\"attributes\":{\"bottom\":{\"value\":0.01},\"fill_alpha\":{\"value\":0.5},\"fill_color\":{\"value\":\"#6baed6\"},\"left\":{\"field\":\"left\"},\"line_alpha\":{\"value\":0.5},\"line_color\":{\"value\":\"#1f77b4\"},\"right\":{\"field\":\"right\"},\"top\":{\"field\":\"freq\"}},\"id\":\"5882\",\"type\":\"Quad\"},{\"attributes\":{\"active_drag\":\"auto\",\"active_inspect\":\"auto\",\"active_multi\":null,\"active_scroll\":\"auto\",\"active_tap\":\"auto\",\"tools\":[{\"id\":\"5950\",\"type\":\"HoverTool\"}]},\"id\":\"5943\",\"type\":\"Toolbar\"},{\"attributes\":{\"callback\":null,\"data\":{\"freq\":[153,124,113,62,35,35,34,23,20,15],\"index\":[0,1,2,3,4,5,6,7,8,9],\"intervals\":[\"[16.0,19.9)\",\"[19.9,23.8)\",\"[23.8,27.7)\",\"[27.7,31.6)\",\"[31.6,35.5)\",\"[35.5,39.4)\",\"[39.4,43.3)\",\"[43.3,47.2)\",\"[47.2,51.1)\",\"[51.1,55.0]\"],\"left\":{\"__ndarray__\":\"AAAAAAAAMEBmZmZmZuYzQM3MzMzMzDdAMzMzMzOzO0CamZmZmZk/QAAAAAAAwEFAMzMzMzOzQ0BmZmZmZqZFQJqZmZmZmUdAzczMzMyMSUA=\",\"dtype\":\"float64\",\"shape\":[10]},\"pct\":{\"__ndarray__\":\"0N0yMSfrOEDbHrlWCDI0QLIuGJFmZzJA2x65VggyJEDmZF0wIs0WQOZkXTAizRZAY1P0uVsmFkCHJeFGqfcNQHW8aoACDwpAWA1Q4EGLA0A=\",\"dtype\":\"float64\",\"shape\":[10]},\"right\":{\"__ndarray__\":\"ZmZmZmbmM0DNzMzMzMw3QDMzMzMzsztAmpmZmZmZP0AAAAAAAMBBQDMzMzMzs0NAZmZmZmamRUCamZmZmZlHQM3MzMzMjElAAAAAAACAS0A=\",\"dtype\":\"float64\",\"shape\":[10]}},\"selected\":{\"id\":\"5998\",\"type\":\"Selection\"},\"selection_policy\":{\"id\":\"5997\",\"type\":\"UnionRenderers\"}},\"id\":\"5720\",\"type\":\"ColumnDataSource\"},{\"attributes\":{\"axis_label\":\"Frequency\",\"formatter\":{\"id\":\"5987\",\"type\":\"BasicTickFormatter\"},\"major_label_text_font_size\":{\"value\":\"0pt\"},\"major_tick_line_color\":{\"value\":null},\"minor_tick_line_color\":{\"value\":null},\"ticker\":{\"id\":\"5683\",\"type\":\"BasicTicker\"}},\"id\":\"5682\",\"type\":\"LinearAxis\"},{\"attributes\":{\"source\":{\"id\":\"5880\",\"type\":\"ColumnDataSource\"}},\"id\":\"5885\",\"type\":\"CDSView\"},{\"attributes\":{\"below\":[{\"id\":\"5805\",\"type\":\"LinearAxis\"}],\"center\":[{\"id\":\"5809\",\"type\":\"Grid\"},{\"id\":\"5814\",\"type\":\"Grid\"}],\"left\":[{\"id\":\"5810\",\"type\":\"LinearAxis\"}],\"plot_height\":300,\"plot_width\":324,\"renderers\":[{\"id\":\"5820\",\"type\":\"GlyphRenderer\"}],\"title\":{\"id\":\"5795\",\"type\":\"Title\"},\"toolbar\":{\"id\":\"5815\",\"type\":\"Toolbar\"},\"toolbar_location\":null,\"x_range\":{\"id\":\"5797\",\"type\":\"DataRange1d\"},\"x_scale\":{\"id\":\"5801\",\"type\":\"LinearScale\"},\"y_range\":{\"id\":\"5799\",\"type\":\"DataRange1d\"},\"y_scale\":{\"id\":\"5803\",\"type\":\"LinearScale\"}},\"id\":\"5794\",\"subtype\":\"Figure\",\"type\":\"Plot\"},{\"attributes\":{\"data_source\":{\"id\":\"5944\",\"type\":\"ColumnDataSource\"},\"glyph\":{\"id\":\"5946\",\"type\":\"Quad\"},\"hover_glyph\":null,\"muted_glyph\":null,\"nonselection_glyph\":{\"id\":\"5947\",\"type\":\"Quad\"},\"selection_glyph\":null,\"view\":{\"id\":\"5949\",\"type\":\"CDSView\"}},\"id\":\"5948\",\"type\":\"GlyphRenderer\"},{\"attributes\":{\"bottom\":{\"value\":0.01},\"fill_alpha\":{\"value\":0.1},\"fill_color\":{\"value\":\"#1f77b4\"},\"left\":{\"field\":\"left\"},\"line_alpha\":{\"value\":0.1},\"line_color\":{\"value\":\"#1f77b4\"},\"right\":{\"field\":\"right\"},\"top\":{\"field\":\"freq\"}},\"id\":\"5883\",\"type\":\"Quad\"},{\"attributes\":{\"bottom\":{\"value\":0.01},\"fill_alpha\":{\"value\":0.5},\"fill_color\":{\"value\":\"#6baed6\"},\"left\":{\"field\":\"left\"},\"line_alpha\":{\"value\":0.5},\"line_color\":{\"value\":\"#1f77b4\"},\"right\":{\"field\":\"right\"},\"top\":{\"field\":\"freq\"}},\"id\":\"5946\",\"type\":\"Quad\"},{\"attributes\":{},\"id\":\"5991\",\"type\":\"Selection\"},{\"attributes\":{\"callback\":null,\"mode\":\"vline\",\"tooltips\":[[\"Bin\",\"@intervals\"],[\"Frequency\",\"@freq\"],[\"Percent\",\"@pct{0.2f}%\"]]},\"id\":\"5886\",\"type\":\"HoverTool\"},{\"attributes\":{\"grid_line_color\":null,\"ticker\":{\"id\":\"5678\",\"type\":\"BasicTicker\"}},\"id\":\"5681\",\"type\":\"Grid\"},{\"attributes\":{\"below\":[{\"id\":\"5709\",\"type\":\"LinearAxis\"}],\"center\":[{\"id\":\"5713\",\"type\":\"Grid\"},{\"id\":\"5718\",\"type\":\"Grid\"}],\"left\":[{\"id\":\"5714\",\"type\":\"LinearAxis\"}],\"plot_height\":300,\"plot_width\":324,\"renderers\":[{\"id\":\"5724\",\"type\":\"GlyphRenderer\"}],\"title\":{\"id\":\"5699\",\"type\":\"Title\"},\"toolbar\":{\"id\":\"5719\",\"type\":\"Toolbar\"},\"toolbar_location\":null,\"x_range\":{\"id\":\"5701\",\"type\":\"DataRange1d\"},\"x_scale\":{\"id\":\"5705\",\"type\":\"LinearScale\"},\"y_range\":{\"id\":\"5703\",\"type\":\"DataRange1d\"},\"y_scale\":{\"id\":\"5707\",\"type\":\"LinearScale\"}},\"id\":\"5698\",\"subtype\":\"Figure\",\"type\":\"Plot\"},{\"attributes\":{\"source\":{\"id\":\"5944\",\"type\":\"ColumnDataSource\"}},\"id\":\"5949\",\"type\":\"CDSView\"},{\"attributes\":{\"callback\":null,\"data\":{\"freq\":[542,0,0,0,0,0,0,0,0,72],\"index\":[0,1,2,3,4,5,6,7,8,9],\"intervals\":[\"[0.0,0.1)\",\"[0.1,0.2)\",\"[0.2,0.3)\",\"[0.3,0.4)\",\"[0.4,0.5)\",\"[0.5,0.6)\",\"[0.6,0.7)\",\"[0.7,0.8)\",\"[0.8,0.9)\",\"[0.9,1.0]\"],\"left\":{\"__ndarray__\":\"AAAAAAAAAACamZmZmZm5P5qZmZmZmck/NDMzMzMz0z+amZmZmZnZPwAAAAAAAOA/NDMzMzMz4z9nZmZmZmbmP5qZmZmZmek/zczMzMzM7D8=\",\"dtype\":\"float64\",\"shape\":[10]},\"pct\":{\"__ndarray__\":\"MjEn64IRVkAAAAAAAAAAAAAAAAAAAAAAAAAAAAAAAAAAAAAAAAAAAAAAAAAAAAAAAAAAAAAAAAAAAAAAAAAAAAAAAAAAAAAAaXbGpuhzJ0A=\",\"dtype\":\"float64\",\"shape\":[10]},\"right\":{\"__ndarray__\":\"mpmZmZmZuT+amZmZmZnJPzQzMzMzM9M/mpmZmZmZ2T8AAAAAAADgPzQzMzMzM+M/Z2ZmZmZm5j+amZmZmZnpP83MzMzMzOw/AAAAAAAA8D8=\",\"dtype\":\"float64\",\"shape\":[10]}},\"selected\":{\"id\":\"6019\",\"type\":\"Selection\"},\"selection_policy\":{\"id\":\"6018\",\"type\":\"UnionRenderers\"}},\"id\":\"5816\",\"type\":\"ColumnDataSource\"},{\"attributes\":{\"below\":[{\"id\":\"5677\",\"type\":\"LinearAxis\"}],\"center\":[{\"id\":\"5681\",\"type\":\"Grid\"},{\"id\":\"5686\",\"type\":\"Grid\"}],\"left\":[{\"id\":\"5682\",\"type\":\"LinearAxis\"}],\"plot_height\":300,\"plot_width\":324,\"renderers\":[{\"id\":\"5692\",\"type\":\"GlyphRenderer\"}],\"title\":{\"id\":\"5667\",\"type\":\"Title\"},\"toolbar\":{\"id\":\"5687\",\"type\":\"Toolbar\"},\"toolbar_location\":null,\"x_range\":{\"id\":\"5669\",\"type\":\"DataRange1d\"},\"x_scale\":{\"id\":\"5673\",\"type\":\"LinearScale\"},\"y_range\":{\"id\":\"5671\",\"type\":\"DataRange1d\"},\"y_scale\":{\"id\":\"5675\",\"type\":\"LinearScale\"}},\"id\":\"5666\",\"subtype\":\"Figure\",\"type\":\"Plot\"},{\"attributes\":{\"bottom\":{\"value\":0.01},\"fill_alpha\":{\"value\":0.1},\"fill_color\":{\"value\":\"#1f77b4\"},\"left\":{\"field\":\"left\"},\"line_alpha\":{\"value\":0.1},\"line_color\":{\"value\":\"#1f77b4\"},\"right\":{\"field\":\"right\"},\"top\":{\"field\":\"freq\"}},\"id\":\"5947\",\"type\":\"Quad\"},{\"attributes\":{\"grid_line_color\":null,\"ticker\":{\"id\":\"5774\",\"type\":\"BasicTicker\"}},\"id\":\"5777\",\"type\":\"Grid\"},{\"attributes\":{\"callback\":null},\"id\":\"5893\",\"type\":\"DataRange1d\"},{\"attributes\":{},\"id\":\"5994\",\"type\":\"BasicTickFormatter\"},{\"attributes\":{\"ticks\":[0.0,0.1,0.2,0.30000000000000004,0.4,0.5,0.6000000000000001,0.7000000000000001,0.8,0.9,1.0]},\"id\":\"5888\",\"type\":\"FixedTicker\"},{\"attributes\":{\"callback\":null,\"mode\":\"vline\",\"tooltips\":[[\"Bin\",\"@intervals\"],[\"Frequency\",\"@freq\"],[\"Percent\",\"@pct{0.2f}%\"]]},\"id\":\"5950\",\"type\":\"HoverTool\"},{\"attributes\":{\"bottom\":{\"value\":0.01},\"fill_alpha\":{\"value\":0.5},\"fill_color\":{\"value\":\"#6baed6\"},\"left\":{\"field\":\"left\"},\"line_alpha\":{\"value\":0.5},\"line_color\":{\"value\":\"#1f77b4\"},\"right\":{\"field\":\"right\"},\"top\":{\"field\":\"freq\"}},\"id\":\"5690\",\"type\":\"Quad\"},{\"attributes\":{},\"id\":\"5899\",\"type\":\"LinearScale\"},{\"attributes\":{\"below\":[{\"id\":\"5965\",\"type\":\"LinearAxis\"}],\"center\":[{\"id\":\"5969\",\"type\":\"Grid\"},{\"id\":\"5974\",\"type\":\"Grid\"}],\"left\":[{\"id\":\"5970\",\"type\":\"LinearAxis\"}],\"plot_height\":300,\"plot_width\":324,\"renderers\":[{\"id\":\"5980\",\"type\":\"GlyphRenderer\"}],\"title\":{\"id\":\"5955\",\"type\":\"Title\"},\"toolbar\":{\"id\":\"5975\",\"type\":\"Toolbar\"},\"toolbar_location\":null,\"x_range\":{\"id\":\"5957\",\"type\":\"DataRange1d\"},\"x_scale\":{\"id\":\"5961\",\"type\":\"LinearScale\"},\"y_range\":{\"id\":\"5959\",\"type\":\"DataRange1d\"},\"y_scale\":{\"id\":\"5963\",\"type\":\"LinearScale\"}},\"id\":\"5954\",\"subtype\":\"Figure\",\"type\":\"Plot\"},{\"attributes\":{},\"id\":\"5675\",\"type\":\"LinearScale\"},{\"attributes\":{\"bottom\":{\"value\":0.01},\"fill_alpha\":{\"value\":0.1},\"fill_color\":{\"value\":\"#1f77b4\"},\"left\":{\"field\":\"left\"},\"line_alpha\":{\"value\":0.1},\"line_color\":{\"value\":\"#1f77b4\"},\"right\":{\"field\":\"right\"},\"top\":{\"field\":\"freq\"}},\"id\":\"5691\",\"type\":\"Quad\"},{\"attributes\":{\"formatter\":{\"id\":\"6038\",\"type\":\"BasicTickFormatter\"},\"major_label_orientation\":1.0471975511965976,\"major_label_text_font_size\":{\"value\":\"9pt\"},\"minor_tick_line_color\":{\"value\":null},\"ticker\":{\"id\":\"5920\",\"type\":\"FixedTicker\"}},\"id\":\"5901\",\"type\":\"LinearAxis\"},{\"attributes\":{\"callback\":null,\"data\":{\"freq\":[341,138,76,36,20,1,1,0,0,1],\"index\":[0,1,2,3,4,5,6,7,8,9],\"intervals\":[\"[0.0,6030.793)\",\"[6030.793,12061.586)\",\"[12061.586,18092.379)\",\"[18092.379,24123.172)\",\"[24123.172,30153.965)\",\"[30153.965,36184.758)\",\"[36184.758,42215.551)\",\"[42215.551,48246.344)\",\"[48246.344,54277.137)\",\"[54277.137,60307.93]\"],\"left\":{\"__ndarray__\":\"AAAAAAAAAAC6SQwCy463QLpJDALLjsdATDeJQRir0UC6SQwCy47XQChcj8J9ct1ATDeJQRir4UCDwMqh8ZzkQLpJDALLjudA8dJNYqSA6kA=\",\"dtype\":\"float64\",\"shape\":[10]},\"pct\":{\"__ndarray__\":\"bYo+d8vES0Ak3Cj1vnk2QG+ZmJN1wShAaXbGpuhzF0B1vGqAAg8KQF4wIs3O2MQ/XjAizc7YxD8AAAAAAAAAAAAAAAAAAAAAXjAizc7YxD8=\",\"dtype\":\"float64\",\"shape\":[10]},\"right\":{\"__ndarray__\":\"ukkMAsuOt0C6SQwCy47HQEw3iUEYq9FAukkMAsuO10AoXI/CfXLdQEw3iUEYq+FAg8DKofGc5EC6SQwCy47nQPHSTWKkgOpAKVyPwn1y7UA=\",\"dtype\":\"float64\",\"shape\":[10]}},\"selected\":{\"id\":\"6054\",\"type\":\"Selection\"},\"selection_policy\":{\"id\":\"6053\",\"type\":\"UnionRenderers\"}},\"id\":\"5976\",\"type\":\"ColumnDataSource\"},{\"attributes\":{\"data_source\":{\"id\":\"5688\",\"type\":\"ColumnDataSource\"},\"glyph\":{\"id\":\"5690\",\"type\":\"Quad\"},\"hover_glyph\":null,\"muted_glyph\":null,\"nonselection_glyph\":{\"id\":\"5691\",\"type\":\"Quad\"},\"selection_glyph\":null,\"view\":{\"id\":\"5693\",\"type\":\"CDSView\"}},\"id\":\"5692\",\"type\":\"GlyphRenderer\"},{\"attributes\":{\"formatter\":{\"id\":\"5989\",\"type\":\"BasicTickFormatter\"},\"major_label_orientation\":1.0471975511965976,\"major_label_text_font_size\":{\"value\":\"9pt\"},\"minor_tick_line_color\":{\"value\":null},\"ticker\":{\"id\":\"5696\",\"type\":\"FixedTicker\"}},\"id\":\"5677\",\"type\":\"LinearAxis\"},{\"attributes\":{\"text\":\"re74\",\"text_font_size\":{\"value\":\"10pt\"}},\"id\":\"5891\",\"type\":\"Title\"},{\"attributes\":{\"bottom\":{\"value\":0.01},\"fill_alpha\":{\"value\":0.1},\"fill_color\":{\"value\":\"#1f77b4\"},\"left\":{\"field\":\"left\"},\"line_alpha\":{\"value\":0.1},\"line_color\":{\"value\":\"#1f77b4\"},\"right\":{\"field\":\"right\"},\"top\":{\"field\":\"freq\"}},\"id\":\"5787\",\"type\":\"Quad\"},{\"attributes\":{},\"id\":\"5902\",\"type\":\"BasicTicker\"},{\"attributes\":{\"ticks\":[0.0,2514.224,5028.448,7542.6720000000005,10056.896,12571.12,15085.344000000001,17599.568,20113.792,22628.016000000003,25142.24]},\"id\":\"5952\",\"type\":\"FixedTicker\"},{\"attributes\":{\"grid_line_color\":null,\"ticker\":{\"id\":\"5902\",\"type\":\"BasicTicker\"}},\"id\":\"5905\",\"type\":\"Grid\"},{\"attributes\":{\"text\":\"re78\",\"text_font_size\":{\"value\":\"10pt\"}},\"id\":\"5955\",\"type\":\"Title\"},{\"attributes\":{\"callback\":null},\"id\":\"5669\",\"type\":\"DataRange1d\"},{\"attributes\":{\"callback\":null,\"data\":{\"freq\":[429,0,0,0,0,0,0,0,0,185],\"index\":[0,1,2,3,4,5,6,7,8,9],\"intervals\":[\"[0.0,0.1)\",\"[0.1,0.2)\",\"[0.2,0.3)\",\"[0.3,0.4)\",\"[0.4,0.5)\",\"[0.5,0.6)\",\"[0.6,0.7)\",\"[0.7,0.8)\",\"[0.8,0.9)\",\"[0.9,1.0]\"],\"left\":{\"__ndarray__\":\"AAAAAAAAAACamZmZmZm5P5qZmZmZmck/NDMzMzMz0z+amZmZmZnZPwAAAAAAAOA/NDMzMzMz4z9nZmZmZmbmP5qZmZmZmek/zczMzMzM7D8=\",\"dtype\":\"float64\",\"shape\":[10]},\"pct\":{\"__ndarray__\":\"hiXhRql3UUAAAAAAAAAAAAAAAAAAAAAAAAAAAAAAAAAAAAAAAAAAAAAAAAAAAAAAAAAAAAAAAAAAAAAAAAAAAAAAAAAAAAAA6Gl75FohPkA=\",\"dtype\":\"float64\",\"shape\":[10]},\"right\":{\"__ndarray__\":\"mpmZmZmZuT+amZmZmZnJPzQzMzMzM9M/mpmZmZmZ2T8AAAAAAADgPzQzMzMzM+M/Z2ZmZmZm5j+amZmZmZnpP83MzMzMzOw/AAAAAAAA8D8=\",\"dtype\":\"float64\",\"shape\":[10]}},\"selected\":{\"id\":\"5991\",\"type\":\"Selection\"},\"selection_policy\":{\"id\":\"5990\",\"type\":\"UnionRenderers\"}},\"id\":\"5688\",\"type\":\"ColumnDataSource\"},{\"attributes\":{\"axis_label\":\"Frequency\",\"formatter\":{\"id\":\"6036\",\"type\":\"BasicTickFormatter\"},\"major_label_text_font_size\":{\"value\":\"0pt\"},\"major_tick_line_color\":{\"value\":null},\"minor_tick_line_color\":{\"value\":null},\"ticker\":{\"id\":\"5907\",\"type\":\"BasicTicker\"}},\"id\":\"5906\",\"type\":\"LinearAxis\"},{\"attributes\":{\"callback\":null},\"id\":\"5957\",\"type\":\"DataRange1d\"},{\"attributes\":{\"source\":{\"id\":\"5688\",\"type\":\"ColumnDataSource\"}},\"id\":\"5693\",\"type\":\"CDSView\"},{\"attributes\":{},\"id\":\"5678\",\"type\":\"BasicTicker\"},{\"attributes\":{},\"id\":\"5801\",\"type\":\"LinearScale\"},{\"attributes\":{\"callback\":null},\"id\":\"5959\",\"type\":\"DataRange1d\"},{\"attributes\":{\"axis_label\":\"Frequency\",\"formatter\":{\"id\":\"6001\",\"type\":\"BasicTickFormatter\"},\"major_label_text_font_size\":{\"value\":\"0pt\"},\"major_tick_line_color\":{\"value\":null},\"minor_tick_line_color\":{\"value\":null},\"ticker\":{\"id\":\"5747\",\"type\":\"BasicTicker\"}},\"id\":\"5746\",\"type\":\"LinearAxis\"},{\"attributes\":{},\"id\":\"5742\",\"type\":\"BasicTicker\"},{\"attributes\":{},\"id\":\"5961\",\"type\":\"LinearScale\"},{\"attributes\":{},\"id\":\"5737\",\"type\":\"LinearScale\"},{\"attributes\":{},\"id\":\"5747\",\"type\":\"BasicTicker\"},{\"attributes\":{},\"id\":\"5963\",\"type\":\"LinearScale\"},{\"attributes\":{\"dimension\":1,\"grid_line_color\":null,\"ticker\":{\"id\":\"5747\",\"type\":\"BasicTicker\"}},\"id\":\"5750\",\"type\":\"Grid\"},{\"attributes\":{\"formatter\":{\"id\":\"6052\",\"type\":\"BasicTickFormatter\"},\"major_label_orientation\":1.0471975511965976,\"major_label_text_font_size\":{\"value\":\"9pt\"},\"minor_tick_line_color\":{\"value\":null},\"ticker\":{\"id\":\"5984\",\"type\":\"FixedTicker\"}},\"id\":\"5965\",\"type\":\"LinearAxis\"},{\"attributes\":{},\"id\":\"5673\",\"type\":\"LinearScale\"},{\"attributes\":{\"active_drag\":\"auto\",\"active_inspect\":\"auto\",\"active_multi\":null,\"active_scroll\":\"auto\",\"active_tap\":\"auto\",\"tools\":[{\"id\":\"5758\",\"type\":\"HoverTool\"}]},\"id\":\"5751\",\"type\":\"Toolbar\"},{\"attributes\":{\"data_source\":{\"id\":\"5816\",\"type\":\"ColumnDataSource\"},\"glyph\":{\"id\":\"5818\",\"type\":\"Quad\"},\"hover_glyph\":null,\"muted_glyph\":null,\"nonselection_glyph\":{\"id\":\"5819\",\"type\":\"Quad\"},\"selection_glyph\":null,\"view\":{\"id\":\"5821\",\"type\":\"CDSView\"}},\"id\":\"5820\",\"type\":\"GlyphRenderer\"},{\"attributes\":{},\"id\":\"5806\",\"type\":\"BasicTicker\"},{\"attributes\":{},\"id\":\"5966\",\"type\":\"BasicTicker\"},{\"attributes\":{\"grid_line_color\":null,\"ticker\":{\"id\":\"5966\",\"type\":\"BasicTicker\"}},\"id\":\"5969\",\"type\":\"Grid\"},{\"attributes\":{\"active_drag\":\"auto\",\"active_inspect\":\"auto\",\"active_multi\":null,\"active_scroll\":\"auto\",\"active_tap\":\"auto\",\"tools\":[{\"id\":\"5726\",\"type\":\"HoverTool\"}]},\"id\":\"5719\",\"type\":\"Toolbar\"},{\"attributes\":{\"data_source\":{\"id\":\"5752\",\"type\":\"ColumnDataSource\"},\"glyph\":{\"id\":\"5754\",\"type\":\"Quad\"},\"hover_glyph\":null,\"muted_glyph\":null,\"nonselection_glyph\":{\"id\":\"5755\",\"type\":\"Quad\"},\"selection_glyph\":null,\"view\":{\"id\":\"5757\",\"type\":\"CDSView\"}},\"id\":\"5756\",\"type\":\"GlyphRenderer\"},{\"attributes\":{\"formatter\":{\"id\":\"6003\",\"type\":\"BasicTickFormatter\"},\"major_label_orientation\":1.0471975511965976,\"major_label_text_font_size\":{\"value\":\"9pt\"},\"minor_tick_line_color\":{\"value\":null},\"ticker\":{\"id\":\"5760\",\"type\":\"FixedTicker\"}},\"id\":\"5741\",\"type\":\"LinearAxis\"},{\"attributes\":{\"axis_label\":\"Frequency\",\"formatter\":{\"id\":\"6050\",\"type\":\"BasicTickFormatter\"},\"major_label_text_font_size\":{\"value\":\"0pt\"},\"major_tick_line_color\":{\"value\":null},\"minor_tick_line_color\":{\"value\":null},\"ticker\":{\"id\":\"5971\",\"type\":\"BasicTicker\"}},\"id\":\"5970\",\"type\":\"LinearAxis\"},{\"attributes\":{\"bottom\":{\"value\":0.01},\"fill_alpha\":{\"value\":0.5},\"fill_color\":{\"value\":\"#6baed6\"},\"left\":{\"field\":\"left\"},\"line_alpha\":{\"value\":0.5},\"line_color\":{\"value\":\"#1f77b4\"},\"right\":{\"field\":\"right\"},\"top\":{\"field\":\"freq\"}},\"id\":\"5754\",\"type\":\"Quad\"},{\"attributes\":{},\"id\":\"5803\",\"type\":\"LinearScale\"},{\"attributes\":{\"bottom\":{\"value\":0.01},\"fill_alpha\":{\"value\":0.1},\"fill_color\":{\"value\":\"#1f77b4\"},\"left\":{\"field\":\"left\"},\"line_alpha\":{\"value\":0.1},\"line_color\":{\"value\":\"#1f77b4\"},\"right\":{\"field\":\"right\"},\"top\":{\"field\":\"freq\"}},\"id\":\"5819\",\"type\":\"Quad\"},{\"attributes\":{},\"id\":\"6050\",\"type\":\"BasicTickFormatter\"},{\"attributes\":{},\"id\":\"5971\",\"type\":\"BasicTicker\"},{\"attributes\":{\"formatter\":{\"id\":\"6017\",\"type\":\"BasicTickFormatter\"},\"major_label_orientation\":1.0471975511965976,\"major_label_text_font_size\":{\"value\":\"9pt\"},\"minor_tick_line_color\":{\"value\":null},\"ticker\":{\"id\":\"5824\",\"type\":\"FixedTicker\"}},\"id\":\"5805\",\"type\":\"LinearAxis\"},{\"attributes\":{\"dimension\":1,\"grid_line_color\":null,\"ticker\":{\"id\":\"5971\",\"type\":\"BasicTicker\"}},\"id\":\"5974\",\"type\":\"Grid\"},{\"attributes\":{\"source\":{\"id\":\"5752\",\"type\":\"ColumnDataSource\"}},\"id\":\"5757\",\"type\":\"CDSView\"},{\"attributes\":{\"text\":\"age\",\"text_font_size\":{\"value\":\"10pt\"}},\"id\":\"5699\",\"type\":\"Title\"},{\"attributes\":{},\"id\":\"5739\",\"type\":\"LinearScale\"},{\"attributes\":{\"bottom\":{\"value\":0.01},\"fill_alpha\":{\"value\":0.1},\"fill_color\":{\"value\":\"#1f77b4\"},\"left\":{\"field\":\"left\"},\"line_alpha\":{\"value\":0.1},\"line_color\":{\"value\":\"#1f77b4\"},\"right\":{\"field\":\"right\"},\"top\":{\"field\":\"freq\"}},\"id\":\"5755\",\"type\":\"Quad\"},{\"attributes\":{\"active_drag\":\"auto\",\"active_inspect\":\"auto\",\"active_multi\":null,\"active_scroll\":\"auto\",\"active_tap\":\"auto\",\"tools\":[{\"id\":\"5982\",\"type\":\"HoverTool\"}]},\"id\":\"5975\",\"type\":\"Toolbar\"},{\"attributes\":{\"source\":{\"id\":\"5784\",\"type\":\"ColumnDataSource\"}},\"id\":\"5789\",\"type\":\"CDSView\"},{\"attributes\":{\"below\":[{\"id\":\"5837\",\"type\":\"LinearAxis\"}],\"center\":[{\"id\":\"5841\",\"type\":\"Grid\"},{\"id\":\"5846\",\"type\":\"Grid\"}],\"left\":[{\"id\":\"5842\",\"type\":\"LinearAxis\"}],\"plot_height\":300,\"plot_width\":324,\"renderers\":[{\"id\":\"5852\",\"type\":\"GlyphRenderer\"}],\"title\":{\"id\":\"5827\",\"type\":\"Title\"},\"toolbar\":{\"id\":\"5847\",\"type\":\"Toolbar\"},\"toolbar_location\":null,\"x_range\":{\"id\":\"5829\",\"type\":\"DataRange1d\"},\"x_scale\":{\"id\":\"5833\",\"type\":\"LinearScale\"},\"y_range\":{\"id\":\"5831\",\"type\":\"DataRange1d\"},\"y_scale\":{\"id\":\"5835\",\"type\":\"LinearScale\"}},\"id\":\"5826\",\"subtype\":\"Figure\",\"type\":\"Plot\"},{\"attributes\":{},\"id\":\"5705\",\"type\":\"LinearScale\"},{\"attributes\":{\"callback\":null,\"mode\":\"vline\",\"tooltips\":[[\"Bin\",\"@intervals\"],[\"Frequency\",\"@freq\"],[\"Percent\",\"@pct{0.2f}%\"]]},\"id\":\"5758\",\"type\":\"HoverTool\"},{\"attributes\":{\"callback\":null},\"id\":\"5671\",\"type\":\"DataRange1d\"},{\"attributes\":{\"active_drag\":\"auto\",\"active_inspect\":\"auto\",\"active_multi\":null,\"active_scroll\":\"auto\",\"active_tap\":\"auto\",\"tools\":[{\"id\":\"5694\",\"type\":\"HoverTool\"}]},\"id\":\"5687\",\"type\":\"Toolbar\"},{\"attributes\":{\"data_source\":{\"id\":\"5720\",\"type\":\"ColumnDataSource\"},\"glyph\":{\"id\":\"5722\",\"type\":\"Quad\"},\"hover_glyph\":null,\"muted_glyph\":null,\"nonselection_glyph\":{\"id\":\"5723\",\"type\":\"Quad\"},\"selection_glyph\":null,\"view\":{\"id\":\"5725\",\"type\":\"CDSView\"}},\"id\":\"5724\",\"type\":\"GlyphRenderer\"},{\"attributes\":{\"data_source\":{\"id\":\"5976\",\"type\":\"ColumnDataSource\"},\"glyph\":{\"id\":\"5978\",\"type\":\"Quad\"},\"hover_glyph\":null,\"muted_glyph\":null,\"nonselection_glyph\":{\"id\":\"5979\",\"type\":\"Quad\"},\"selection_glyph\":null,\"view\":{\"id\":\"5981\",\"type\":\"CDSView\"}},\"id\":\"5980\",\"type\":\"GlyphRenderer\"},{\"attributes\":{\"below\":[{\"id\":\"5773\",\"type\":\"LinearAxis\"}],\"center\":[{\"id\":\"5777\",\"type\":\"Grid\"},{\"id\":\"5782\",\"type\":\"Grid\"}],\"left\":[{\"id\":\"5778\",\"type\":\"LinearAxis\"}],\"plot_height\":300,\"plot_width\":324,\"renderers\":[{\"id\":\"5788\",\"type\":\"GlyphRenderer\"}],\"title\":{\"id\":\"5763\",\"type\":\"Title\"},\"toolbar\":{\"id\":\"5783\",\"type\":\"Toolbar\"},\"toolbar_location\":null,\"x_range\":{\"id\":\"5765\",\"type\":\"DataRange1d\"},\"x_scale\":{\"id\":\"5769\",\"type\":\"LinearScale\"},\"y_range\":{\"id\":\"5767\",\"type\":\"DataRange1d\"},\"y_scale\":{\"id\":\"5771\",\"type\":\"LinearScale\"}},\"id\":\"5762\",\"subtype\":\"Figure\",\"type\":\"Plot\"},{\"attributes\":{\"grid_line_color\":null,\"ticker\":{\"id\":\"5806\",\"type\":\"BasicTicker\"}},\"id\":\"5809\",\"type\":\"Grid\"},{\"attributes\":{\"bottom\":{\"value\":0.01},\"fill_alpha\":{\"value\":0.5},\"fill_color\":{\"value\":\"#6baed6\"},\"left\":{\"field\":\"left\"},\"line_alpha\":{\"value\":0.5},\"line_color\":{\"value\":\"#1f77b4\"},\"right\":{\"field\":\"right\"},\"top\":{\"field\":\"freq\"}},\"id\":\"5978\",\"type\":\"Quad\"},{\"attributes\":{\"callback\":null,\"mode\":\"vline\",\"tooltips\":[[\"Bin\",\"@intervals\"],[\"Frequency\",\"@freq\"],[\"Percent\",\"@pct{0.2f}%\"]]},\"id\":\"5822\",\"type\":\"HoverTool\"},{\"attributes\":{\"ticks\":[0.0,1.8,3.6,5.4,7.2,9.0,10.8,12.6,14.4,16.2,18.0]},\"id\":\"5760\",\"type\":\"FixedTicker\"},{\"attributes\":{\"axis_label\":\"Frequency\",\"formatter\":{\"id\":\"6015\",\"type\":\"BasicTickFormatter\"},\"major_label_text_font_size\":{\"value\":\"0pt\"},\"major_tick_line_color\":{\"value\":null},\"minor_tick_line_color\":{\"value\":null},\"ticker\":{\"id\":\"5811\",\"type\":\"BasicTicker\"}},\"id\":\"5810\",\"type\":\"LinearAxis\"},{\"attributes\":{\"source\":{\"id\":\"5976\",\"type\":\"ColumnDataSource\"}},\"id\":\"5981\",\"type\":\"CDSView\"},{\"attributes\":{\"text\":\"black\",\"text_font_size\":{\"value\":\"10pt\"}},\"id\":\"5763\",\"type\":\"Title\"},{\"attributes\":{\"bottom\":{\"value\":0.01},\"fill_alpha\":{\"value\":0.1},\"fill_color\":{\"value\":\"#1f77b4\"},\"left\":{\"field\":\"left\"},\"line_alpha\":{\"value\":0.1},\"line_color\":{\"value\":\"#1f77b4\"},\"right\":{\"field\":\"right\"},\"top\":{\"field\":\"freq\"}},\"id\":\"5979\",\"type\":\"Quad\"},{\"attributes\":{},\"id\":\"5707\",\"type\":\"LinearScale\"},{\"attributes\":{},\"id\":\"6045\",\"type\":\"BasicTickFormatter\"},{\"attributes\":{\"callback\":null},\"id\":\"5765\",\"type\":\"DataRange1d\"},{\"attributes\":{},\"id\":\"5996\",\"type\":\"BasicTickFormatter\"},{\"attributes\":{},\"id\":\"6047\",\"type\":\"Selection\"},{\"attributes\":{\"callback\":null,\"mode\":\"vline\",\"tooltips\":[[\"Bin\",\"@intervals\"],[\"Frequency\",\"@freq\"],[\"Percent\",\"@pct{0.2f}%\"]]},\"id\":\"5982\",\"type\":\"HoverTool\"},{\"attributes\":{\"callback\":null},\"id\":\"5767\",\"type\":\"DataRange1d\"},{\"attributes\":{\"dimension\":1,\"grid_line_color\":null,\"ticker\":{\"id\":\"5715\",\"type\":\"BasicTicker\"}},\"id\":\"5718\",\"type\":\"Grid\"},{\"attributes\":{},\"id\":\"5769\",\"type\":\"LinearScale\"},{\"attributes\":{\"text\":\"treat\",\"text_font_size\":{\"value\":\"10pt\"}},\"id\":\"5667\",\"type\":\"Title\"},{\"attributes\":{},\"id\":\"5987\",\"type\":\"BasicTickFormatter\"},{\"attributes\":{},\"id\":\"5771\",\"type\":\"LinearScale\"},{\"attributes\":{},\"id\":\"5710\",\"type\":\"BasicTicker\"},{\"attributes\":{\"ticks\":[0.0,6030.793,12061.586,18092.379,24123.172,30153.964999999997,36184.758,42215.551,48246.344,54277.136999999995,60307.93]},\"id\":\"5984\",\"type\":\"FixedTicker\"},{\"attributes\":{\"formatter\":{\"id\":\"6010\",\"type\":\"BasicTickFormatter\"},\"major_label_orientation\":1.0471975511965976,\"major_label_text_font_size\":{\"value\":\"9pt\"},\"minor_tick_line_color\":{\"value\":null},\"ticker\":{\"id\":\"5792\",\"type\":\"FixedTicker\"}},\"id\":\"5773\",\"type\":\"LinearAxis\"},{\"attributes\":{\"axis_label\":\"Frequency\",\"formatter\":{\"id\":\"5994\",\"type\":\"BasicTickFormatter\"},\"major_label_text_font_size\":{\"value\":\"0pt\"},\"major_tick_line_color\":{\"value\":null},\"minor_tick_line_color\":{\"value\":null},\"ticker\":{\"id\":\"5715\",\"type\":\"BasicTicker\"}},\"id\":\"5714\",\"type\":\"LinearAxis\"},{\"attributes\":{},\"id\":\"6052\",\"type\":\"BasicTickFormatter\"},{\"attributes\":{},\"id\":\"5989\",\"type\":\"BasicTickFormatter\"},{\"attributes\":{},\"id\":\"5715\",\"type\":\"BasicTicker\"},{\"attributes\":{},\"id\":\"5774\",\"type\":\"BasicTicker\"},{\"attributes\":{},\"id\":\"5811\",\"type\":\"BasicTicker\"},{\"attributes\":{\"callback\":null,\"data\":{\"freq\":[5,7,21,39,62,158,252,48,18,4],\"index\":[0,1,2,3,4,5,6,7,8,9],\"intervals\":[\"[0.0,1.8)\",\"[1.8,3.6)\",\"[3.6,5.4)\",\"[5.4,7.2)\",\"[7.2,9.0)\",\"[9.0,10.8)\",\"[10.8,12.6)\",\"[12.6,14.4)\",\"[14.4,16.2)\",\"[16.2,18.0]\"],\"left\":{\"__ndarray__\":\"AAAAAAAAAADNzMzMzMz8P83MzMzMzAxAmpmZmZmZFUDNzMzMzMwcQAAAAAAAACJAmpmZmZmZJUAzMzMzMzMpQM3MzMzMzCxAMzMzMzMzMEA=\",\"dtype\":\"float64\",\"shape\":[10]},\"pct\":{\"__ndarray__\":\"dbxqgAIP6j9S6n3ztD3yP3vfPG2PXAtA8qoBCjxoGUDbHrlWCDIkQLMzNkWfuzlAnKftkWuFRECLSLMzNkUfQGl2xqbocwdAXjAizc7Y5D8=\",\"dtype\":\"float64\",\"shape\":[10]},\"right\":{\"__ndarray__\":\"zczMzMzM/D/NzMzMzMwMQJqZmZmZmRVAzczMzMzMHEAAAAAAAAAiQJqZmZmZmSVAMzMzMzMzKUDNzMzMzMwsQDMzMzMzMzBAAAAAAAAAMkA=\",\"dtype\":\"float64\",\"shape\":[10]}},\"selected\":{\"id\":\"6005\",\"type\":\"Selection\"},\"selection_policy\":{\"id\":\"6004\",\"type\":\"UnionRenderers\"}},\"id\":\"5752\",\"type\":\"ColumnDataSource\"},{\"attributes\":{\"dimension\":1,\"grid_line_color\":null,\"ticker\":{\"id\":\"5811\",\"type\":\"BasicTicker\"}},\"id\":\"5814\",\"type\":\"Grid\"},{\"attributes\":{},\"id\":\"5990\",\"type\":\"UnionRenderers\"},{\"attributes\":{\"below\":[{\"id\":\"5901\",\"type\":\"LinearAxis\"}],\"center\":[{\"id\":\"5905\",\"type\":\"Grid\"},{\"id\":\"5910\",\"type\":\"Grid\"}],\"left\":[{\"id\":\"5906\",\"type\":\"LinearAxis\"}],\"plot_height\":300,\"plot_width\":324,\"renderers\":[{\"id\":\"5916\",\"type\":\"GlyphRenderer\"}],\"title\":{\"id\":\"5891\",\"type\":\"Title\"},\"toolbar\":{\"id\":\"5911\",\"type\":\"Toolbar\"},\"toolbar_location\":null,\"x_range\":{\"id\":\"5893\",\"type\":\"DataRange1d\"},\"x_scale\":{\"id\":\"5897\",\"type\":\"LinearScale\"},\"y_range\":{\"id\":\"5895\",\"type\":\"DataRange1d\"},\"y_scale\":{\"id\":\"5899\",\"type\":\"LinearScale\"}},\"id\":\"5890\",\"subtype\":\"Figure\",\"type\":\"Plot\"},{\"attributes\":{\"formatter\":{\"id\":\"5996\",\"type\":\"BasicTickFormatter\"},\"major_label_orientation\":1.0471975511965976,\"major_label_text_font_size\":{\"value\":\"9pt\"},\"minor_tick_line_color\":{\"value\":null},\"ticker\":{\"id\":\"5728\",\"type\":\"FixedTicker\"}},\"id\":\"5709\",\"type\":\"LinearAxis\"},{\"attributes\":{\"dimension\":1,\"grid_line_color\":null,\"ticker\":{\"id\":\"5779\",\"type\":\"BasicTicker\"}},\"id\":\"5782\",\"type\":\"Grid\"},{\"attributes\":{\"callback\":null,\"data\":{\"freq\":[359,0,0,0,0,0,0,0,0,255],\"index\":[0,1,2,3,4,5,6,7,8,9],\"intervals\":[\"[0.0,0.1)\",\"[0.1,0.2)\",\"[0.2,0.3)\",\"[0.3,0.4)\",\"[0.4,0.5)\",\"[0.5,0.6)\",\"[0.6,0.7)\",\"[0.7,0.8)\",\"[0.8,0.9)\",\"[0.9,1.0]\"],\"left\":{\"__ndarray__\":\"AAAAAAAAAACamZmZmZm5P5qZmZmZmck/NDMzMzMz0z+amZmZmZnZPwAAAAAAAOA/NDMzMzMz4z9nZmZmZmbmP5qZmZmZmek/zczMzMzM7D8=\",\"dtype\":\"float64\",\"shape\":[10]},\"pct\":{\"__ndarray__\":\"1PGqAQo8TUAAAAAAAAAAAAAAAAAAAAAAAAAAAAAAAAAAAAAAAAAAAAAAAAAAAAAAAAAAAAAAAAAAAAAAAAAAAAAAAAAAAAAALQ5V/vXDREA=\",\"dtype\":\"float64\",\"shape\":[10]},\"right\":{\"__ndarray__\":\"mpmZmZmZuT+amZmZmZnJPzQzMzMzM9M/mpmZmZmZ2T8AAAAAAADgPzQzMzMzM+M/Z2ZmZmZm5j+amZmZmZnpP83MzMzMzOw/AAAAAAAA8D8=\",\"dtype\":\"float64\",\"shape\":[10]}},\"selected\":{\"id\":\"6026\",\"type\":\"Selection\"},\"selection_policy\":{\"id\":\"6025\",\"type\":\"UnionRenderers\"}},\"id\":\"5848\",\"type\":\"ColumnDataSource\"},{\"attributes\":{},\"id\":\"5997\",\"type\":\"UnionRenderers\"},{\"attributes\":{\"below\":[{\"id\":\"5741\",\"type\":\"LinearAxis\"}],\"center\":[{\"id\":\"5745\",\"type\":\"Grid\"},{\"id\":\"5750\",\"type\":\"Grid\"}],\"left\":[{\"id\":\"5746\",\"type\":\"LinearAxis\"}],\"plot_height\":300,\"plot_width\":324,\"renderers\":[{\"id\":\"5756\",\"type\":\"GlyphRenderer\"}],\"title\":{\"id\":\"5731\",\"type\":\"Title\"},\"toolbar\":{\"id\":\"5751\",\"type\":\"Toolbar\"},\"toolbar_location\":null,\"x_range\":{\"id\":\"5733\",\"type\":\"DataRange1d\"},\"x_scale\":{\"id\":\"5737\",\"type\":\"LinearScale\"},\"y_range\":{\"id\":\"5735\",\"type\":\"DataRange1d\"},\"y_scale\":{\"id\":\"5739\",\"type\":\"LinearScale\"}},\"id\":\"5730\",\"subtype\":\"Figure\",\"type\":\"Plot\"},{\"attributes\":{\"dimension\":1,\"grid_line_color\":null,\"ticker\":{\"id\":\"5683\",\"type\":\"BasicTicker\"}},\"id\":\"5686\",\"type\":\"Grid\"},{\"attributes\":{},\"id\":\"5683\",\"type\":\"BasicTicker\"},{\"attributes\":{\"ticks\":[0.0,0.1,0.2,0.30000000000000004,0.4,0.5,0.6000000000000001,0.7000000000000001,0.8,0.9,1.0]},\"id\":\"5824\",\"type\":\"FixedTicker\"},{\"attributes\":{},\"id\":\"5998\",\"type\":\"Selection\"},{\"attributes\":{\"source\":{\"id\":\"5720\",\"type\":\"ColumnDataSource\"}},\"id\":\"5725\",\"type\":\"CDSView\"},{\"attributes\":{\"text\":\"married\",\"text_font_size\":{\"value\":\"10pt\"}},\"id\":\"5827\",\"type\":\"Title\"},{\"attributes\":{},\"id\":\"6001\",\"type\":\"BasicTickFormatter\"},{\"attributes\":{\"axis_label\":\"Frequency\",\"formatter\":{\"id\":\"6008\",\"type\":\"BasicTickFormatter\"},\"major_label_text_font_size\":{\"value\":\"0pt\"},\"major_tick_line_color\":{\"value\":null},\"minor_tick_line_color\":{\"value\":null},\"ticker\":{\"id\":\"5779\",\"type\":\"BasicTicker\"}},\"id\":\"5778\",\"type\":\"LinearAxis\"},{\"attributes\":{\"callback\":null},\"id\":\"5829\",\"type\":\"DataRange1d\"},{\"attributes\":{},\"id\":\"6003\",\"type\":\"BasicTickFormatter\"},{\"attributes\":{\"callback\":null},\"id\":\"5735\",\"type\":\"DataRange1d\"},{\"attributes\":{\"callback\":null},\"id\":\"5831\",\"type\":\"DataRange1d\"},{\"attributes\":{},\"id\":\"6004\",\"type\":\"UnionRenderers\"},{\"attributes\":{\"active_drag\":\"auto\",\"active_inspect\":\"auto\",\"active_multi\":null,\"active_scroll\":\"auto\",\"active_tap\":\"auto\",\"tools\":[{\"id\":\"5854\",\"type\":\"HoverTool\"}]},\"id\":\"5847\",\"type\":\"Toolbar\"},{\"attributes\":{\"text\":\"educ\",\"text_font_size\":{\"value\":\"10pt\"}},\"id\":\"5731\",\"type\":\"Title\"},{\"attributes\":{\"callback\":null},\"id\":\"5703\",\"type\":\"DataRange1d\"},{\"attributes\":{},\"id\":\"5833\",\"type\":\"LinearScale\"},{\"attributes\":{},\"id\":\"6005\",\"type\":\"Selection\"},{\"attributes\":{\"callback\":null},\"id\":\"5701\",\"type\":\"DataRange1d\"},{\"attributes\":{\"grid_line_color\":null,\"ticker\":{\"id\":\"5710\",\"type\":\"BasicTicker\"}},\"id\":\"5713\",\"type\":\"Grid\"},{\"attributes\":{},\"id\":\"5835\",\"type\":\"LinearScale\"},{\"attributes\":{},\"id\":\"6008\",\"type\":\"BasicTickFormatter\"},{\"attributes\":{\"active_drag\":\"auto\",\"active_inspect\":\"auto\",\"active_multi\":null,\"active_scroll\":\"auto\",\"active_tap\":\"auto\",\"tools\":[{\"id\":\"5822\",\"type\":\"HoverTool\"}]},\"id\":\"5815\",\"type\":\"Toolbar\"},{\"attributes\":{},\"id\":\"6019\",\"type\":\"Selection\"},{\"attributes\":{\"formatter\":{\"id\":\"6024\",\"type\":\"BasicTickFormatter\"},\"major_label_orientation\":1.0471975511965976,\"major_label_text_font_size\":{\"value\":\"9pt\"},\"minor_tick_line_color\":{\"value\":null},\"ticker\":{\"id\":\"5856\",\"type\":\"FixedTicker\"}},\"id\":\"5837\",\"type\":\"LinearAxis\"},{\"attributes\":{\"callback\":null,\"mode\":\"vline\",\"tooltips\":[[\"Bin\",\"@intervals\"],[\"Frequency\",\"@freq\"],[\"Percent\",\"@pct{0.2f}%\"]]},\"id\":\"5726\",\"type\":\"HoverTool\"},{\"attributes\":{},\"id\":\"6010\",\"type\":\"BasicTickFormatter\"},{\"attributes\":{\"source\":{\"id\":\"5816\",\"type\":\"ColumnDataSource\"}},\"id\":\"5821\",\"type\":\"CDSView\"},{\"attributes\":{},\"id\":\"5838\",\"type\":\"BasicTicker\"},{\"attributes\":{},\"id\":\"6011\",\"type\":\"UnionRenderers\"},{\"attributes\":{\"callback\":null},\"id\":\"5799\",\"type\":\"DataRange1d\"},{\"attributes\":{\"grid_line_color\":null,\"ticker\":{\"id\":\"5838\",\"type\":\"BasicTicker\"}},\"id\":\"5841\",\"type\":\"Grid\"},{\"attributes\":{},\"id\":\"6012\",\"type\":\"Selection\"},{\"attributes\":{\"bottom\":{\"value\":0.01},\"fill_alpha\":{\"value\":0.5},\"fill_color\":{\"value\":\"#6baed6\"},\"left\":{\"field\":\"left\"},\"line_alpha\":{\"value\":0.5},\"line_color\":{\"value\":\"#1f77b4\"},\"right\":{\"field\":\"right\"},\"top\":{\"field\":\"freq\"}},\"id\":\"5818\",\"type\":\"Quad\"},{\"attributes\":{\"axis_label\":\"Frequency\",\"formatter\":{\"id\":\"6022\",\"type\":\"BasicTickFormatter\"},\"major_label_text_font_size\":{\"value\":\"0pt\"},\"major_tick_line_color\":{\"value\":null},\"minor_tick_line_color\":{\"value\":null},\"ticker\":{\"id\":\"5843\",\"type\":\"BasicTicker\"}},\"id\":\"5842\",\"type\":\"LinearAxis\"},{\"attributes\":{},\"id\":\"6015\",\"type\":\"BasicTickFormatter\"},{\"attributes\":{},\"id\":\"6043\",\"type\":\"BasicTickFormatter\"},{\"attributes\":{\"callback\":null,\"mode\":\"vline\",\"tooltips\":[[\"Bin\",\"@intervals\"],[\"Frequency\",\"@freq\"],[\"Percent\",\"@pct{0.2f}%\"]]},\"id\":\"5694\",\"type\":\"HoverTool\"},{\"attributes\":{},\"id\":\"6053\",\"type\":\"UnionRenderers\"},{\"attributes\":{\"bottom\":{\"value\":0.01},\"fill_alpha\":{\"value\":0.5},\"fill_color\":{\"value\":\"#6baed6\"},\"left\":{\"field\":\"left\"},\"line_alpha\":{\"value\":0.5},\"line_color\":{\"value\":\"#1f77b4\"},\"right\":{\"field\":\"right\"},\"top\":{\"field\":\"freq\"}},\"id\":\"5722\",\"type\":\"Quad\"},{\"attributes\":{},\"id\":\"6017\",\"type\":\"BasicTickFormatter\"},{\"attributes\":{},\"id\":\"5843\",\"type\":\"BasicTicker\"},{\"attributes\":{\"bottom\":{\"value\":0.01},\"fill_alpha\":{\"value\":0.1},\"fill_color\":{\"value\":\"#1f77b4\"},\"left\":{\"field\":\"left\"},\"line_alpha\":{\"value\":0.1},\"line_color\":{\"value\":\"#1f77b4\"},\"right\":{\"field\":\"right\"},\"top\":{\"field\":\"freq\"}},\"id\":\"5723\",\"type\":\"Quad\"},{\"attributes\":{\"dimension\":1,\"grid_line_color\":null,\"ticker\":{\"id\":\"5843\",\"type\":\"BasicTicker\"}},\"id\":\"5846\",\"type\":\"Grid\"},{\"attributes\":{\"ticks\":[16.0,19.9,23.8,27.7,31.6,35.5,39.4,43.3,47.2,51.1,55.0]},\"id\":\"5728\",\"type\":\"FixedTicker\"},{\"attributes\":{},\"id\":\"6018\",\"type\":\"UnionRenderers\"},{\"attributes\":{\"callback\":null},\"id\":\"5733\",\"type\":\"DataRange1d\"},{\"attributes\":{\"grid_line_color\":null,\"ticker\":{\"id\":\"5742\",\"type\":\"BasicTicker\"}},\"id\":\"5745\",\"type\":\"Grid\"}],\"root_ids\":[\"6056\"]},\"title\":\"Bokeh Application\",\"version\":\"1.4.0\"}};\n",
       "  var render_items = [{\"docid\":\"5d06393d-3026-4d2d-84d0-e250c249c932\",\"roots\":{\"6056\":\"04f7dec2-85a1-454d-abf1-562eb3865e4d\"}}];\n",
       "  root.Bokeh.embed.embed_items_notebook(docs_json, render_items);\n",
       "\n",
       "  }\n",
       "  if (root.Bokeh !== undefined) {\n",
       "    embed_document(root);\n",
       "  } else {\n",
       "    var attempts = 0;\n",
       "    var timer = setInterval(function(root) {\n",
       "      if (root.Bokeh !== undefined) {\n",
       "        clearInterval(timer);\n",
       "        embed_document(root);\n",
       "      } else {\n",
       "        attempts++;\n",
       "        if (attempts > 100) {\n",
       "          clearInterval(timer);\n",
       "          console.log(\"Bokeh: ERROR: Unable to run BokehJS code because BokehJS library is missing\");\n",
       "        }\n",
       "      }\n",
       "    }, 10, root)\n",
       "  }\n",
       "})(window);"
      ],
      "application/vnd.bokehjs_exec.v0+json": ""
     },
     "metadata": {
      "application/vnd.bokehjs_exec.v0+json": {
       "id": "6056"
      }
     },
     "output_type": "display_data"
    },
    {
     "data": {
      "text/html": [
       "<div style=\"display: table;\"><div style=\"display: table-row;\"><div style=\"display: table-cell;\"><b title=\"bokeh.models.layouts.GridBox\">GridBox</b>(</div><div style=\"display: table-cell;\">id&nbsp;=&nbsp;'6056', <span id=\"6778\" style=\"cursor: pointer;\">&hellip;)</span></div></div><div class=\"6777\" style=\"display: none;\"><div style=\"display: table-cell;\"></div><div style=\"display: table-cell;\">align&nbsp;=&nbsp;'start',</div></div><div class=\"6777\" style=\"display: none;\"><div style=\"display: table-cell;\"></div><div style=\"display: table-cell;\">aspect_ratio&nbsp;=&nbsp;None,</div></div><div class=\"6777\" style=\"display: none;\"><div style=\"display: table-cell;\"></div><div style=\"display: table-cell;\">background&nbsp;=&nbsp;None,</div></div><div class=\"6777\" style=\"display: none;\"><div style=\"display: table-cell;\"></div><div style=\"display: table-cell;\">children&nbsp;=&nbsp;[(Figure(id='5666', ...), 0, 0), (Figure(id='5698', ...), 0, 1), (Figure(id='5730', ...), 0, 2), (Figure(id='5762', ...), 1, 0), (Figure(id='5794', ...), 1, 1), (Figure(id='5826', ...), 1, 2), (Figure(id='5858', ...), 2, 0), (Figure(id='5890', ...), 2, 1), (Figure(id='5922', ...), 2, 2), (Figure(id='5954', ...), 3, 0)],</div></div><div class=\"6777\" style=\"display: none;\"><div style=\"display: table-cell;\"></div><div style=\"display: table-cell;\">cols&nbsp;=&nbsp;'auto',</div></div><div class=\"6777\" style=\"display: none;\"><div style=\"display: table-cell;\"></div><div style=\"display: table-cell;\">css_classes&nbsp;=&nbsp;[],</div></div><div class=\"6777\" style=\"display: none;\"><div style=\"display: table-cell;\"></div><div style=\"display: table-cell;\">disabled&nbsp;=&nbsp;False,</div></div><div class=\"6777\" style=\"display: none;\"><div style=\"display: table-cell;\"></div><div style=\"display: table-cell;\">height&nbsp;=&nbsp;None,</div></div><div class=\"6777\" style=\"display: none;\"><div style=\"display: table-cell;\"></div><div style=\"display: table-cell;\">height_policy&nbsp;=&nbsp;'auto',</div></div><div class=\"6777\" style=\"display: none;\"><div style=\"display: table-cell;\"></div><div style=\"display: table-cell;\">js_event_callbacks&nbsp;=&nbsp;{},</div></div><div class=\"6777\" style=\"display: none;\"><div style=\"display: table-cell;\"></div><div style=\"display: table-cell;\">js_property_callbacks&nbsp;=&nbsp;{},</div></div><div class=\"6777\" style=\"display: none;\"><div style=\"display: table-cell;\"></div><div style=\"display: table-cell;\">margin&nbsp;=&nbsp;(0, 0, 0, 0),</div></div><div class=\"6777\" style=\"display: none;\"><div style=\"display: table-cell;\"></div><div style=\"display: table-cell;\">max_height&nbsp;=&nbsp;None,</div></div><div class=\"6777\" style=\"display: none;\"><div style=\"display: table-cell;\"></div><div style=\"display: table-cell;\">max_width&nbsp;=&nbsp;None,</div></div><div class=\"6777\" style=\"display: none;\"><div style=\"display: table-cell;\"></div><div style=\"display: table-cell;\">min_height&nbsp;=&nbsp;None,</div></div><div class=\"6777\" style=\"display: none;\"><div style=\"display: table-cell;\"></div><div style=\"display: table-cell;\">min_width&nbsp;=&nbsp;None,</div></div><div class=\"6777\" style=\"display: none;\"><div style=\"display: table-cell;\"></div><div style=\"display: table-cell;\">name&nbsp;=&nbsp;None,</div></div><div class=\"6777\" style=\"display: none;\"><div style=\"display: table-cell;\"></div><div style=\"display: table-cell;\">rows&nbsp;=&nbsp;'auto',</div></div><div class=\"6777\" style=\"display: none;\"><div style=\"display: table-cell;\"></div><div style=\"display: table-cell;\">sizing_mode&nbsp;=&nbsp;None,</div></div><div class=\"6777\" style=\"display: none;\"><div style=\"display: table-cell;\"></div><div style=\"display: table-cell;\">spacing&nbsp;=&nbsp;0,</div></div><div class=\"6777\" style=\"display: none;\"><div style=\"display: table-cell;\"></div><div style=\"display: table-cell;\">subscribed_events&nbsp;=&nbsp;[],</div></div><div class=\"6777\" style=\"display: none;\"><div style=\"display: table-cell;\"></div><div style=\"display: table-cell;\">tags&nbsp;=&nbsp;[],</div></div><div class=\"6777\" style=\"display: none;\"><div style=\"display: table-cell;\"></div><div style=\"display: table-cell;\">visible&nbsp;=&nbsp;True,</div></div><div class=\"6777\" style=\"display: none;\"><div style=\"display: table-cell;\"></div><div style=\"display: table-cell;\">width&nbsp;=&nbsp;None,</div></div><div class=\"6777\" style=\"display: none;\"><div style=\"display: table-cell;\"></div><div style=\"display: table-cell;\">width_policy&nbsp;=&nbsp;'auto')</div></div></div>\n",
       "<script>\n",
       "(function() {\n",
       "  var expanded = false;\n",
       "  var ellipsis = document.getElementById(\"6778\");\n",
       "  ellipsis.addEventListener(\"click\", function() {\n",
       "    var rows = document.getElementsByClassName(\"6777\");\n",
       "    for (var i = 0; i < rows.length; i++) {\n",
       "      var el = rows[i];\n",
       "      el.style.display = expanded ? \"none\" : \"table-row\";\n",
       "    }\n",
       "    ellipsis.innerHTML = expanded ? \"&hellip;)\" : \"&lsaquo;&lsaquo;&lsaquo;\";\n",
       "    expanded = !expanded;\n",
       "  });\n",
       "})();\n",
       "</script>\n"
      ],
      "text/plain": [
       "GridBox(id='6056', ...)"
      ]
     },
     "execution_count": 334,
     "metadata": {},
     "output_type": "execute_result"
    }
   ],
   "source": [
    "plot(lalonde)"
   ]
  },
  {
   "cell_type": "markdown",
   "metadata": {},
   "source": [
    "## Task 1. Causal Graph \n",
    "In this task, you will draw a causal graph on a real-world dataset based on the information given. Please remind yourself of the difference between causality and correlation."
   ]
  },
  {
   "cell_type": "code",
   "execution_count": 335,
   "metadata": {
    "scrolled": true
   },
   "outputs": [],
   "source": [
    "#import graphviz, the python tool we are going to use for this task\n",
    "from graphviz import Digraph"
   ]
  },
  {
   "cell_type": "markdown",
   "metadata": {},
   "source": [
    "In the Lalonde dataset, `treat` is the treatment attribute, which represents whether an individual was enrolled in the job training program or not. `re78` is the outcome attribute. `age` and `married` are confounding variables. Please draw the causal graph for these four attributes using Graphviz."
   ]
  },
  {
   "cell_type": "code",
   "execution_count": 336,
   "metadata": {},
   "outputs": [
    {
     "data": {
      "image/svg+xml": [
       "<?xml version=\"1.0\" encoding=\"UTF-8\" standalone=\"no\"?>\r\n",
       "<!DOCTYPE svg PUBLIC \"-//W3C//DTD SVG 1.1//EN\"\r\n",
       " \"http://www.w3.org/Graphics/SVG/1.1/DTD/svg11.dtd\">\r\n",
       "<!-- Generated by graphviz version 2.38.0 (20140413.2041)\r\n",
       " -->\r\n",
       "<!-- Title: %3 Pages: 1 -->\r\n",
       "<svg width=\"300pt\" height=\"44pt\"\r\n",
       " viewBox=\"0.00 0.00 300.00 44.00\" xmlns=\"http://www.w3.org/2000/svg\" xmlns:xlink=\"http://www.w3.org/1999/xlink\">\r\n",
       "<g id=\"graph0\" class=\"graph\" transform=\"scale(1 1) rotate(0) translate(4 40)\">\r\n",
       "<title>%3</title>\r\n",
       "<polygon fill=\"white\" stroke=\"none\" points=\"-4,4 -4,-40 296,-40 296,4 -4,4\"/>\r\n",
       "<!-- a -->\r\n",
       "<g id=\"node1\" class=\"node\"><title>a</title>\r\n",
       "<ellipse fill=\"none\" stroke=\"black\" cx=\"27\" cy=\"-18\" rx=\"27\" ry=\"18\"/>\r\n",
       "<text text-anchor=\"middle\" x=\"27\" y=\"-14.3\" font-family=\"Times New Roman,serif\" font-size=\"14.00\">treat</text>\r\n",
       "</g>\r\n",
       "<!-- b -->\r\n",
       "<g id=\"node2\" class=\"node\"><title>b</title>\r\n",
       "<ellipse fill=\"none\" stroke=\"black\" cx=\"99\" cy=\"-18\" rx=\"27\" ry=\"18\"/>\r\n",
       "<text text-anchor=\"middle\" x=\"99\" y=\"-14.3\" font-family=\"Times New Roman,serif\" font-size=\"14.00\">age</text>\r\n",
       "</g>\r\n",
       "<!-- c -->\r\n",
       "<g id=\"node3\" class=\"node\"><title>c</title>\r\n",
       "<ellipse fill=\"none\" stroke=\"black\" cx=\"182\" cy=\"-18\" rx=\"38.1938\" ry=\"18\"/>\r\n",
       "<text text-anchor=\"middle\" x=\"182\" y=\"-14.3\" font-family=\"Times New Roman,serif\" font-size=\"14.00\">married</text>\r\n",
       "</g>\r\n",
       "<!-- d -->\r\n",
       "<g id=\"node4\" class=\"node\"><title>d</title>\r\n",
       "<ellipse fill=\"none\" stroke=\"black\" cx=\"265\" cy=\"-18\" rx=\"27\" ry=\"18\"/>\r\n",
       "<text text-anchor=\"middle\" x=\"265\" y=\"-14.3\" font-family=\"Times New Roman,serif\" font-size=\"14.00\">re78</text>\r\n",
       "</g>\r\n",
       "</g>\r\n",
       "</svg>\r\n"
      ],
      "text/plain": [
       "<graphviz.dot.Digraph at 0x27888dda710>"
      ]
     },
     "execution_count": 336,
     "metadata": {},
     "output_type": "execute_result"
    }
   ],
   "source": [
    "dot = Digraph(comment='The causal graph for Lalonde')\n",
    "dot.node('a','treat')\n",
    "dot.node('b','age')\n",
    "dot.node('c','married')\n",
    "dot.node('d','re78')\n",
    "\n",
    "dot"
   ]
  },
  {
   "cell_type": "code",
   "execution_count": 337,
   "metadata": {},
   "outputs": [
    {
     "data": {
      "image/svg+xml": [
       "<?xml version=\"1.0\" encoding=\"UTF-8\" standalone=\"no\"?>\r\n",
       "<!DOCTYPE svg PUBLIC \"-//W3C//DTD SVG 1.1//EN\"\r\n",
       " \"http://www.w3.org/Graphics/SVG/1.1/DTD/svg11.dtd\">\r\n",
       "<!-- Generated by graphviz version 2.38.0 (20140413.2041)\r\n",
       " -->\r\n",
       "<!-- Title: %3 Pages: 1 -->\r\n",
       "<svg width=\"169pt\" height=\"188pt\"\r\n",
       " viewBox=\"0.00 0.00 169.35 188.00\" xmlns=\"http://www.w3.org/2000/svg\" xmlns:xlink=\"http://www.w3.org/1999/xlink\">\r\n",
       "<g id=\"graph0\" class=\"graph\" transform=\"scale(1 1) rotate(0) translate(4 184)\">\r\n",
       "<title>%3</title>\r\n",
       "<polygon fill=\"white\" stroke=\"none\" points=\"-4,4 -4,-184 165.347,-184 165.347,4 -4,4\"/>\r\n",
       "<!-- a -->\r\n",
       "<g id=\"node1\" class=\"node\"><title>a</title>\r\n",
       "<ellipse fill=\"none\" stroke=\"black\" cx=\"75\" cy=\"-90\" rx=\"27\" ry=\"18\"/>\r\n",
       "<text text-anchor=\"middle\" x=\"75\" y=\"-86.3\" font-family=\"Times New Roman,serif\" font-size=\"14.00\">treat</text>\r\n",
       "</g>\r\n",
       "<!-- d -->\r\n",
       "<g id=\"node4\" class=\"node\"><title>d</title>\r\n",
       "<ellipse fill=\"none\" stroke=\"black\" cx=\"75\" cy=\"-18\" rx=\"27\" ry=\"18\"/>\r\n",
       "<text text-anchor=\"middle\" x=\"75\" y=\"-14.3\" font-family=\"Times New Roman,serif\" font-size=\"14.00\">re78</text>\r\n",
       "</g>\r\n",
       "<!-- a&#45;&gt;d -->\r\n",
       "<g id=\"edge1\" class=\"edge\"><title>a&#45;&gt;d</title>\r\n",
       "<path fill=\"none\" stroke=\"black\" d=\"M75,-71.6966C75,-63.9827 75,-54.7125 75,-46.1124\"/>\r\n",
       "<polygon fill=\"black\" stroke=\"black\" points=\"78.5001,-46.1043 75,-36.1043 71.5001,-46.1044 78.5001,-46.1043\"/>\r\n",
       "</g>\r\n",
       "<!-- b -->\r\n",
       "<g id=\"node2\" class=\"node\"><title>b</title>\r\n",
       "<ellipse fill=\"none\" stroke=\"black\" cx=\"27\" cy=\"-162\" rx=\"27\" ry=\"18\"/>\r\n",
       "<text text-anchor=\"middle\" x=\"27\" y=\"-158.3\" font-family=\"Times New Roman,serif\" font-size=\"14.00\">age</text>\r\n",
       "</g>\r\n",
       "<!-- b&#45;&gt;a -->\r\n",
       "<g id=\"edge2\" class=\"edge\"><title>b&#45;&gt;a</title>\r\n",
       "<path fill=\"none\" stroke=\"black\" d=\"M37.8919,-145.116C43.9677,-136.255 51.6601,-125.037 58.4639,-115.115\"/>\r\n",
       "<polygon fill=\"black\" stroke=\"black\" points=\"61.3824,-117.048 64.1512,-106.821 55.6093,-113.089 61.3824,-117.048\"/>\r\n",
       "</g>\r\n",
       "<!-- b&#45;&gt;d -->\r\n",
       "<g id=\"edge4\" class=\"edge\"><title>b&#45;&gt;d</title>\r\n",
       "<path fill=\"none\" stroke=\"black\" d=\"M27.0056,-143.695C27.5382,-125.328 29.9205,-95.7364 39,-72 42.9939,-61.5589 49.4002,-51.1474 55.7092,-42.3515\"/>\r\n",
       "<polygon fill=\"black\" stroke=\"black\" points=\"58.6656,-44.2442 61.8929,-34.1529 53.077,-40.0291 58.6656,-44.2442\"/>\r\n",
       "</g>\r\n",
       "<!-- c -->\r\n",
       "<g id=\"node3\" class=\"node\"><title>c</title>\r\n",
       "<ellipse fill=\"none\" stroke=\"black\" cx=\"123\" cy=\"-162\" rx=\"38.1938\" ry=\"18\"/>\r\n",
       "<text text-anchor=\"middle\" x=\"123\" y=\"-158.3\" font-family=\"Times New Roman,serif\" font-size=\"14.00\">married</text>\r\n",
       "</g>\r\n",
       "<!-- c&#45;&gt;a -->\r\n",
       "<g id=\"edge3\" class=\"edge\"><title>c&#45;&gt;a</title>\r\n",
       "<path fill=\"none\" stroke=\"black\" d=\"M111.867,-144.765C105.845,-135.983 98.289,-124.963 91.5877,-115.19\"/>\r\n",
       "<polygon fill=\"black\" stroke=\"black\" points=\"94.2841,-112.934 85.7423,-106.666 88.511,-116.892 94.2841,-112.934\"/>\r\n",
       "</g>\r\n",
       "<!-- c&#45;&gt;d -->\r\n",
       "<g id=\"edge5\" class=\"edge\"><title>c&#45;&gt;d</title>\r\n",
       "<path fill=\"none\" stroke=\"black\" d=\"M122.994,-143.695C122.462,-125.328 120.08,-95.7364 111,-72 107.006,-61.5589 100.6,-51.1474 94.2908,-42.3515\"/>\r\n",
       "<polygon fill=\"black\" stroke=\"black\" points=\"96.923,-40.0291 88.1071,-34.1529 91.3344,-44.2442 96.923,-40.0291\"/>\r\n",
       "</g>\r\n",
       "</g>\r\n",
       "</svg>\r\n"
      ],
      "text/plain": [
       "<graphviz.dot.Digraph at 0x27888dda710>"
      ]
     },
     "execution_count": 337,
     "metadata": {},
     "output_type": "execute_result"
    }
   ],
   "source": [
    "\n",
    "dot.edges(['ad','ba','ca','bd','cd'])\n",
    "dot\n"
   ]
  },
  {
   "cell_type": "markdown",
   "metadata": {},
   "source": [
    "## Task 2. ATE Estimation\n",
    "In this task, your job is to implement different AET estimation approaches and draw useful conclusions."
   ]
  },
  {
   "cell_type": "markdown",
   "metadata": {},
   "source": [
    "### 2.1 Perfect Matching\n",
    "For the PSID tuples in the dataset (i.e., those individuals who weren't enrolled in the job training program), please use perfect matching to estimate their salaries if they received treatments?\n"
   ]
  },
  {
   "cell_type": "code",
   "execution_count": 352,
   "metadata": {},
   "outputs": [],
   "source": [
    "# Implement the perfect matching method here and output the count of PSID tuples whose counterfactual can be computed\n",
    "# using perfect matching, as well as the percentage of such tuples among all PSID tuples. If there are multiple \n",
    "# tuples in the treatment group that can be matched with the control group, just select the first one\n",
    "# output: count and percentage\n",
    "\n",
    "counterfactual_df = lalonde[lalonde['treat'] == 0]\n",
    "treatment_df = lalonde[lalonde['treat'] == 1]\n",
    "\n",
    "counterfactual_df = counterfactual_df.drop(columns=['treat'])\n",
    "treatment_df = treatment_df.drop(columns=['treat'])\n",
    "\n",
    "#join on all columns for perfect matching\n",
    "merged_df = pd.merge(treatment_df, counterfactual_df, how='inner', on=['age','educ','black','hispan','married','nodegree','re74','re75'])\n",
    "\n",
    "#dropping duplicates based on the subset and keeping only the first occurence\n",
    "merged_df = merged_df.drop_duplicates(subset=['age','educ','black','hispan','married','nodegree','re74','re75','re78_y'],keep=\"first\")\n",
    "\n",
    "count = len(merged_df)\n",
    "PSID_count = len(counterfactual_df)\n",
    "\n",
    "percentage = (count/PSID_count) * 100"
   ]
  },
  {
   "cell_type": "code",
   "execution_count": 353,
   "metadata": {},
   "outputs": [
    {
     "name": "stdout",
     "output_type": "stream",
     "text": [
      "Count of tuples which can be computed by perfect matching is 12\n",
      "Percentage of such tuples among all PSID tuples is 2.797202797202797\n"
     ]
    }
   ],
   "source": [
    "# Run the following code to print out the result\n",
    "print(\"Count of tuples which can be computed by perfect matching is \" + str(count))\n",
    "print(\"Percentage of such tuples among all PSID tuples is \" + str(percentage))"
   ]
  },
  {
   "cell_type": "code",
   "execution_count": 354,
   "metadata": {},
   "outputs": [],
   "source": [
    "\n",
    "ATE = (merged_df['re78_x']-merged_df['re78_y']).mean()\n"
   ]
  },
  {
   "cell_type": "code",
   "execution_count": 355,
   "metadata": {},
   "outputs": [
    {
     "name": "stdout",
     "output_type": "stream",
     "text": [
      "ATE by perfect matching is 1362.394\n"
     ]
    }
   ],
   "source": [
    "# Run following code to print the result\n",
    "print(\"ATE by perfect matching is \" + str(ATE))"
   ]
  },
  {
   "cell_type": "markdown",
   "metadata": {},
   "source": [
    "### 2.2 Nearest Neighbor Matching\n",
    "For the PSID tuples in the dataset (i.e., those who weren't enrolled in the job training program), please use the nearest neighbor matching to estimate their salaries if they received treatments?\n",
    "\n",
    "Please use all covariates (the attributes besides treatment and outcome) and use Euclidean distance as the distance metric."
   ]
  },
  {
   "cell_type": "code",
   "execution_count": 357,
   "metadata": {},
   "outputs": [],
   "source": [
    "# Implement the nearest neighbor matching method here and output the count of PSID tuples whose counterfactual can be\n",
    "# computed using nearest neighbor matching, when the threshold is set to 1000, as well as the percentage of such tuples among all PSID tuples\n",
    "# Output: count and percentage\n",
    "\n",
    "\n",
    "counterfactual_df_nn = lalonde[lalonde['treat'] == 0]\n",
    "treatment_df_nn = lalonde[lalonde['treat'] == 1]\n",
    "\n",
    "counterfactual_df_nn = counterfactual_df_nn.drop(columns=[\"treat\"])\n",
    "treatment_df_nn = treatment_df_nn.drop(columns=[\"treat\"])\n",
    "\n",
    "counterfactual_np = counterfactual_df_nn.values\n",
    "treatment_np = treatment_df_nn.values\n",
    "\n",
    "treatment_vals = np.zeros(len(counterfactual_np))\n",
    "distance_vals = np.zeros(len(counterfactual_np))\n",
    "\n",
    "for i in range(len(counterfactual_np)):\n",
    "    minval = 99999\n",
    "    minindex = 0\n",
    "    for j in range(len(treatment_np)):\n",
    "        val = np.linalg.norm(counterfactual_np[i,:-1]-treatment_np[j,:-1])\n",
    "        if(val < minval):\n",
    "            minval = val\n",
    "            minindex = j\n",
    "    treatment_vals[i] = treatment_np[minindex][8]\n",
    "    distance_vals[i] = minval\n",
    "    \n",
    "\n",
    "#assigning the min value and the expected value of that column\n",
    "counterfactual_df_nn['expected_val'] = treatment_vals\n",
    "counterfactual_df_nn['distance'] = distance_vals\n",
    "\n",
    "\n",
    "filtered_df_nn = counterfactual_df_nn[counterfactual_df_nn['distance'] < 1000]\n",
    "\n",
    "\n",
    "count = len(filtered_df_nn)\n",
    "percentage = count/len(counterfactual_df_nn)"
   ]
  },
  {
   "cell_type": "code",
   "execution_count": 358,
   "metadata": {},
   "outputs": [
    {
     "name": "stdout",
     "output_type": "stream",
     "text": [
      "Count of tuples which can be computed by nearest neighbor matching is 318\n",
      "Percentage of such tuples among all PSID tuples is 0.7412587412587412\n"
     ]
    }
   ],
   "source": [
    "#run following code to print the result\n",
    "print(\"Count of tuples which can be computed by nearest neighbor matching is \" + str(count))\n",
    "print(\"Percentage of such tuples among all PSID tuples is \" + str(percentage))"
   ]
  },
  {
   "cell_type": "code",
   "execution_count": 359,
   "metadata": {},
   "outputs": [],
   "source": [
    "\n",
    "ATE = (filtered_df_nn['expected_val']-filtered_df_nn['re78']).mean()\n"
   ]
  },
  {
   "cell_type": "code",
   "execution_count": 360,
   "metadata": {},
   "outputs": [
    {
     "name": "stdout",
     "output_type": "stream",
     "text": [
      "ATE by nearest neighbor matching is 519.1813407232701\n"
     ]
    }
   ],
   "source": [
    "# Run following code to print out the result\n",
    "print(\"ATE by nearest neighbor matching is \" + str(ATE))"
   ]
  },
  {
   "cell_type": "markdown",
   "metadata": {},
   "source": [
    "### 2.3 Propensity Score Matching\n",
    "For the PSID tuples in the dataset (i.e., those weren't enrolled in the job training program), please use propensity score matching to estimate their salaries if they received treatments?\n",
    "\n",
    "Please use logistic regression to fit the propensity score."
   ]
  },
  {
   "cell_type": "code",
   "execution_count": 361,
   "metadata": {},
   "outputs": [],
   "source": [
    "# Compute propensity score P(y = 1|X) for each tuple in the dataset. Use logistic regression.\n",
    "# Output: add the new column \"psm\" to lalonde dataframe\n",
    "\n",
    "from sklearn.linear_model import LogisticRegression\n",
    "\n",
    "y = lalonde['treat']\n",
    "X = lalonde.drop(columns=['treat'])\n",
    "\n",
    "model = LogisticRegression(random_state=0,solver=\"liblinear\").fit(X, y)\n",
    "\n",
    "pred_y = model.predict_proba(X)\n",
    "\n",
    "lalonde_copy = lalonde.copy()\n",
    "lalonde_copy['psm'] = pred_y[:,1]\n",
    "\n"
   ]
  },
  {
   "cell_type": "code",
   "execution_count": 362,
   "metadata": {},
   "outputs": [
    {
     "data": {
      "text/html": [
       "<div>\n",
       "<style scoped>\n",
       "    .dataframe tbody tr th:only-of-type {\n",
       "        vertical-align: middle;\n",
       "    }\n",
       "\n",
       "    .dataframe tbody tr th {\n",
       "        vertical-align: top;\n",
       "    }\n",
       "\n",
       "    .dataframe thead th {\n",
       "        text-align: right;\n",
       "    }\n",
       "</style>\n",
       "<table border=\"1\" class=\"dataframe\">\n",
       "  <thead>\n",
       "    <tr style=\"text-align: right;\">\n",
       "      <th></th>\n",
       "      <th>treat</th>\n",
       "      <th>age</th>\n",
       "      <th>educ</th>\n",
       "      <th>black</th>\n",
       "      <th>hispan</th>\n",
       "      <th>married</th>\n",
       "      <th>nodegree</th>\n",
       "      <th>re74</th>\n",
       "      <th>re75</th>\n",
       "      <th>re78</th>\n",
       "      <th>psm</th>\n",
       "    </tr>\n",
       "    <tr>\n",
       "      <th>id</th>\n",
       "      <th></th>\n",
       "      <th></th>\n",
       "      <th></th>\n",
       "      <th></th>\n",
       "      <th></th>\n",
       "      <th></th>\n",
       "      <th></th>\n",
       "      <th></th>\n",
       "      <th></th>\n",
       "      <th></th>\n",
       "      <th></th>\n",
       "    </tr>\n",
       "  </thead>\n",
       "  <tbody>\n",
       "    <tr>\n",
       "      <th>NSW1</th>\n",
       "      <td>1</td>\n",
       "      <td>37</td>\n",
       "      <td>11</td>\n",
       "      <td>1</td>\n",
       "      <td>0</td>\n",
       "      <td>1</td>\n",
       "      <td>1</td>\n",
       "      <td>0.0</td>\n",
       "      <td>0.0</td>\n",
       "      <td>9930.0460</td>\n",
       "      <td>0.458074</td>\n",
       "    </tr>\n",
       "    <tr>\n",
       "      <th>NSW2</th>\n",
       "      <td>1</td>\n",
       "      <td>22</td>\n",
       "      <td>9</td>\n",
       "      <td>0</td>\n",
       "      <td>1</td>\n",
       "      <td>0</td>\n",
       "      <td>1</td>\n",
       "      <td>0.0</td>\n",
       "      <td>0.0</td>\n",
       "      <td>3595.8940</td>\n",
       "      <td>0.151980</td>\n",
       "    </tr>\n",
       "    <tr>\n",
       "      <th>NSW3</th>\n",
       "      <td>1</td>\n",
       "      <td>30</td>\n",
       "      <td>12</td>\n",
       "      <td>1</td>\n",
       "      <td>0</td>\n",
       "      <td>0</td>\n",
       "      <td>0</td>\n",
       "      <td>0.0</td>\n",
       "      <td>0.0</td>\n",
       "      <td>24909.4500</td>\n",
       "      <td>0.750966</td>\n",
       "    </tr>\n",
       "    <tr>\n",
       "      <th>NSW4</th>\n",
       "      <td>1</td>\n",
       "      <td>27</td>\n",
       "      <td>11</td>\n",
       "      <td>1</td>\n",
       "      <td>0</td>\n",
       "      <td>0</td>\n",
       "      <td>1</td>\n",
       "      <td>0.0</td>\n",
       "      <td>0.0</td>\n",
       "      <td>7506.1460</td>\n",
       "      <td>0.674020</td>\n",
       "    </tr>\n",
       "    <tr>\n",
       "      <th>NSW5</th>\n",
       "      <td>1</td>\n",
       "      <td>33</td>\n",
       "      <td>8</td>\n",
       "      <td>1</td>\n",
       "      <td>0</td>\n",
       "      <td>0</td>\n",
       "      <td>1</td>\n",
       "      <td>0.0</td>\n",
       "      <td>0.0</td>\n",
       "      <td>289.7899</td>\n",
       "      <td>0.670590</td>\n",
       "    </tr>\n",
       "  </tbody>\n",
       "</table>\n",
       "</div>"
      ],
      "text/plain": [
       "      treat  age  educ  black  hispan  married  nodegree  re74  re75  \\\n",
       "id                                                                     \n",
       "NSW1      1   37    11      1       0        1         1   0.0   0.0   \n",
       "NSW2      1   22     9      0       1        0         1   0.0   0.0   \n",
       "NSW3      1   30    12      1       0        0         0   0.0   0.0   \n",
       "NSW4      1   27    11      1       0        0         1   0.0   0.0   \n",
       "NSW5      1   33     8      1       0        0         1   0.0   0.0   \n",
       "\n",
       "            re78       psm  \n",
       "id                          \n",
       "NSW1   9930.0460  0.458074  \n",
       "NSW2   3595.8940  0.151980  \n",
       "NSW3  24909.4500  0.750966  \n",
       "NSW4   7506.1460  0.674020  \n",
       "NSW5    289.7899  0.670590  "
      ]
     },
     "execution_count": 362,
     "metadata": {},
     "output_type": "execute_result"
    }
   ],
   "source": [
    "# Run the following code to see the result\n",
    "lalonde_copy.head()"
   ]
  },
  {
   "cell_type": "code",
   "execution_count": 372,
   "metadata": {},
   "outputs": [],
   "source": [
    "# For each tuple in the control group, find the matching tuple in the treatment group, and then compute\n",
    "# the ATE over the population\n",
    "# Please match tuples with the metric |psm1 - psm2| to be minimum, threhold set to 0.01\n",
    "# Output: the value of ATE, the count of tuples that can be matched, as well as the percentage\n",
    "\n",
    "control_df_psm = lalonde_copy[lalonde_copy['treat'] == 0]\n",
    "treatment_df_psm = lalonde_copy[lalonde_copy['treat'] == 1]\n",
    "\n",
    "control_df_psm = control_df_psm.drop(columns=[\"treat\"])\n",
    "treatment_df_psm = treatment_df_psm.drop(columns=[\"treat\"])\n",
    "\n",
    "control_psm_np = control_df_psm.values\n",
    "treatment_psm_np = treatment_df_psm.values\n",
    "\n",
    "treatment_vals = np.zeros(len(control_df_psm))\n",
    "distance_vals = np.zeros(len(control_df_psm))\n",
    "\n",
    "#finding the difference and storing it in an array\n",
    "for i in range(len(control_psm_np)):\n",
    "    minval = 99999\n",
    "    minindex = 0\n",
    "    for j in range(len(treatment_psm_np)):\n",
    "        val = abs(control_psm_np[i,9] - treatment_psm_np[j,9])\n",
    "        if(val < minval):\n",
    "            minval = val\n",
    "            minindex = j\n",
    "    treatment_vals[i] = treatment_psm_np[minindex][8]\n",
    "    distance_vals[i] = minval\n",
    "    \n",
    "\n",
    "#assigning the min value and the expected value of that column\n",
    "control_df_psm['expected_val'] = treatment_vals\n",
    "control_df_psm['distance'] = distance_vals\n",
    "\n",
    "filtered_df = control_df_psm[control_df_psm['distance'] <= 0.01]\n",
    "\n",
    "\n",
    "\n"
   ]
  },
  {
   "cell_type": "code",
   "execution_count": 379,
   "metadata": {},
   "outputs": [],
   "source": [
    "count = len(filtered_df)\n",
    "percentage = count/len(control_df_psm)\n",
    "ATE = (filtered_df['expected_val']-filtered_df['re78']).mean()"
   ]
  },
  {
   "cell_type": "code",
   "execution_count": 380,
   "metadata": {},
   "outputs": [
    {
     "name": "stdout",
     "output_type": "stream",
     "text": [
      "ATE by propensity score matching is -483.6904766666682\n",
      "Count of tuples which can be computed by propensity score matching is 375\n",
      "Percentage of such tuples among all PSID tuples is 0.8741258741258742\n"
     ]
    }
   ],
   "source": [
    "# Run the following code to print out the result\n",
    "print(\"ATE by propensity score matching is \" + str(ATE))\n",
    "print(\"Count of tuples which can be computed by propensity score matching is \" + str(count))\n",
    "print(\"Percentage of such tuples among all PSID tuples is \" + str(percentage))"
   ]
  },
  {
   "cell_type": "markdown",
   "metadata": {},
   "source": [
    "### 2.4 Linear Regression\n",
    "Train two individual models to fit P(y|t = 1,X) and P(y|t = 0,X), then infer the counterfactual outcome using two models while setting treatment to the opposite value. Infer the ATE over the population."
   ]
  },
  {
   "cell_type": "code",
   "execution_count": 376,
   "metadata": {},
   "outputs": [],
   "source": [
    "# Train two individual linear regression models and infer the counterfactual result for each tuple\n",
    "# Output: the value of ATE, over the population\n",
    "from sklearn.linear_model import LinearRegression\n",
    "\n",
    "control_df_lr = lalonde[lalonde['treat'] == 0]\n",
    "treatment_df_lr = lalonde[lalonde['treat'] == 1]\n",
    "\n",
    "y_control = control_df_lr['re78']\n",
    "X_control_lr = control_df_lr.drop(columns=['re78'])\n",
    "\n",
    "y_treat = treatment_df_lr['re78']\n",
    "X_treatment_lr = treatment_df_lr.drop(columns=['re78'])\n",
    "\n",
    "model_control_lr = LinearRegression().fit(X_control_lr, y_control)\n",
    "\n",
    "model_treatment_lr = LinearRegression().fit(X_treatment_lr, y_treat)\n",
    "\n",
    "#cross model predict\n",
    "y_pred_control = model_treatment_lr.predict(X_control_lr)\n",
    "y_pred_treatment = model_control_lr.predict(X_treatment_lr)\n",
    "\n",
    "control_df_lr['predicted'] = y_pred_control\n",
    "treatment_df_lr['predicted'] = y_pred_treatment\n",
    "\n",
    "control_diff = control_df_lr['predicted'] - control_df_lr['re78']\n",
    "treatment_diff = treatment_df_lr['re78'] - treatment_df_lr['predicted']\n",
    "\n"
   ]
  },
  {
   "cell_type": "code",
   "execution_count": 377,
   "metadata": {},
   "outputs": [],
   "source": [
    "ATE = pd.concat([control_diff,treatment_diff],axis=0).mean()\n"
   ]
  },
  {
   "cell_type": "code",
   "execution_count": 378,
   "metadata": {},
   "outputs": [
    {
     "name": "stdout",
     "output_type": "stream",
     "text": [
      "ATE by linear regression is 1074.9085413955147\n"
     ]
    }
   ],
   "source": [
    "# Run following code to print out the result\n",
    "print(\"ATE by linear regression is \" + str(ATE))"
   ]
  },
  {
   "cell_type": "markdown",
   "metadata": {},
   "source": [
    "Please briefly discuss the advantages and disadvantages of the above four approaches."
   ]
  },
  {
   "cell_type": "markdown",
   "metadata": {},
   "source": [
    "**A.** \n",
    "1) Perfect Matching gives the least amount of values, since we check for exact matching pairs. It's advantage is that it computes the perfect coounterfactual for each pair.\n",
    "\n",
    "2) Nearest neighbor works on KNNs, hence gets many values. It gives poor estimates, since it does not include information about untreated units.\n",
    "\n",
    "3) Propensity score matching, matches based on similar observations. It can be used to reasonably predict causal relationships. Disadvantages - It requires a large sample size and high dimensionality, also can increase bias due to unobserved confounders.\n",
    "\n",
    "4) Linear regression takes all elements into consideration, unlike the previous approaches. Disadvantage- needs a large data set to work reasonably.\n"
   ]
  },
  {
   "cell_type": "markdown",
   "metadata": {},
   "source": [
    "## Task 3. DoWhy\n",
    "In this task, you are required to apply DoWhy and analyze the dataset using two ATE estimation methods."
   ]
  },
  {
   "cell_type": "code",
   "execution_count": 292,
   "metadata": {},
   "outputs": [
    {
     "name": "stderr",
     "output_type": "stream",
     "text": [
      "Causal Graph not provided. DoWhy will construct a graph based on data inputs.\n",
      "If this is observed data (not from a randomized experiment), there might always be missing confounders. Adding a node named \"Unobserved Confounders\" to reflect this.\n",
      "Model to find the causal effect of treatment ['treat'] on outcome ['re78']\n"
     ]
    }
   ],
   "source": [
    "from dowhy import CausalModel\n",
    "\n",
    "df_changed = lalonde.astype({\"treat\":bool})\n",
    "model= CausalModel(\n",
    "        data = df_changed,\n",
    "        treatment='treat',\n",
    "        dtype=bool,\n",
    "        outcome='re78',\n",
    "        common_causes='nodegree+black+hispan+age+educ+married'.split('+'))\n"
   ]
  },
  {
   "cell_type": "code",
   "execution_count": 293,
   "metadata": {},
   "outputs": [
    {
     "name": "stderr",
     "output_type": "stream",
     "text": [
      "Common causes of treatment and outcome:['hispan', 'black', 'nodegree', 'married', 'U', 'age', 'educ']\n",
      "If this is observed data (not from a randomized experiment), there might always be missing confounders. Causal effect cannot be identified perfectly.\n"
     ]
    },
    {
     "name": "stdout",
     "output_type": "stream",
     "text": [
      "WARN: Do you want to continue by ignoring any unobserved confounders? (use proceed_when_unidentifiable=True to disable this prompt) [y/n] y\n"
     ]
    },
    {
     "name": "stderr",
     "output_type": "stream",
     "text": [
      "Instrumental variables for treatment and outcome:[]\n",
      "INFO: Using Linear Regression Estimator\n",
      "b: re78~treat+hispan+black+nodegree+married+age+educ\n",
      "INFO: Using Propensity Score Matching Estimator\n",
      "b: re78~treat+hispan+black+nodegree+married+age+educ\n",
      "C:\\Users\\najee\\Anaconda3\\lib\\site-packages\\sklearn\\utils\\validation.py:724: DataConversionWarning: A column-vector y was passed when a 1d array was expected. Please change the shape of y to (n_samples, ), for example using ravel().\n",
      "  y = column_or_1d(y, warn=True)\n",
      "C:\\Users\\najee\\Anaconda3\\lib\\site-packages\\dowhy\\causal_estimators\\propensity_score_matching_estimator.py:62: FutureWarning: `item` has been deprecated and will be removed in a future version\n",
      "  control_outcome = control.iloc[indices[i]][self._outcome_name].item()\n",
      "C:\\Users\\najee\\Anaconda3\\lib\\site-packages\\dowhy\\causal_estimators\\propensity_score_matching_estimator.py:77: FutureWarning: `item` has been deprecated and will be removed in a future version\n",
      "  treated_outcome = treated.iloc[indices[i]][self._outcome_name].item()\n"
     ]
    }
   ],
   "source": [
    "\n",
    "identified_estimand = model.identify_effect()\n",
    "\n",
    "estimate_lr = model.estimate_effect(identified_estimand,\n",
    "        method_name=\"backdoor.linear_regression\")\n",
    "\n",
    "\n",
    "estimate_psm = model.estimate_effect(identified_estimand,\n",
    "        method_name=\"backdoor.propensity_score_matching\")\n",
    "\n",
    "\n",
    "#variable value\n",
    "ATE_linear = estimate_lr.value\n",
    "\n",
    "ATE_psm = estimate_psm.value"
   ]
  },
  {
   "cell_type": "code",
   "execution_count": 294,
   "metadata": {},
   "outputs": [
    {
     "name": "stdout",
     "output_type": "stream",
     "text": [
      "ATE by linear regression is 1163.922354882906\n",
      "ATE by psm is 442.68176307817583\n"
     ]
    }
   ],
   "source": [
    "# Run following code to print out the result\n",
    "print(\"ATE by linear regression is \" + str(ATE_linear))\n",
    "print(\"ATE by psm is \" + str(ATE_psm))"
   ]
  },
  {
   "cell_type": "markdown",
   "metadata": {},
   "source": [
    "Briefly explain why the result by DoWhy is not same as the result by your own implementation."
   ]
  },
  {
   "cell_type": "markdown",
   "metadata": {},
   "source": [
    "**A.** \n",
    "1) We haven't used the \n"
   ]
  },
  {
   "cell_type": "markdown",
   "metadata": {},
   "source": [
    "## Submission"
   ]
  },
  {
   "cell_type": "markdown",
   "metadata": {},
   "source": [
    "Complete the code in this notebook, and submit it to the CourSys activity Assignment 9."
   ]
  }
 ],
 "metadata": {
  "kernelspec": {
   "display_name": "Python 3",
   "language": "python",
   "name": "python3"
  },
  "language_info": {
   "codemirror_mode": {
    "name": "ipython",
    "version": 3
   },
   "file_extension": ".py",
   "mimetype": "text/x-python",
   "name": "python",
   "nbconvert_exporter": "python",
   "pygments_lexer": "ipython3",
   "version": "3.7.3"
  }
 },
 "nbformat": 4,
 "nbformat_minor": 2
}
